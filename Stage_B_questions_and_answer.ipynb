{
  "cells": [
    {
      "cell_type": "markdown",
      "metadata": {
        "id": "view-in-github",
        "colab_type": "text"
      },
      "source": [
        "<a href=\"https://colab.research.google.com/github/victorsamson191/HDSC-Introduction-to-Python-for-machine-learning/blob/master/Stage_B_questions_and_answer.ipynb\" target=\"_parent\"><img src=\"https://colab.research.google.com/assets/colab-badge.svg\" alt=\"Open In Colab\"/></a>"
      ]
    },
    {
      "cell_type": "code",
      "execution_count": null,
      "id": "2fe6e949",
      "metadata": {
        "id": "2fe6e949"
      },
      "outputs": [],
      "source": [
        "import json\n",
        "import pandas as pd\n",
        "import numpy as np\n",
        "import matplotlib.pyplot as plt\n",
        "import seaborn as sns\n",
        "import scipy\n",
        "import requests\n",
        "from bs4 import BeautifulSoup \n",
        "from requests_futures.sessions import FuturesSession\n",
        "from sklearn.linear_model import*\n",
        "from sklearn import*\n",
        "from sklearn.linear_model import LinearRegression"
      ]
    },
    {
      "cell_type": "code",
      "execution_count": null,
      "id": "236af648",
      "metadata": {
        "id": "236af648"
      },
      "outputs": [],
      "source": [
        "# first I download the online file file as df_1 and check the description and th info"
      ]
    },
    {
      "cell_type": "code",
      "execution_count": null,
      "id": "0ceaf00d",
      "metadata": {
        "id": "0ceaf00d",
        "outputId": "f742f488-6b0e-49a7-8afb-180f381052df"
      },
      "outputs": [
        {
          "data": {
            "text/html": [
              "<div>\n",
              "<style scoped>\n",
              "    .dataframe tbody tr th:only-of-type {\n",
              "        vertical-align: middle;\n",
              "    }\n",
              "\n",
              "    .dataframe tbody tr th {\n",
              "        vertical-align: top;\n",
              "    }\n",
              "\n",
              "    .dataframe thead th {\n",
              "        text-align: right;\n",
              "    }\n",
              "</style>\n",
              "<table border=\"1\" class=\"dataframe\">\n",
              "  <thead>\n",
              "    <tr style=\"text-align: right;\">\n",
              "      <th></th>\n",
              "      <th>date</th>\n",
              "      <th>Appliances</th>\n",
              "      <th>lights</th>\n",
              "      <th>T1</th>\n",
              "      <th>RH_1</th>\n",
              "      <th>T2</th>\n",
              "      <th>RH_2</th>\n",
              "      <th>T3</th>\n",
              "      <th>RH_3</th>\n",
              "      <th>T4</th>\n",
              "      <th>...</th>\n",
              "      <th>T9</th>\n",
              "      <th>RH_9</th>\n",
              "      <th>T_out</th>\n",
              "      <th>Press_mm_hg</th>\n",
              "      <th>RH_out</th>\n",
              "      <th>Windspeed</th>\n",
              "      <th>Visibility</th>\n",
              "      <th>Tdewpoint</th>\n",
              "      <th>rv1</th>\n",
              "      <th>rv2</th>\n",
              "    </tr>\n",
              "  </thead>\n",
              "  <tbody>\n",
              "    <tr>\n",
              "      <th>0</th>\n",
              "      <td>2016-01-11 17:00:00</td>\n",
              "      <td>60</td>\n",
              "      <td>30</td>\n",
              "      <td>19.89</td>\n",
              "      <td>47.596667</td>\n",
              "      <td>19.2</td>\n",
              "      <td>44.790000</td>\n",
              "      <td>19.79</td>\n",
              "      <td>44.730000</td>\n",
              "      <td>19.000000</td>\n",
              "      <td>...</td>\n",
              "      <td>17.033333</td>\n",
              "      <td>45.53</td>\n",
              "      <td>6.600000</td>\n",
              "      <td>733.5</td>\n",
              "      <td>92.0</td>\n",
              "      <td>7.000000</td>\n",
              "      <td>63.000000</td>\n",
              "      <td>5.3</td>\n",
              "      <td>13.275433</td>\n",
              "      <td>13.275433</td>\n",
              "    </tr>\n",
              "    <tr>\n",
              "      <th>1</th>\n",
              "      <td>2016-01-11 17:10:00</td>\n",
              "      <td>60</td>\n",
              "      <td>30</td>\n",
              "      <td>19.89</td>\n",
              "      <td>46.693333</td>\n",
              "      <td>19.2</td>\n",
              "      <td>44.722500</td>\n",
              "      <td>19.79</td>\n",
              "      <td>44.790000</td>\n",
              "      <td>19.000000</td>\n",
              "      <td>...</td>\n",
              "      <td>17.066667</td>\n",
              "      <td>45.56</td>\n",
              "      <td>6.483333</td>\n",
              "      <td>733.6</td>\n",
              "      <td>92.0</td>\n",
              "      <td>6.666667</td>\n",
              "      <td>59.166667</td>\n",
              "      <td>5.2</td>\n",
              "      <td>18.606195</td>\n",
              "      <td>18.606195</td>\n",
              "    </tr>\n",
              "    <tr>\n",
              "      <th>2</th>\n",
              "      <td>2016-01-11 17:20:00</td>\n",
              "      <td>50</td>\n",
              "      <td>30</td>\n",
              "      <td>19.89</td>\n",
              "      <td>46.300000</td>\n",
              "      <td>19.2</td>\n",
              "      <td>44.626667</td>\n",
              "      <td>19.79</td>\n",
              "      <td>44.933333</td>\n",
              "      <td>18.926667</td>\n",
              "      <td>...</td>\n",
              "      <td>17.000000</td>\n",
              "      <td>45.50</td>\n",
              "      <td>6.366667</td>\n",
              "      <td>733.7</td>\n",
              "      <td>92.0</td>\n",
              "      <td>6.333333</td>\n",
              "      <td>55.333333</td>\n",
              "      <td>5.1</td>\n",
              "      <td>28.642668</td>\n",
              "      <td>28.642668</td>\n",
              "    </tr>\n",
              "  </tbody>\n",
              "</table>\n",
              "<p>3 rows × 29 columns</p>\n",
              "</div>"
            ],
            "text/plain": [
              "                  date  Appliances  lights     T1       RH_1    T2       RH_2  \\\n",
              "0  2016-01-11 17:00:00          60      30  19.89  47.596667  19.2  44.790000   \n",
              "1  2016-01-11 17:10:00          60      30  19.89  46.693333  19.2  44.722500   \n",
              "2  2016-01-11 17:20:00          50      30  19.89  46.300000  19.2  44.626667   \n",
              "\n",
              "      T3       RH_3         T4  ...         T9   RH_9     T_out  Press_mm_hg  \\\n",
              "0  19.79  44.730000  19.000000  ...  17.033333  45.53  6.600000        733.5   \n",
              "1  19.79  44.790000  19.000000  ...  17.066667  45.56  6.483333        733.6   \n",
              "2  19.79  44.933333  18.926667  ...  17.000000  45.50  6.366667        733.7   \n",
              "\n",
              "   RH_out  Windspeed  Visibility  Tdewpoint        rv1        rv2  \n",
              "0    92.0   7.000000   63.000000        5.3  13.275433  13.275433  \n",
              "1    92.0   6.666667   59.166667        5.2  18.606195  18.606195  \n",
              "2    92.0   6.333333   55.333333        5.1  28.642668  28.642668  \n",
              "\n",
              "[3 rows x 29 columns]"
            ]
          },
          "execution_count": 150,
          "metadata": {},
          "output_type": "execute_result"
        }
      ],
      "source": [
        "df_1 = pd.read_csv('energydata_complete (1).csv')\n",
        "df_1.head(3)"
      ]
    },
    {
      "cell_type": "code",
      "execution_count": null,
      "id": "68f42880",
      "metadata": {
        "id": "68f42880",
        "outputId": "68af2a9f-2a6b-4859-b1e2-681015fe3f26"
      },
      "outputs": [
        {
          "data": {
            "text/html": [
              "<div>\n",
              "<style scoped>\n",
              "    .dataframe tbody tr th:only-of-type {\n",
              "        vertical-align: middle;\n",
              "    }\n",
              "\n",
              "    .dataframe tbody tr th {\n",
              "        vertical-align: top;\n",
              "    }\n",
              "\n",
              "    .dataframe thead th {\n",
              "        text-align: right;\n",
              "    }\n",
              "</style>\n",
              "<table border=\"1\" class=\"dataframe\">\n",
              "  <thead>\n",
              "    <tr style=\"text-align: right;\">\n",
              "      <th></th>\n",
              "      <th>Appliances</th>\n",
              "      <th>lights</th>\n",
              "      <th>T1</th>\n",
              "      <th>RH_1</th>\n",
              "      <th>T2</th>\n",
              "      <th>RH_2</th>\n",
              "      <th>T3</th>\n",
              "      <th>RH_3</th>\n",
              "      <th>T4</th>\n",
              "      <th>RH_4</th>\n",
              "      <th>...</th>\n",
              "      <th>T9</th>\n",
              "      <th>RH_9</th>\n",
              "      <th>T_out</th>\n",
              "      <th>Press_mm_hg</th>\n",
              "      <th>RH_out</th>\n",
              "      <th>Windspeed</th>\n",
              "      <th>Visibility</th>\n",
              "      <th>Tdewpoint</th>\n",
              "      <th>rv1</th>\n",
              "      <th>rv2</th>\n",
              "    </tr>\n",
              "  </thead>\n",
              "  <tbody>\n",
              "    <tr>\n",
              "      <th>count</th>\n",
              "      <td>19735.000000</td>\n",
              "      <td>19735.000000</td>\n",
              "      <td>19735.000000</td>\n",
              "      <td>19735.000000</td>\n",
              "      <td>19735.000000</td>\n",
              "      <td>19735.000000</td>\n",
              "      <td>19735.000000</td>\n",
              "      <td>19735.000000</td>\n",
              "      <td>19735.000000</td>\n",
              "      <td>19735.000000</td>\n",
              "      <td>...</td>\n",
              "      <td>19735.000000</td>\n",
              "      <td>19735.000000</td>\n",
              "      <td>19735.000000</td>\n",
              "      <td>19735.000000</td>\n",
              "      <td>19735.000000</td>\n",
              "      <td>19735.000000</td>\n",
              "      <td>19735.000000</td>\n",
              "      <td>19735.000000</td>\n",
              "      <td>19735.000000</td>\n",
              "      <td>19735.000000</td>\n",
              "    </tr>\n",
              "    <tr>\n",
              "      <th>mean</th>\n",
              "      <td>97.694958</td>\n",
              "      <td>3.801875</td>\n",
              "      <td>21.686571</td>\n",
              "      <td>40.259739</td>\n",
              "      <td>20.341219</td>\n",
              "      <td>40.420420</td>\n",
              "      <td>22.267611</td>\n",
              "      <td>39.242500</td>\n",
              "      <td>20.855335</td>\n",
              "      <td>39.026904</td>\n",
              "      <td>...</td>\n",
              "      <td>19.485828</td>\n",
              "      <td>41.552401</td>\n",
              "      <td>7.411665</td>\n",
              "      <td>755.522602</td>\n",
              "      <td>79.750418</td>\n",
              "      <td>4.039752</td>\n",
              "      <td>38.330834</td>\n",
              "      <td>3.760707</td>\n",
              "      <td>24.988033</td>\n",
              "      <td>24.988033</td>\n",
              "    </tr>\n",
              "    <tr>\n",
              "      <th>std</th>\n",
              "      <td>102.524891</td>\n",
              "      <td>7.935988</td>\n",
              "      <td>1.606066</td>\n",
              "      <td>3.979299</td>\n",
              "      <td>2.192974</td>\n",
              "      <td>4.069813</td>\n",
              "      <td>2.006111</td>\n",
              "      <td>3.254576</td>\n",
              "      <td>2.042884</td>\n",
              "      <td>4.341321</td>\n",
              "      <td>...</td>\n",
              "      <td>2.014712</td>\n",
              "      <td>4.151497</td>\n",
              "      <td>5.317409</td>\n",
              "      <td>7.399441</td>\n",
              "      <td>14.901088</td>\n",
              "      <td>2.451221</td>\n",
              "      <td>11.794719</td>\n",
              "      <td>4.194648</td>\n",
              "      <td>14.496634</td>\n",
              "      <td>14.496634</td>\n",
              "    </tr>\n",
              "    <tr>\n",
              "      <th>min</th>\n",
              "      <td>10.000000</td>\n",
              "      <td>0.000000</td>\n",
              "      <td>16.790000</td>\n",
              "      <td>27.023333</td>\n",
              "      <td>16.100000</td>\n",
              "      <td>20.463333</td>\n",
              "      <td>17.200000</td>\n",
              "      <td>28.766667</td>\n",
              "      <td>15.100000</td>\n",
              "      <td>27.660000</td>\n",
              "      <td>...</td>\n",
              "      <td>14.890000</td>\n",
              "      <td>29.166667</td>\n",
              "      <td>-5.000000</td>\n",
              "      <td>729.300000</td>\n",
              "      <td>24.000000</td>\n",
              "      <td>0.000000</td>\n",
              "      <td>1.000000</td>\n",
              "      <td>-6.600000</td>\n",
              "      <td>0.005322</td>\n",
              "      <td>0.005322</td>\n",
              "    </tr>\n",
              "    <tr>\n",
              "      <th>25%</th>\n",
              "      <td>50.000000</td>\n",
              "      <td>0.000000</td>\n",
              "      <td>20.760000</td>\n",
              "      <td>37.333333</td>\n",
              "      <td>18.790000</td>\n",
              "      <td>37.900000</td>\n",
              "      <td>20.790000</td>\n",
              "      <td>36.900000</td>\n",
              "      <td>19.530000</td>\n",
              "      <td>35.530000</td>\n",
              "      <td>...</td>\n",
              "      <td>18.000000</td>\n",
              "      <td>38.500000</td>\n",
              "      <td>3.666667</td>\n",
              "      <td>750.933333</td>\n",
              "      <td>70.333333</td>\n",
              "      <td>2.000000</td>\n",
              "      <td>29.000000</td>\n",
              "      <td>0.900000</td>\n",
              "      <td>12.497889</td>\n",
              "      <td>12.497889</td>\n",
              "    </tr>\n",
              "    <tr>\n",
              "      <th>50%</th>\n",
              "      <td>60.000000</td>\n",
              "      <td>0.000000</td>\n",
              "      <td>21.600000</td>\n",
              "      <td>39.656667</td>\n",
              "      <td>20.000000</td>\n",
              "      <td>40.500000</td>\n",
              "      <td>22.100000</td>\n",
              "      <td>38.530000</td>\n",
              "      <td>20.666667</td>\n",
              "      <td>38.400000</td>\n",
              "      <td>...</td>\n",
              "      <td>19.390000</td>\n",
              "      <td>40.900000</td>\n",
              "      <td>6.916667</td>\n",
              "      <td>756.100000</td>\n",
              "      <td>83.666667</td>\n",
              "      <td>3.666667</td>\n",
              "      <td>40.000000</td>\n",
              "      <td>3.433333</td>\n",
              "      <td>24.897653</td>\n",
              "      <td>24.897653</td>\n",
              "    </tr>\n",
              "    <tr>\n",
              "      <th>75%</th>\n",
              "      <td>100.000000</td>\n",
              "      <td>0.000000</td>\n",
              "      <td>22.600000</td>\n",
              "      <td>43.066667</td>\n",
              "      <td>21.500000</td>\n",
              "      <td>43.260000</td>\n",
              "      <td>23.290000</td>\n",
              "      <td>41.760000</td>\n",
              "      <td>22.100000</td>\n",
              "      <td>42.156667</td>\n",
              "      <td>...</td>\n",
              "      <td>20.600000</td>\n",
              "      <td>44.338095</td>\n",
              "      <td>10.408333</td>\n",
              "      <td>760.933333</td>\n",
              "      <td>91.666667</td>\n",
              "      <td>5.500000</td>\n",
              "      <td>40.000000</td>\n",
              "      <td>6.566667</td>\n",
              "      <td>37.583769</td>\n",
              "      <td>37.583769</td>\n",
              "    </tr>\n",
              "    <tr>\n",
              "      <th>max</th>\n",
              "      <td>1080.000000</td>\n",
              "      <td>70.000000</td>\n",
              "      <td>26.260000</td>\n",
              "      <td>63.360000</td>\n",
              "      <td>29.856667</td>\n",
              "      <td>56.026667</td>\n",
              "      <td>29.236000</td>\n",
              "      <td>50.163333</td>\n",
              "      <td>26.200000</td>\n",
              "      <td>51.090000</td>\n",
              "      <td>...</td>\n",
              "      <td>24.500000</td>\n",
              "      <td>53.326667</td>\n",
              "      <td>26.100000</td>\n",
              "      <td>772.300000</td>\n",
              "      <td>100.000000</td>\n",
              "      <td>14.000000</td>\n",
              "      <td>66.000000</td>\n",
              "      <td>15.500000</td>\n",
              "      <td>49.996530</td>\n",
              "      <td>49.996530</td>\n",
              "    </tr>\n",
              "  </tbody>\n",
              "</table>\n",
              "<p>8 rows × 28 columns</p>\n",
              "</div>"
            ],
            "text/plain": [
              "         Appliances        lights            T1          RH_1            T2  \\\n",
              "count  19735.000000  19735.000000  19735.000000  19735.000000  19735.000000   \n",
              "mean      97.694958      3.801875     21.686571     40.259739     20.341219   \n",
              "std      102.524891      7.935988      1.606066      3.979299      2.192974   \n",
              "min       10.000000      0.000000     16.790000     27.023333     16.100000   \n",
              "25%       50.000000      0.000000     20.760000     37.333333     18.790000   \n",
              "50%       60.000000      0.000000     21.600000     39.656667     20.000000   \n",
              "75%      100.000000      0.000000     22.600000     43.066667     21.500000   \n",
              "max     1080.000000     70.000000     26.260000     63.360000     29.856667   \n",
              "\n",
              "               RH_2            T3          RH_3            T4          RH_4  \\\n",
              "count  19735.000000  19735.000000  19735.000000  19735.000000  19735.000000   \n",
              "mean      40.420420     22.267611     39.242500     20.855335     39.026904   \n",
              "std        4.069813      2.006111      3.254576      2.042884      4.341321   \n",
              "min       20.463333     17.200000     28.766667     15.100000     27.660000   \n",
              "25%       37.900000     20.790000     36.900000     19.530000     35.530000   \n",
              "50%       40.500000     22.100000     38.530000     20.666667     38.400000   \n",
              "75%       43.260000     23.290000     41.760000     22.100000     42.156667   \n",
              "max       56.026667     29.236000     50.163333     26.200000     51.090000   \n",
              "\n",
              "       ...            T9          RH_9         T_out   Press_mm_hg  \\\n",
              "count  ...  19735.000000  19735.000000  19735.000000  19735.000000   \n",
              "mean   ...     19.485828     41.552401      7.411665    755.522602   \n",
              "std    ...      2.014712      4.151497      5.317409      7.399441   \n",
              "min    ...     14.890000     29.166667     -5.000000    729.300000   \n",
              "25%    ...     18.000000     38.500000      3.666667    750.933333   \n",
              "50%    ...     19.390000     40.900000      6.916667    756.100000   \n",
              "75%    ...     20.600000     44.338095     10.408333    760.933333   \n",
              "max    ...     24.500000     53.326667     26.100000    772.300000   \n",
              "\n",
              "             RH_out     Windspeed    Visibility     Tdewpoint           rv1  \\\n",
              "count  19735.000000  19735.000000  19735.000000  19735.000000  19735.000000   \n",
              "mean      79.750418      4.039752     38.330834      3.760707     24.988033   \n",
              "std       14.901088      2.451221     11.794719      4.194648     14.496634   \n",
              "min       24.000000      0.000000      1.000000     -6.600000      0.005322   \n",
              "25%       70.333333      2.000000     29.000000      0.900000     12.497889   \n",
              "50%       83.666667      3.666667     40.000000      3.433333     24.897653   \n",
              "75%       91.666667      5.500000     40.000000      6.566667     37.583769   \n",
              "max      100.000000     14.000000     66.000000     15.500000     49.996530   \n",
              "\n",
              "                rv2  \n",
              "count  19735.000000  \n",
              "mean      24.988033  \n",
              "std       14.496634  \n",
              "min        0.005322  \n",
              "25%       12.497889  \n",
              "50%       24.897653  \n",
              "75%       37.583769  \n",
              "max       49.996530  \n",
              "\n",
              "[8 rows x 28 columns]"
            ]
          },
          "execution_count": 151,
          "metadata": {},
          "output_type": "execute_result"
        }
      ],
      "source": [
        "df_1.describe()"
      ]
    },
    {
      "cell_type": "code",
      "execution_count": null,
      "id": "8d01f0f9",
      "metadata": {
        "id": "8d01f0f9",
        "outputId": "3391c232-9bc1-4421-b708-6565a0431b0e"
      },
      "outputs": [
        {
          "data": {
            "text/html": [
              "<div>\n",
              "<style scoped>\n",
              "    .dataframe tbody tr th:only-of-type {\n",
              "        vertical-align: middle;\n",
              "    }\n",
              "\n",
              "    .dataframe tbody tr th {\n",
              "        vertical-align: top;\n",
              "    }\n",
              "\n",
              "    .dataframe thead th {\n",
              "        text-align: right;\n",
              "    }\n",
              "</style>\n",
              "<table border=\"1\" class=\"dataframe\">\n",
              "  <thead>\n",
              "    <tr style=\"text-align: right;\">\n",
              "      <th></th>\n",
              "      <th>Appliances</th>\n",
              "      <th>lights</th>\n",
              "      <th>T1</th>\n",
              "      <th>RH_1</th>\n",
              "      <th>T2</th>\n",
              "      <th>RH_2</th>\n",
              "      <th>T3</th>\n",
              "      <th>RH_3</th>\n",
              "      <th>T4</th>\n",
              "      <th>RH_4</th>\n",
              "      <th>...</th>\n",
              "      <th>T9</th>\n",
              "      <th>RH_9</th>\n",
              "      <th>T_out</th>\n",
              "      <th>Press_mm_hg</th>\n",
              "      <th>RH_out</th>\n",
              "      <th>Windspeed</th>\n",
              "      <th>Visibility</th>\n",
              "      <th>Tdewpoint</th>\n",
              "      <th>rv1</th>\n",
              "      <th>rv2</th>\n",
              "    </tr>\n",
              "  </thead>\n",
              "  <tbody>\n",
              "    <tr>\n",
              "      <th>count</th>\n",
              "      <td>19735.000000</td>\n",
              "      <td>19735.000000</td>\n",
              "      <td>19735.000000</td>\n",
              "      <td>19735.000000</td>\n",
              "      <td>19735.000000</td>\n",
              "      <td>19735.000000</td>\n",
              "      <td>19735.000000</td>\n",
              "      <td>19735.000000</td>\n",
              "      <td>19735.000000</td>\n",
              "      <td>19735.000000</td>\n",
              "      <td>...</td>\n",
              "      <td>19735.000000</td>\n",
              "      <td>19735.000000</td>\n",
              "      <td>19735.000000</td>\n",
              "      <td>19735.000000</td>\n",
              "      <td>19735.000000</td>\n",
              "      <td>19735.000000</td>\n",
              "      <td>19735.000000</td>\n",
              "      <td>19735.000000</td>\n",
              "      <td>19735.000000</td>\n",
              "      <td>19735.000000</td>\n",
              "    </tr>\n",
              "    <tr>\n",
              "      <th>mean</th>\n",
              "      <td>97.694958</td>\n",
              "      <td>3.801875</td>\n",
              "      <td>21.686571</td>\n",
              "      <td>40.259739</td>\n",
              "      <td>20.341219</td>\n",
              "      <td>40.420420</td>\n",
              "      <td>22.267611</td>\n",
              "      <td>39.242500</td>\n",
              "      <td>20.855335</td>\n",
              "      <td>39.026904</td>\n",
              "      <td>...</td>\n",
              "      <td>19.485828</td>\n",
              "      <td>41.552401</td>\n",
              "      <td>7.411665</td>\n",
              "      <td>755.522602</td>\n",
              "      <td>79.750418</td>\n",
              "      <td>4.039752</td>\n",
              "      <td>38.330834</td>\n",
              "      <td>3.760707</td>\n",
              "      <td>24.988033</td>\n",
              "      <td>24.988033</td>\n",
              "    </tr>\n",
              "    <tr>\n",
              "      <th>std</th>\n",
              "      <td>102.524891</td>\n",
              "      <td>7.935988</td>\n",
              "      <td>1.606066</td>\n",
              "      <td>3.979299</td>\n",
              "      <td>2.192974</td>\n",
              "      <td>4.069813</td>\n",
              "      <td>2.006111</td>\n",
              "      <td>3.254576</td>\n",
              "      <td>2.042884</td>\n",
              "      <td>4.341321</td>\n",
              "      <td>...</td>\n",
              "      <td>2.014712</td>\n",
              "      <td>4.151497</td>\n",
              "      <td>5.317409</td>\n",
              "      <td>7.399441</td>\n",
              "      <td>14.901088</td>\n",
              "      <td>2.451221</td>\n",
              "      <td>11.794719</td>\n",
              "      <td>4.194648</td>\n",
              "      <td>14.496634</td>\n",
              "      <td>14.496634</td>\n",
              "    </tr>\n",
              "    <tr>\n",
              "      <th>min</th>\n",
              "      <td>10.000000</td>\n",
              "      <td>0.000000</td>\n",
              "      <td>16.790000</td>\n",
              "      <td>27.023333</td>\n",
              "      <td>16.100000</td>\n",
              "      <td>20.463333</td>\n",
              "      <td>17.200000</td>\n",
              "      <td>28.766667</td>\n",
              "      <td>15.100000</td>\n",
              "      <td>27.660000</td>\n",
              "      <td>...</td>\n",
              "      <td>14.890000</td>\n",
              "      <td>29.166667</td>\n",
              "      <td>-5.000000</td>\n",
              "      <td>729.300000</td>\n",
              "      <td>24.000000</td>\n",
              "      <td>0.000000</td>\n",
              "      <td>1.000000</td>\n",
              "      <td>-6.600000</td>\n",
              "      <td>0.005322</td>\n",
              "      <td>0.005322</td>\n",
              "    </tr>\n",
              "    <tr>\n",
              "      <th>25%</th>\n",
              "      <td>50.000000</td>\n",
              "      <td>0.000000</td>\n",
              "      <td>20.760000</td>\n",
              "      <td>37.333333</td>\n",
              "      <td>18.790000</td>\n",
              "      <td>37.900000</td>\n",
              "      <td>20.790000</td>\n",
              "      <td>36.900000</td>\n",
              "      <td>19.530000</td>\n",
              "      <td>35.530000</td>\n",
              "      <td>...</td>\n",
              "      <td>18.000000</td>\n",
              "      <td>38.500000</td>\n",
              "      <td>3.666667</td>\n",
              "      <td>750.933333</td>\n",
              "      <td>70.333333</td>\n",
              "      <td>2.000000</td>\n",
              "      <td>29.000000</td>\n",
              "      <td>0.900000</td>\n",
              "      <td>12.497889</td>\n",
              "      <td>12.497889</td>\n",
              "    </tr>\n",
              "  </tbody>\n",
              "</table>\n",
              "<p>5 rows × 28 columns</p>\n",
              "</div>"
            ],
            "text/plain": [
              "         Appliances        lights            T1          RH_1            T2  \\\n",
              "count  19735.000000  19735.000000  19735.000000  19735.000000  19735.000000   \n",
              "mean      97.694958      3.801875     21.686571     40.259739     20.341219   \n",
              "std      102.524891      7.935988      1.606066      3.979299      2.192974   \n",
              "min       10.000000      0.000000     16.790000     27.023333     16.100000   \n",
              "25%       50.000000      0.000000     20.760000     37.333333     18.790000   \n",
              "\n",
              "               RH_2            T3          RH_3            T4          RH_4  \\\n",
              "count  19735.000000  19735.000000  19735.000000  19735.000000  19735.000000   \n",
              "mean      40.420420     22.267611     39.242500     20.855335     39.026904   \n",
              "std        4.069813      2.006111      3.254576      2.042884      4.341321   \n",
              "min       20.463333     17.200000     28.766667     15.100000     27.660000   \n",
              "25%       37.900000     20.790000     36.900000     19.530000     35.530000   \n",
              "\n",
              "       ...            T9          RH_9         T_out   Press_mm_hg  \\\n",
              "count  ...  19735.000000  19735.000000  19735.000000  19735.000000   \n",
              "mean   ...     19.485828     41.552401      7.411665    755.522602   \n",
              "std    ...      2.014712      4.151497      5.317409      7.399441   \n",
              "min    ...     14.890000     29.166667     -5.000000    729.300000   \n",
              "25%    ...     18.000000     38.500000      3.666667    750.933333   \n",
              "\n",
              "             RH_out     Windspeed    Visibility     Tdewpoint           rv1  \\\n",
              "count  19735.000000  19735.000000  19735.000000  19735.000000  19735.000000   \n",
              "mean      79.750418      4.039752     38.330834      3.760707     24.988033   \n",
              "std       14.901088      2.451221     11.794719      4.194648     14.496634   \n",
              "min       24.000000      0.000000      1.000000     -6.600000      0.005322   \n",
              "25%       70.333333      2.000000     29.000000      0.900000     12.497889   \n",
              "\n",
              "                rv2  \n",
              "count  19735.000000  \n",
              "mean      24.988033  \n",
              "std       14.496634  \n",
              "min        0.005322  \n",
              "25%       12.497889  \n",
              "\n",
              "[5 rows x 28 columns]"
            ]
          },
          "execution_count": 152,
          "metadata": {},
          "output_type": "execute_result"
        }
      ],
      "source": [
        "df_1.describe().head()"
      ]
    },
    {
      "cell_type": "code",
      "execution_count": null,
      "id": "b1e66004",
      "metadata": {
        "id": "b1e66004",
        "outputId": "8d1d22a8-6f55-4681-8e22-9cc33720071b"
      },
      "outputs": [
        {
          "data": {
            "text/html": [
              "<div>\n",
              "<style scoped>\n",
              "    .dataframe tbody tr th:only-of-type {\n",
              "        vertical-align: middle;\n",
              "    }\n",
              "\n",
              "    .dataframe tbody tr th {\n",
              "        vertical-align: top;\n",
              "    }\n",
              "\n",
              "    .dataframe thead th {\n",
              "        text-align: right;\n",
              "    }\n",
              "</style>\n",
              "<table border=\"1\" class=\"dataframe\">\n",
              "  <thead>\n",
              "    <tr style=\"text-align: right;\">\n",
              "      <th></th>\n",
              "      <th>Appliances</th>\n",
              "      <th>lights</th>\n",
              "      <th>T1</th>\n",
              "      <th>RH_1</th>\n",
              "      <th>T2</th>\n",
              "      <th>RH_2</th>\n",
              "      <th>T3</th>\n",
              "      <th>RH_3</th>\n",
              "      <th>T4</th>\n",
              "      <th>RH_4</th>\n",
              "      <th>...</th>\n",
              "      <th>T9</th>\n",
              "      <th>RH_9</th>\n",
              "      <th>T_out</th>\n",
              "      <th>Press_mm_hg</th>\n",
              "      <th>RH_out</th>\n",
              "      <th>Windspeed</th>\n",
              "      <th>Visibility</th>\n",
              "      <th>Tdewpoint</th>\n",
              "      <th>rv1</th>\n",
              "      <th>rv2</th>\n",
              "    </tr>\n",
              "  </thead>\n",
              "  <tbody>\n",
              "    <tr>\n",
              "      <th>min</th>\n",
              "      <td>10.0</td>\n",
              "      <td>0.0</td>\n",
              "      <td>16.79</td>\n",
              "      <td>27.023333</td>\n",
              "      <td>16.100000</td>\n",
              "      <td>20.463333</td>\n",
              "      <td>17.200</td>\n",
              "      <td>28.766667</td>\n",
              "      <td>15.100000</td>\n",
              "      <td>27.660000</td>\n",
              "      <td>...</td>\n",
              "      <td>14.89</td>\n",
              "      <td>29.166667</td>\n",
              "      <td>-5.000000</td>\n",
              "      <td>729.300000</td>\n",
              "      <td>24.000000</td>\n",
              "      <td>0.000000</td>\n",
              "      <td>1.0</td>\n",
              "      <td>-6.600000</td>\n",
              "      <td>0.005322</td>\n",
              "      <td>0.005322</td>\n",
              "    </tr>\n",
              "    <tr>\n",
              "      <th>25%</th>\n",
              "      <td>50.0</td>\n",
              "      <td>0.0</td>\n",
              "      <td>20.76</td>\n",
              "      <td>37.333333</td>\n",
              "      <td>18.790000</td>\n",
              "      <td>37.900000</td>\n",
              "      <td>20.790</td>\n",
              "      <td>36.900000</td>\n",
              "      <td>19.530000</td>\n",
              "      <td>35.530000</td>\n",
              "      <td>...</td>\n",
              "      <td>18.00</td>\n",
              "      <td>38.500000</td>\n",
              "      <td>3.666667</td>\n",
              "      <td>750.933333</td>\n",
              "      <td>70.333333</td>\n",
              "      <td>2.000000</td>\n",
              "      <td>29.0</td>\n",
              "      <td>0.900000</td>\n",
              "      <td>12.497889</td>\n",
              "      <td>12.497889</td>\n",
              "    </tr>\n",
              "    <tr>\n",
              "      <th>50%</th>\n",
              "      <td>60.0</td>\n",
              "      <td>0.0</td>\n",
              "      <td>21.60</td>\n",
              "      <td>39.656667</td>\n",
              "      <td>20.000000</td>\n",
              "      <td>40.500000</td>\n",
              "      <td>22.100</td>\n",
              "      <td>38.530000</td>\n",
              "      <td>20.666667</td>\n",
              "      <td>38.400000</td>\n",
              "      <td>...</td>\n",
              "      <td>19.39</td>\n",
              "      <td>40.900000</td>\n",
              "      <td>6.916667</td>\n",
              "      <td>756.100000</td>\n",
              "      <td>83.666667</td>\n",
              "      <td>3.666667</td>\n",
              "      <td>40.0</td>\n",
              "      <td>3.433333</td>\n",
              "      <td>24.897653</td>\n",
              "      <td>24.897653</td>\n",
              "    </tr>\n",
              "    <tr>\n",
              "      <th>75%</th>\n",
              "      <td>100.0</td>\n",
              "      <td>0.0</td>\n",
              "      <td>22.60</td>\n",
              "      <td>43.066667</td>\n",
              "      <td>21.500000</td>\n",
              "      <td>43.260000</td>\n",
              "      <td>23.290</td>\n",
              "      <td>41.760000</td>\n",
              "      <td>22.100000</td>\n",
              "      <td>42.156667</td>\n",
              "      <td>...</td>\n",
              "      <td>20.60</td>\n",
              "      <td>44.338095</td>\n",
              "      <td>10.408333</td>\n",
              "      <td>760.933333</td>\n",
              "      <td>91.666667</td>\n",
              "      <td>5.500000</td>\n",
              "      <td>40.0</td>\n",
              "      <td>6.566667</td>\n",
              "      <td>37.583769</td>\n",
              "      <td>37.583769</td>\n",
              "    </tr>\n",
              "    <tr>\n",
              "      <th>max</th>\n",
              "      <td>1080.0</td>\n",
              "      <td>70.0</td>\n",
              "      <td>26.26</td>\n",
              "      <td>63.360000</td>\n",
              "      <td>29.856667</td>\n",
              "      <td>56.026667</td>\n",
              "      <td>29.236</td>\n",
              "      <td>50.163333</td>\n",
              "      <td>26.200000</td>\n",
              "      <td>51.090000</td>\n",
              "      <td>...</td>\n",
              "      <td>24.50</td>\n",
              "      <td>53.326667</td>\n",
              "      <td>26.100000</td>\n",
              "      <td>772.300000</td>\n",
              "      <td>100.000000</td>\n",
              "      <td>14.000000</td>\n",
              "      <td>66.0</td>\n",
              "      <td>15.500000</td>\n",
              "      <td>49.996530</td>\n",
              "      <td>49.996530</td>\n",
              "    </tr>\n",
              "  </tbody>\n",
              "</table>\n",
              "<p>5 rows × 28 columns</p>\n",
              "</div>"
            ],
            "text/plain": [
              "     Appliances  lights     T1       RH_1         T2       RH_2      T3  \\\n",
              "min        10.0     0.0  16.79  27.023333  16.100000  20.463333  17.200   \n",
              "25%        50.0     0.0  20.76  37.333333  18.790000  37.900000  20.790   \n",
              "50%        60.0     0.0  21.60  39.656667  20.000000  40.500000  22.100   \n",
              "75%       100.0     0.0  22.60  43.066667  21.500000  43.260000  23.290   \n",
              "max      1080.0    70.0  26.26  63.360000  29.856667  56.026667  29.236   \n",
              "\n",
              "          RH_3         T4       RH_4  ...     T9       RH_9      T_out  \\\n",
              "min  28.766667  15.100000  27.660000  ...  14.89  29.166667  -5.000000   \n",
              "25%  36.900000  19.530000  35.530000  ...  18.00  38.500000   3.666667   \n",
              "50%  38.530000  20.666667  38.400000  ...  19.39  40.900000   6.916667   \n",
              "75%  41.760000  22.100000  42.156667  ...  20.60  44.338095  10.408333   \n",
              "max  50.163333  26.200000  51.090000  ...  24.50  53.326667  26.100000   \n",
              "\n",
              "     Press_mm_hg      RH_out  Windspeed  Visibility  Tdewpoint        rv1  \\\n",
              "min   729.300000   24.000000   0.000000         1.0  -6.600000   0.005322   \n",
              "25%   750.933333   70.333333   2.000000        29.0   0.900000  12.497889   \n",
              "50%   756.100000   83.666667   3.666667        40.0   3.433333  24.897653   \n",
              "75%   760.933333   91.666667   5.500000        40.0   6.566667  37.583769   \n",
              "max   772.300000  100.000000  14.000000        66.0  15.500000  49.996530   \n",
              "\n",
              "           rv2  \n",
              "min   0.005322  \n",
              "25%  12.497889  \n",
              "50%  24.897653  \n",
              "75%  37.583769  \n",
              "max  49.996530  \n",
              "\n",
              "[5 rows x 28 columns]"
            ]
          },
          "execution_count": 153,
          "metadata": {},
          "output_type": "execute_result"
        }
      ],
      "source": [
        " df_1.describe().tail() "
      ]
    },
    {
      "cell_type": "code",
      "execution_count": null,
      "id": "0d9fc617",
      "metadata": {
        "id": "0d9fc617"
      },
      "outputs": [],
      "source": [
        "# I checked if the is any missing items in the file and there was non"
      ]
    },
    {
      "cell_type": "code",
      "execution_count": null,
      "id": "abd5d2dd",
      "metadata": {
        "id": "abd5d2dd",
        "outputId": "39e36a95-87d4-4c97-dc8f-791e3fadc661"
      },
      "outputs": [
        {
          "data": {
            "text/plain": [
              "date           0\n",
              "Appliances     0\n",
              "lights         0\n",
              "T1             0\n",
              "RH_1           0\n",
              "T2             0\n",
              "RH_2           0\n",
              "T3             0\n",
              "RH_3           0\n",
              "T4             0\n",
              "RH_4           0\n",
              "T5             0\n",
              "RH_5           0\n",
              "T6             0\n",
              "RH_6           0\n",
              "T7             0\n",
              "RH_7           0\n",
              "T8             0\n",
              "RH_8           0\n",
              "T9             0\n",
              "RH_9           0\n",
              "T_out          0\n",
              "Press_mm_hg    0\n",
              "RH_out         0\n",
              "Windspeed      0\n",
              "Visibility     0\n",
              "Tdewpoint      0\n",
              "rv1            0\n",
              "rv2            0\n",
              "dtype: int64"
            ]
          },
          "execution_count": 155,
          "metadata": {},
          "output_type": "execute_result"
        }
      ],
      "source": [
        "df_1.isnull().sum()"
      ]
    },
    {
      "cell_type": "code",
      "execution_count": null,
      "id": "02fb3673",
      "metadata": {
        "id": "02fb3673"
      },
      "outputs": [],
      "source": []
    },
    {
      "cell_type": "code",
      "execution_count": null,
      "id": "82aa818e",
      "metadata": {
        "id": "82aa818e"
      },
      "outputs": [],
      "source": [
        "# form  the questions 10, I Dropped  date and lights"
      ]
    },
    {
      "cell_type": "code",
      "execution_count": null,
      "id": "1e6246c9",
      "metadata": {
        "id": "1e6246c9",
        "outputId": "4446b770-4446-43e6-b6e9-37f0e56b0da8"
      },
      "outputs": [
        {
          "data": {
            "text/html": [
              "<div>\n",
              "<style scoped>\n",
              "    .dataframe tbody tr th:only-of-type {\n",
              "        vertical-align: middle;\n",
              "    }\n",
              "\n",
              "    .dataframe tbody tr th {\n",
              "        vertical-align: top;\n",
              "    }\n",
              "\n",
              "    .dataframe thead th {\n",
              "        text-align: right;\n",
              "    }\n",
              "</style>\n",
              "<table border=\"1\" class=\"dataframe\">\n",
              "  <thead>\n",
              "    <tr style=\"text-align: right;\">\n",
              "      <th></th>\n",
              "      <th>Appliances</th>\n",
              "      <th>T1</th>\n",
              "      <th>RH_1</th>\n",
              "      <th>T2</th>\n",
              "      <th>RH_2</th>\n",
              "      <th>T3</th>\n",
              "      <th>RH_3</th>\n",
              "      <th>T4</th>\n",
              "      <th>RH_4</th>\n",
              "      <th>T5</th>\n",
              "      <th>...</th>\n",
              "      <th>T9</th>\n",
              "      <th>RH_9</th>\n",
              "      <th>T_out</th>\n",
              "      <th>Press_mm_hg</th>\n",
              "      <th>RH_out</th>\n",
              "      <th>Windspeed</th>\n",
              "      <th>Visibility</th>\n",
              "      <th>Tdewpoint</th>\n",
              "      <th>rv1</th>\n",
              "      <th>rv2</th>\n",
              "    </tr>\n",
              "  </thead>\n",
              "  <tbody>\n",
              "    <tr>\n",
              "      <th>0</th>\n",
              "      <td>60</td>\n",
              "      <td>19.890000</td>\n",
              "      <td>47.596667</td>\n",
              "      <td>19.200000</td>\n",
              "      <td>44.790000</td>\n",
              "      <td>19.790000</td>\n",
              "      <td>44.730000</td>\n",
              "      <td>19.000000</td>\n",
              "      <td>45.566667</td>\n",
              "      <td>17.166667</td>\n",
              "      <td>...</td>\n",
              "      <td>17.033333</td>\n",
              "      <td>45.5300</td>\n",
              "      <td>6.600000</td>\n",
              "      <td>733.5</td>\n",
              "      <td>92.000000</td>\n",
              "      <td>7.000000</td>\n",
              "      <td>63.000000</td>\n",
              "      <td>5.300000</td>\n",
              "      <td>13.275433</td>\n",
              "      <td>13.275433</td>\n",
              "    </tr>\n",
              "    <tr>\n",
              "      <th>1</th>\n",
              "      <td>60</td>\n",
              "      <td>19.890000</td>\n",
              "      <td>46.693333</td>\n",
              "      <td>19.200000</td>\n",
              "      <td>44.722500</td>\n",
              "      <td>19.790000</td>\n",
              "      <td>44.790000</td>\n",
              "      <td>19.000000</td>\n",
              "      <td>45.992500</td>\n",
              "      <td>17.166667</td>\n",
              "      <td>...</td>\n",
              "      <td>17.066667</td>\n",
              "      <td>45.5600</td>\n",
              "      <td>6.483333</td>\n",
              "      <td>733.6</td>\n",
              "      <td>92.000000</td>\n",
              "      <td>6.666667</td>\n",
              "      <td>59.166667</td>\n",
              "      <td>5.200000</td>\n",
              "      <td>18.606195</td>\n",
              "      <td>18.606195</td>\n",
              "    </tr>\n",
              "    <tr>\n",
              "      <th>2</th>\n",
              "      <td>50</td>\n",
              "      <td>19.890000</td>\n",
              "      <td>46.300000</td>\n",
              "      <td>19.200000</td>\n",
              "      <td>44.626667</td>\n",
              "      <td>19.790000</td>\n",
              "      <td>44.933333</td>\n",
              "      <td>18.926667</td>\n",
              "      <td>45.890000</td>\n",
              "      <td>17.166667</td>\n",
              "      <td>...</td>\n",
              "      <td>17.000000</td>\n",
              "      <td>45.5000</td>\n",
              "      <td>6.366667</td>\n",
              "      <td>733.7</td>\n",
              "      <td>92.000000</td>\n",
              "      <td>6.333333</td>\n",
              "      <td>55.333333</td>\n",
              "      <td>5.100000</td>\n",
              "      <td>28.642668</td>\n",
              "      <td>28.642668</td>\n",
              "    </tr>\n",
              "    <tr>\n",
              "      <th>3</th>\n",
              "      <td>50</td>\n",
              "      <td>19.890000</td>\n",
              "      <td>46.066667</td>\n",
              "      <td>19.200000</td>\n",
              "      <td>44.590000</td>\n",
              "      <td>19.790000</td>\n",
              "      <td>45.000000</td>\n",
              "      <td>18.890000</td>\n",
              "      <td>45.723333</td>\n",
              "      <td>17.166667</td>\n",
              "      <td>...</td>\n",
              "      <td>17.000000</td>\n",
              "      <td>45.4000</td>\n",
              "      <td>6.250000</td>\n",
              "      <td>733.8</td>\n",
              "      <td>92.000000</td>\n",
              "      <td>6.000000</td>\n",
              "      <td>51.500000</td>\n",
              "      <td>5.000000</td>\n",
              "      <td>45.410389</td>\n",
              "      <td>45.410389</td>\n",
              "    </tr>\n",
              "    <tr>\n",
              "      <th>4</th>\n",
              "      <td>60</td>\n",
              "      <td>19.890000</td>\n",
              "      <td>46.333333</td>\n",
              "      <td>19.200000</td>\n",
              "      <td>44.530000</td>\n",
              "      <td>19.790000</td>\n",
              "      <td>45.000000</td>\n",
              "      <td>18.890000</td>\n",
              "      <td>45.530000</td>\n",
              "      <td>17.200000</td>\n",
              "      <td>...</td>\n",
              "      <td>17.000000</td>\n",
              "      <td>45.4000</td>\n",
              "      <td>6.133333</td>\n",
              "      <td>733.9</td>\n",
              "      <td>92.000000</td>\n",
              "      <td>5.666667</td>\n",
              "      <td>47.666667</td>\n",
              "      <td>4.900000</td>\n",
              "      <td>10.084097</td>\n",
              "      <td>10.084097</td>\n",
              "    </tr>\n",
              "    <tr>\n",
              "      <th>...</th>\n",
              "      <td>...</td>\n",
              "      <td>...</td>\n",
              "      <td>...</td>\n",
              "      <td>...</td>\n",
              "      <td>...</td>\n",
              "      <td>...</td>\n",
              "      <td>...</td>\n",
              "      <td>...</td>\n",
              "      <td>...</td>\n",
              "      <td>...</td>\n",
              "      <td>...</td>\n",
              "      <td>...</td>\n",
              "      <td>...</td>\n",
              "      <td>...</td>\n",
              "      <td>...</td>\n",
              "      <td>...</td>\n",
              "      <td>...</td>\n",
              "      <td>...</td>\n",
              "      <td>...</td>\n",
              "      <td>...</td>\n",
              "      <td>...</td>\n",
              "    </tr>\n",
              "    <tr>\n",
              "      <th>19730</th>\n",
              "      <td>100</td>\n",
              "      <td>25.566667</td>\n",
              "      <td>46.560000</td>\n",
              "      <td>25.890000</td>\n",
              "      <td>42.025714</td>\n",
              "      <td>27.200000</td>\n",
              "      <td>41.163333</td>\n",
              "      <td>24.700000</td>\n",
              "      <td>45.590000</td>\n",
              "      <td>23.200000</td>\n",
              "      <td>...</td>\n",
              "      <td>23.200000</td>\n",
              "      <td>46.7900</td>\n",
              "      <td>22.733333</td>\n",
              "      <td>755.2</td>\n",
              "      <td>55.666667</td>\n",
              "      <td>3.333333</td>\n",
              "      <td>23.666667</td>\n",
              "      <td>13.333333</td>\n",
              "      <td>43.096812</td>\n",
              "      <td>43.096812</td>\n",
              "    </tr>\n",
              "    <tr>\n",
              "      <th>19731</th>\n",
              "      <td>90</td>\n",
              "      <td>25.500000</td>\n",
              "      <td>46.500000</td>\n",
              "      <td>25.754000</td>\n",
              "      <td>42.080000</td>\n",
              "      <td>27.133333</td>\n",
              "      <td>41.223333</td>\n",
              "      <td>24.700000</td>\n",
              "      <td>45.590000</td>\n",
              "      <td>23.230000</td>\n",
              "      <td>...</td>\n",
              "      <td>23.200000</td>\n",
              "      <td>46.7900</td>\n",
              "      <td>22.600000</td>\n",
              "      <td>755.2</td>\n",
              "      <td>56.000000</td>\n",
              "      <td>3.500000</td>\n",
              "      <td>24.500000</td>\n",
              "      <td>13.300000</td>\n",
              "      <td>49.282940</td>\n",
              "      <td>49.282940</td>\n",
              "    </tr>\n",
              "    <tr>\n",
              "      <th>19732</th>\n",
              "      <td>270</td>\n",
              "      <td>25.500000</td>\n",
              "      <td>46.596667</td>\n",
              "      <td>25.628571</td>\n",
              "      <td>42.768571</td>\n",
              "      <td>27.050000</td>\n",
              "      <td>41.690000</td>\n",
              "      <td>24.700000</td>\n",
              "      <td>45.730000</td>\n",
              "      <td>23.230000</td>\n",
              "      <td>...</td>\n",
              "      <td>23.200000</td>\n",
              "      <td>46.7900</td>\n",
              "      <td>22.466667</td>\n",
              "      <td>755.2</td>\n",
              "      <td>56.333333</td>\n",
              "      <td>3.666667</td>\n",
              "      <td>25.333333</td>\n",
              "      <td>13.266667</td>\n",
              "      <td>29.199117</td>\n",
              "      <td>29.199117</td>\n",
              "    </tr>\n",
              "    <tr>\n",
              "      <th>19733</th>\n",
              "      <td>420</td>\n",
              "      <td>25.500000</td>\n",
              "      <td>46.990000</td>\n",
              "      <td>25.414000</td>\n",
              "      <td>43.036000</td>\n",
              "      <td>26.890000</td>\n",
              "      <td>41.290000</td>\n",
              "      <td>24.700000</td>\n",
              "      <td>45.790000</td>\n",
              "      <td>23.200000</td>\n",
              "      <td>...</td>\n",
              "      <td>23.200000</td>\n",
              "      <td>46.8175</td>\n",
              "      <td>22.333333</td>\n",
              "      <td>755.2</td>\n",
              "      <td>56.666667</td>\n",
              "      <td>3.833333</td>\n",
              "      <td>26.166667</td>\n",
              "      <td>13.233333</td>\n",
              "      <td>6.322784</td>\n",
              "      <td>6.322784</td>\n",
              "    </tr>\n",
              "    <tr>\n",
              "      <th>19734</th>\n",
              "      <td>430</td>\n",
              "      <td>25.500000</td>\n",
              "      <td>46.600000</td>\n",
              "      <td>25.264286</td>\n",
              "      <td>42.971429</td>\n",
              "      <td>26.823333</td>\n",
              "      <td>41.156667</td>\n",
              "      <td>24.700000</td>\n",
              "      <td>45.963333</td>\n",
              "      <td>23.200000</td>\n",
              "      <td>...</td>\n",
              "      <td>23.200000</td>\n",
              "      <td>46.8450</td>\n",
              "      <td>22.200000</td>\n",
              "      <td>755.2</td>\n",
              "      <td>57.000000</td>\n",
              "      <td>4.000000</td>\n",
              "      <td>27.000000</td>\n",
              "      <td>13.200000</td>\n",
              "      <td>34.118851</td>\n",
              "      <td>34.118851</td>\n",
              "    </tr>\n",
              "  </tbody>\n",
              "</table>\n",
              "<p>19735 rows × 27 columns</p>\n",
              "</div>"
            ],
            "text/plain": [
              "       Appliances         T1       RH_1         T2       RH_2         T3  \\\n",
              "0              60  19.890000  47.596667  19.200000  44.790000  19.790000   \n",
              "1              60  19.890000  46.693333  19.200000  44.722500  19.790000   \n",
              "2              50  19.890000  46.300000  19.200000  44.626667  19.790000   \n",
              "3              50  19.890000  46.066667  19.200000  44.590000  19.790000   \n",
              "4              60  19.890000  46.333333  19.200000  44.530000  19.790000   \n",
              "...           ...        ...        ...        ...        ...        ...   \n",
              "19730         100  25.566667  46.560000  25.890000  42.025714  27.200000   \n",
              "19731          90  25.500000  46.500000  25.754000  42.080000  27.133333   \n",
              "19732         270  25.500000  46.596667  25.628571  42.768571  27.050000   \n",
              "19733         420  25.500000  46.990000  25.414000  43.036000  26.890000   \n",
              "19734         430  25.500000  46.600000  25.264286  42.971429  26.823333   \n",
              "\n",
              "            RH_3         T4       RH_4         T5  ...         T9     RH_9  \\\n",
              "0      44.730000  19.000000  45.566667  17.166667  ...  17.033333  45.5300   \n",
              "1      44.790000  19.000000  45.992500  17.166667  ...  17.066667  45.5600   \n",
              "2      44.933333  18.926667  45.890000  17.166667  ...  17.000000  45.5000   \n",
              "3      45.000000  18.890000  45.723333  17.166667  ...  17.000000  45.4000   \n",
              "4      45.000000  18.890000  45.530000  17.200000  ...  17.000000  45.4000   \n",
              "...          ...        ...        ...        ...  ...        ...      ...   \n",
              "19730  41.163333  24.700000  45.590000  23.200000  ...  23.200000  46.7900   \n",
              "19731  41.223333  24.700000  45.590000  23.230000  ...  23.200000  46.7900   \n",
              "19732  41.690000  24.700000  45.730000  23.230000  ...  23.200000  46.7900   \n",
              "19733  41.290000  24.700000  45.790000  23.200000  ...  23.200000  46.8175   \n",
              "19734  41.156667  24.700000  45.963333  23.200000  ...  23.200000  46.8450   \n",
              "\n",
              "           T_out  Press_mm_hg     RH_out  Windspeed  Visibility  Tdewpoint  \\\n",
              "0       6.600000        733.5  92.000000   7.000000   63.000000   5.300000   \n",
              "1       6.483333        733.6  92.000000   6.666667   59.166667   5.200000   \n",
              "2       6.366667        733.7  92.000000   6.333333   55.333333   5.100000   \n",
              "3       6.250000        733.8  92.000000   6.000000   51.500000   5.000000   \n",
              "4       6.133333        733.9  92.000000   5.666667   47.666667   4.900000   \n",
              "...          ...          ...        ...        ...         ...        ...   \n",
              "19730  22.733333        755.2  55.666667   3.333333   23.666667  13.333333   \n",
              "19731  22.600000        755.2  56.000000   3.500000   24.500000  13.300000   \n",
              "19732  22.466667        755.2  56.333333   3.666667   25.333333  13.266667   \n",
              "19733  22.333333        755.2  56.666667   3.833333   26.166667  13.233333   \n",
              "19734  22.200000        755.2  57.000000   4.000000   27.000000  13.200000   \n",
              "\n",
              "             rv1        rv2  \n",
              "0      13.275433  13.275433  \n",
              "1      18.606195  18.606195  \n",
              "2      28.642668  28.642668  \n",
              "3      45.410389  45.410389  \n",
              "4      10.084097  10.084097  \n",
              "...          ...        ...  \n",
              "19730  43.096812  43.096812  \n",
              "19731  49.282940  49.282940  \n",
              "19732  29.199117  29.199117  \n",
              "19733   6.322784   6.322784  \n",
              "19734  34.118851  34.118851  \n",
              "\n",
              "[19735 rows x 27 columns]"
            ]
          },
          "execution_count": 158,
          "metadata": {},
          "output_type": "execute_result"
        }
      ],
      "source": [
        "df_1 = df_1.drop(columns=['date', 'lights'], axis = 1)\n",
        "df_1"
      ]
    },
    {
      "cell_type": "code",
      "execution_count": null,
      "id": "7ac7c59e",
      "metadata": {
        "id": "7ac7c59e",
        "outputId": "2c82c572-c583-4754-acd7-9dd7a91f66f7"
      },
      "outputs": [
        {
          "name": "stdout",
          "output_type": "stream",
          "text": [
            "<class 'pandas.core.frame.DataFrame'>\n",
            "RangeIndex: 19735 entries, 0 to 19734\n",
            "Data columns (total 27 columns):\n",
            " #   Column       Non-Null Count  Dtype  \n",
            "---  ------       --------------  -----  \n",
            " 0   Appliances   19735 non-null  int64  \n",
            " 1   T1           19735 non-null  float64\n",
            " 2   RH_1         19735 non-null  float64\n",
            " 3   T2           19735 non-null  float64\n",
            " 4   RH_2         19735 non-null  float64\n",
            " 5   T3           19735 non-null  float64\n",
            " 6   RH_3         19735 non-null  float64\n",
            " 7   T4           19735 non-null  float64\n",
            " 8   RH_4         19735 non-null  float64\n",
            " 9   T5           19735 non-null  float64\n",
            " 10  RH_5         19735 non-null  float64\n",
            " 11  T6           19735 non-null  float64\n",
            " 12  RH_6         19735 non-null  float64\n",
            " 13  T7           19735 non-null  float64\n",
            " 14  RH_7         19735 non-null  float64\n",
            " 15  T8           19735 non-null  float64\n",
            " 16  RH_8         19735 non-null  float64\n",
            " 17  T9           19735 non-null  float64\n",
            " 18  RH_9         19735 non-null  float64\n",
            " 19  T_out        19735 non-null  float64\n",
            " 20  Press_mm_hg  19735 non-null  float64\n",
            " 21  RH_out       19735 non-null  float64\n",
            " 22  Windspeed    19735 non-null  float64\n",
            " 23  Visibility   19735 non-null  float64\n",
            " 24  Tdewpoint    19735 non-null  float64\n",
            " 25  rv1          19735 non-null  float64\n",
            " 26  rv2          19735 non-null  float64\n",
            "dtypes: float64(26), int64(1)\n",
            "memory usage: 4.1 MB\n"
          ]
        }
      ],
      "source": [
        "# the columns has been reduce to 27 instead of 29\n",
        "df_1.info()"
      ]
    },
    {
      "cell_type": "code",
      "execution_count": null,
      "id": "c4b98d17",
      "metadata": {
        "id": "c4b98d17",
        "outputId": "273fc166-17d9-4e02-8ade-23468c5beb40"
      },
      "outputs": [
        {
          "data": {
            "text/html": [
              "<div>\n",
              "<style scoped>\n",
              "    .dataframe tbody tr th:only-of-type {\n",
              "        vertical-align: middle;\n",
              "    }\n",
              "\n",
              "    .dataframe tbody tr th {\n",
              "        vertical-align: top;\n",
              "    }\n",
              "\n",
              "    .dataframe thead th {\n",
              "        text-align: right;\n",
              "    }\n",
              "</style>\n",
              "<table border=\"1\" class=\"dataframe\">\n",
              "  <thead>\n",
              "    <tr style=\"text-align: right;\">\n",
              "      <th></th>\n",
              "      <th>Appliances</th>\n",
              "      <th>T2</th>\n",
              "    </tr>\n",
              "  </thead>\n",
              "  <tbody>\n",
              "    <tr>\n",
              "      <th>1117</th>\n",
              "      <td>20</td>\n",
              "      <td>17.426667</td>\n",
              "    </tr>\n",
              "    <tr>\n",
              "      <th>16275</th>\n",
              "      <td>340</td>\n",
              "      <td>22.760000</td>\n",
              "    </tr>\n",
              "    <tr>\n",
              "      <th>13272</th>\n",
              "      <td>180</td>\n",
              "      <td>21.230000</td>\n",
              "    </tr>\n",
              "  </tbody>\n",
              "</table>\n",
              "</div>"
            ],
            "text/plain": [
              "       Appliances         T2\n",
              "1117           20  17.426667\n",
              "16275         340  22.760000\n",
              "13272         180  21.230000"
            ]
          },
          "execution_count": 169,
          "metadata": {},
          "output_type": "execute_result"
        }
      ],
      "source": [
        "# I  brought out s sample of the dataset which is Appliance and T2\n",
        "simple_linear_reg_df = df_1[['Appliances', 'T2']].sample(30, random_state = 2)\n",
        "simple_linear_reg_df.head(3)"
      ]
    },
    {
      "cell_type": "code",
      "execution_count": null,
      "id": "841d1b92",
      "metadata": {
        "id": "841d1b92",
        "outputId": "71c8e6d3-5cf6-43cc-c46c-e7e5ca4590d2"
      },
      "outputs": [
        {
          "data": {
            "text/plain": [
              "(   Appliances       T1      RH_1        T2      RH_2        T3      RH_3  \\\n",
              " 0    0.046729  0.32735  0.566187  0.225345  0.684038  0.215188  0.746066   \n",
              " 1    0.046729  0.32735  0.541326  0.225345  0.682140  0.215188  0.748871   \n",
              " 2    0.037383  0.32735  0.530502  0.225345  0.679445  0.215188  0.755569   \n",
              " \n",
              "          T4      RH_4        T5  ...        T9      RH_9     T_out  \\\n",
              " 0  0.351351  0.764262  0.175506  ...  0.223032  0.677290  0.372990   \n",
              " 1  0.351351  0.782437  0.175506  ...  0.226500  0.678532  0.369239   \n",
              " 2  0.344745  0.778062  0.175506  ...  0.219563  0.676049  0.365488   \n",
              " \n",
              "    Press_mm_hg    RH_out  Windspeed  Visibility  Tdewpoint       rv1       rv2  \n",
              " 0     0.097674  0.894737   0.500000    0.953846   0.538462  0.265449  0.265449  \n",
              " 1     0.100000  0.894737   0.476190    0.894872   0.533937  0.372083  0.372083  \n",
              " 2     0.102326  0.894737   0.452381    0.835897   0.529412  0.572848  0.572848  \n",
              " \n",
              " [3 rows x 27 columns],\n",
              "        Appliances        T1      RH_1        T2      RH_2        T3      RH_3  \\\n",
              " 19732    0.242991  0.919747  0.538666  0.692651  0.627198  0.818378  0.603988   \n",
              " 19733    0.383178  0.919747  0.549491  0.677054  0.634717  0.805085  0.585294   \n",
              " 19734    0.392523  0.919747  0.538758  0.666171  0.632902  0.799546  0.579062   \n",
              " \n",
              "              T4      RH_4        T5  ...        T9      RH_9     T_out  \\\n",
              " 19732  0.864865  0.771233  0.754897  ...  0.864724  0.729443  0.883173   \n",
              " 19733  0.864865  0.773794  0.752031  ...  0.864724  0.730581  0.878885   \n",
              " 19734  0.864865  0.781192  0.752031  ...  0.864724  0.731719  0.874598   \n",
              " \n",
              "        Press_mm_hg    RH_out  Windspeed  Visibility  Tdewpoint       rv1  \\\n",
              " 19732     0.602326  0.425439   0.261905    0.374359   0.898944  0.583979   \n",
              " 19733     0.602326  0.429825   0.273810    0.387179   0.897436  0.126371   \n",
              " 19734     0.602326  0.434211   0.285714    0.400000   0.895928  0.682391   \n",
              " \n",
              "             rv2  \n",
              " 19732  0.583979  \n",
              " 19733  0.126371  \n",
              " 19734  0.682391  \n",
              " \n",
              " [3 rows x 27 columns])"
            ]
          },
          "execution_count": 173,
          "metadata": {},
          "output_type": "execute_result"
        }
      ],
      "source": [
        "#Normalise the dataset to a common scale using the min max Scaler\n",
        "from sklearn.preprocessing import MinMaxScaler\n",
        "scaler = MinMaxScaler()\n",
        "\n",
        "normalised_df = pd.DataFrame(scaler.fit_transform(df_1), columns = df_1.columns)\n",
        "normalised_df.head(3), normalised_df.tail(3)\n"
      ]
    },
    {
      "cell_type": "code",
      "execution_count": null,
      "id": "b50e8f1e",
      "metadata": {
        "id": "b50e8f1e"
      },
      "outputs": [],
      "source": [
        "# QUESTIONS 12"
      ]
    },
    {
      "cell_type": "code",
      "execution_count": null,
      "id": "5cec5560",
      "metadata": {
        "id": "5cec5560",
        "outputId": "3f35c85a-5dd3-4abd-f291-8e1181a67885"
      },
      "outputs": [
        {
          "data": {
            "text/html": [
              "<div>\n",
              "<style scoped>\n",
              "    .dataframe tbody tr th:only-of-type {\n",
              "        vertical-align: middle;\n",
              "    }\n",
              "\n",
              "    .dataframe tbody tr th {\n",
              "        vertical-align: top;\n",
              "    }\n",
              "\n",
              "    .dataframe thead th {\n",
              "        text-align: right;\n",
              "    }\n",
              "</style>\n",
              "<table border=\"1\" class=\"dataframe\">\n",
              "  <thead>\n",
              "    <tr style=\"text-align: right;\">\n",
              "      <th></th>\n",
              "      <th>T2</th>\n",
              "      <th>T6</th>\n",
              "    </tr>\n",
              "  </thead>\n",
              "  <tbody>\n",
              "    <tr>\n",
              "      <th>0</th>\n",
              "      <td>0.225345</td>\n",
              "      <td>0.381070</td>\n",
              "    </tr>\n",
              "    <tr>\n",
              "      <th>1</th>\n",
              "      <td>0.225345</td>\n",
              "      <td>0.375443</td>\n",
              "    </tr>\n",
              "    <tr>\n",
              "      <th>2</th>\n",
              "      <td>0.225345</td>\n",
              "      <td>0.367487</td>\n",
              "    </tr>\n",
              "    <tr>\n",
              "      <th>3</th>\n",
              "      <td>0.225345</td>\n",
              "      <td>0.363800</td>\n",
              "    </tr>\n",
              "    <tr>\n",
              "      <th>4</th>\n",
              "      <td>0.225345</td>\n",
              "      <td>0.361859</td>\n",
              "    </tr>\n",
              "  </tbody>\n",
              "</table>\n",
              "</div>"
            ],
            "text/plain": [
              "         T2        T6\n",
              "0  0.225345  0.381070\n",
              "1  0.225345  0.375443\n",
              "2  0.225345  0.367487\n",
              "3  0.225345  0.363800\n",
              "4  0.225345  0.361859"
            ]
          },
          "execution_count": 233,
          "metadata": {},
          "output_type": "execute_result"
        }
      ],
      "source": [
        "#select a sample of the dataset\n",
        "reg_df = normalised_df[['T2', 'T6']]\n",
        "reg_df.head()\n"
      ]
    },
    {
      "cell_type": "code",
      "execution_count": null,
      "id": "b422b17b",
      "metadata": {
        "id": "b422b17b",
        "outputId": "3b399ec0-80e5-41b9-f517-7e90f9f46639"
      },
      "outputs": [
        {
          "data": {
            "text/plain": [
              "array([[0.23928945],\n",
              "       [0.46794238],\n",
              "       [0.23108472],\n",
              "       ...,\n",
              "       [0.3001772 ],\n",
              "       [0.4297256 ],\n",
              "       [0.3217686 ]])"
            ]
          },
          "execution_count": 176,
          "metadata": {},
          "output_type": "execute_result"
        }
      ],
      "source": [
        "# i have to reshape the values of T2 and T6\n",
        "x1 = reg_df['T2'].values.reshape(-1, 1)\n",
        "y1 = reg_df['T6'].values.reshape(-1, 1)\n",
        "x1_train, x1_test, y1_train, y1_test = train_test_split(x1, y1, test_size = 0.3, random_state = 42)\n",
        "\n",
        "\n",
        "# import LinearRegression\n",
        "from sklearn.linear_model import LinearRegression\n",
        "linear_model = LinearRegression()\n",
        "linear_model.fit(x1_train, y1_train)\n",
        "y1_pred = linear_model.predict(x1_test)\n",
        "y1_pred\n"
      ]
    },
    {
      "cell_type": "code",
      "execution_count": null,
      "id": "83ddad36",
      "metadata": {
        "id": "83ddad36",
        "outputId": "c21d428d-4a01-4a56-8792-4fe1ab8e87a8"
      },
      "outputs": [
        {
          "name": "stdout",
          "output_type": "stream",
          "text": [
            "R-Squared: 0.64\n"
          ]
        }
      ],
      "source": [
        "from sklearn.metrics import r2_score\n",
        "r2 = r2_score(y1_test, y1_pred)\n",
        "print(' The R-Squared: {}'.format(round(r2, 2)))\n"
      ]
    },
    {
      "cell_type": "code",
      "execution_count": null,
      "id": "e10c3c6d",
      "metadata": {
        "id": "e10c3c6d"
      },
      "outputs": [],
      "source": []
    },
    {
      "cell_type": "code",
      "execution_count": null,
      "id": "f7187bc5",
      "metadata": {
        "id": "f7187bc5"
      },
      "outputs": [],
      "source": [
        "# I decided to normalised the data set"
      ]
    },
    {
      "cell_type": "code",
      "execution_count": null,
      "id": "6494ac1a",
      "metadata": {
        "id": "6494ac1a"
      },
      "outputs": [],
      "source": []
    },
    {
      "cell_type": "code",
      "execution_count": null,
      "id": "0284c0ad",
      "metadata": {
        "id": "0284c0ad"
      },
      "outputs": [],
      "source": [
        "#The trageted varaibles is the Appliance so we must normalised the Appliance as y\n",
        "# we must normalised the other columns as X(predictors)\n",
        "X = normalised_df.drop(['Appliances'], axis = 1)\n",
        "y = normalised_df['Appliances']"
      ]
    },
    {
      "cell_type": "code",
      "execution_count": null,
      "id": "6ae3abb5",
      "metadata": {
        "id": "6ae3abb5"
      },
      "outputs": [],
      "source": [
        "# QUESTIONS 13"
      ]
    },
    {
      "cell_type": "code",
      "execution_count": null,
      "id": "a102e00a",
      "metadata": {
        "id": "a102e00a"
      },
      "outputs": [],
      "source": [
        "#Normalise the dataset to a common scale using the min max Scaler\n",
        "from sklearn.preprocessing import MinMaxScaler\n",
        "scaler = MinMaxScaler()\n",
        "\n",
        "normalised_df = pd.DataFrame(scaler.fit_transform(df_1), columns = df_1.columns)\n",
        "normalised_df.head(3), normalised_df.tail(3)\n"
      ]
    },
    {
      "cell_type": "code",
      "execution_count": null,
      "id": "0fc5065b",
      "metadata": {
        "id": "0fc5065b",
        "outputId": "372a7d1f-2345-4462-d28e-0270b46e38cb"
      },
      "outputs": [
        {
          "name": "stdout",
          "output_type": "stream",
          "text": [
            "X_train shape: (13814, 26)\n",
            "X_test shape: (5921, 26)\n",
            "y_train shape: (13814,)\n",
            "y_test shape: (5921,)\n"
          ]
        }
      ],
      "source": [
        "# split it into Test and train\n",
        "#Now, we split our dataset into the training and testing dataset. Recall that we had earlier segmented the features and target variables. \n",
        "from sklearn.model_selection import train_test_split\n",
        "X_train, X_test, y_train, y_test = train_test_split(X, y, test_size = 0.3, random_state = 42)\n",
        "\n",
        "print('X_train shape: {}'.format(X_train.shape))\n",
        "print('X_test shape: {}'.format(X_test.shape))\n",
        "print('y_train shape: {}'.format(y_train.shape))\n",
        "print('y_test shape: {}'.format(y_test.shape))\n"
      ]
    },
    {
      "cell_type": "code",
      "execution_count": null,
      "id": "17dd9f01",
      "metadata": {
        "id": "17dd9f01"
      },
      "outputs": [],
      "source": [
        "# we must have a creat a linear regression before we calculate for the MAE\n",
        "linear_model = LinearRegression()"
      ]
    },
    {
      "cell_type": "code",
      "execution_count": null,
      "id": "22835fac",
      "metadata": {
        "id": "22835fac",
        "outputId": "00fe5c5b-ae87-4a9b-ab4f-eea82ae7d28e"
      },
      "outputs": [
        {
          "data": {
            "text/plain": [
              "array([0.03322207, 0.24411599, 0.03400024, ..., 0.06844707, 0.10032325,\n",
              "       0.05722198])"
            ]
          },
          "execution_count": 180,
          "metadata": {},
          "output_type": "execute_result"
        }
      ],
      "source": [
        "\n",
        "# I fit the model to the training dataset \n",
        "linear_model.fit(X_train, y_train) \n",
        "#obtain predictions \n",
        "predicted_values = linear_model.predict(X_test) \n",
        "S= predicted_values\n",
        "S\n"
      ]
    },
    {
      "cell_type": "code",
      "execution_count": null,
      "id": "17f40242",
      "metadata": {
        "id": "17f40242",
        "outputId": "72657510-2616-4c6b-ed59-5dcc9e3c1f63"
      },
      "outputs": [
        {
          "name": "stdout",
          "output_type": "stream",
          "text": [
            "The MEan Absolute Error is :0.05013362397742957\n"
          ]
        }
      ],
      "source": [
        "#MAE \n",
        "from sklearn.metrics import mean_absolute_error \n",
        "mae = mean_absolute_error(y_test, S) #prints 0.063 round(mae, 3)\n",
        "mae\n",
        "print('The MEan Absolute Error is :{}'.format(mae))"
      ]
    },
    {
      "cell_type": "code",
      "execution_count": null,
      "id": "31d4b363",
      "metadata": {
        "id": "31d4b363",
        "outputId": "5be598f0-fc19-4e89-f816-a6355d4b36c5"
      },
      "outputs": [
        {
          "data": {
            "text/plain": [
              "0.15290295882253058"
            ]
          },
          "execution_count": 182,
          "metadata": {},
          "output_type": "execute_result"
        }
      ],
      "source": [
        "# then get the intercept and the coefficeint\n",
        "linear_model.intercept_"
      ]
    },
    {
      "cell_type": "code",
      "execution_count": null,
      "id": "4b1e928a",
      "metadata": {
        "id": "4b1e928a",
        "outputId": "3bac9096-f7d2-46ea-d1bc-8982fff69daf"
      },
      "outputs": [
        {
          "data": {
            "text/plain": [
              "array([-0.00328105,  0.5535466 , -0.23617792, -0.45669795,  0.29062714,\n",
              "        0.09604827,  0.028981  ,  0.02638578, -0.01565684,  0.01600579,\n",
              "        0.23642491,  0.03804865,  0.01031878, -0.04461364,  0.10199505,\n",
              "       -0.15759548, -0.18994077, -0.03980032, -0.32185967,  0.00683933,\n",
              "       -0.07767065,  0.02918313,  0.01230661,  0.11775773,  0.0007701 ,\n",
              "        0.0007701 ])"
            ]
          },
          "execution_count": 183,
          "metadata": {},
          "output_type": "execute_result"
        }
      ],
      "source": [
        "linear_model.coef_"
      ]
    },
    {
      "cell_type": "code",
      "execution_count": null,
      "id": "ef2eecde",
      "metadata": {
        "id": "ef2eecde"
      },
      "outputs": [],
      "source": []
    },
    {
      "cell_type": "code",
      "execution_count": null,
      "id": "2f4497ba",
      "metadata": {
        "id": "2f4497ba"
      },
      "outputs": [],
      "source": [
        "# QUESTIONS 14"
      ]
    },
    {
      "cell_type": "code",
      "execution_count": null,
      "id": "13dedea2",
      "metadata": {
        "id": "13dedea2"
      },
      "outputs": [],
      "source": [
        "# to get the RSS"
      ]
    },
    {
      "cell_type": "code",
      "execution_count": null,
      "id": "6358fcce",
      "metadata": {
        "id": "6358fcce",
        "outputId": "5bcb09ac-8eb8-423d-946e-c5ddbb4e081d"
      },
      "outputs": [
        {
          "name": "stdout",
          "output_type": "stream",
          "text": [
            "The RSS: 45.35\n"
          ]
        }
      ],
      "source": [
        "import numpy as np \n",
        "y_pred = S\n",
        "rss = np.sum(np.square(y_test - S)) \n",
        "rss = round(rss, 3) #prints 1.823\n",
        "rss.round(2)\n",
        "print('The RSS: {}'.format(rss.round(2)))"
      ]
    },
    {
      "cell_type": "code",
      "execution_count": null,
      "id": "930c8f67",
      "metadata": {
        "id": "930c8f67"
      },
      "outputs": [],
      "source": [
        "# QUESTIONS 15"
      ]
    },
    {
      "cell_type": "code",
      "execution_count": null,
      "id": "b2be5eaf",
      "metadata": {
        "id": "b2be5eaf"
      },
      "outputs": [],
      "source": [
        "# Root Mean Square Error "
      ]
    },
    {
      "cell_type": "code",
      "execution_count": null,
      "id": "4996b32b",
      "metadata": {
        "id": "4996b32b",
        "outputId": "b46e364c-f1f4-4a06-eb8e-003318825959"
      },
      "outputs": [
        {
          "name": "stdout",
          "output_type": "stream",
          "text": [
            "Root Mean Squared Error: 0.088\n"
          ]
        }
      ],
      "source": [
        "# Root Mean Squared Error (RMSE)\n",
        "from sklearn.metrics import mean_squared_error\n",
        "mse = mean_squared_error(y_test, y_pred)\n",
        "rmse = np.sqrt(mse)\n",
        "print('Root Mean Squared Error: {}'.format(round(rmse, 3)))\n"
      ]
    },
    {
      "cell_type": "code",
      "execution_count": null,
      "id": "068f9458",
      "metadata": {
        "id": "068f9458"
      },
      "outputs": [],
      "source": [
        "#QUESTIONS 16"
      ]
    },
    {
      "cell_type": "code",
      "execution_count": null,
      "id": "1731105e",
      "metadata": {
        "id": "1731105e",
        "outputId": "0b509810-2753-4680-ff23-e7275dd327db"
      },
      "outputs": [
        {
          "name": "stdout",
          "output_type": "stream",
          "text": [
            "Coefficient_of_Determination: 0.15\n"
          ]
        }
      ],
      "source": [
        "# Coefficient of Determination\n",
        "from sklearn.metrics import r2_score \n",
        "r2_score = r2_score(y_test, S) \n",
        "r2_score=round(r2_score, 2) \n",
        "r2_score.round(5)\n",
        "Coefficient_of_Determination = r2_score.round(5)\n",
        "print(': {}' .format(Coefficient_of_Determination))"
      ]
    },
    {
      "cell_type": "code",
      "execution_count": null,
      "id": "dfb7fdbc",
      "metadata": {
        "id": "dfb7fdbc"
      },
      "outputs": [],
      "source": []
    },
    {
      "cell_type": "code",
      "execution_count": null,
      "id": "f7a36382",
      "metadata": {
        "id": "f7a36382"
      },
      "outputs": [],
      "source": []
    },
    {
      "cell_type": "code",
      "execution_count": null,
      "id": "d7e0ad04",
      "metadata": {
        "id": "d7e0ad04",
        "outputId": "4566c9af-fa56-44a3-99db-8b2c11006bfe"
      },
      "outputs": [
        {
          "name": "stdout",
          "output_type": "stream",
          "text": [
            "Training score: 0.145\n",
            "Testing score: 0.149\n"
          ]
        }
      ],
      "source": []
    },
    {
      "cell_type": "code",
      "execution_count": null,
      "id": "bf81fcc0",
      "metadata": {
        "id": "bf81fcc0"
      },
      "outputs": [],
      "source": []
    },
    {
      "cell_type": "code",
      "execution_count": null,
      "id": "486ba7e6",
      "metadata": {
        "id": "486ba7e6"
      },
      "outputs": [],
      "source": [
        "# QUESTIONS 17"
      ]
    },
    {
      "cell_type": "code",
      "execution_count": null,
      "id": "470871f0",
      "metadata": {
        "id": "470871f0"
      },
      "outputs": [],
      "source": [
        "#To Create the weight of the Features"
      ]
    },
    {
      "cell_type": "code",
      "execution_count": null,
      "id": "5a1ee56a",
      "metadata": {
        "id": "5a1ee56a",
        "outputId": "f22e151e-4b58-4565-b621-b8e47bd1ce00"
      },
      "outputs": [
        {
          "name": "stdout",
          "output_type": "stream",
          "text": [
            "Training score: 0.145\n",
            "Testing score: 0.149\n"
          ]
        }
      ],
      "source": [
        "# triaing and test score\n",
        "from sklearn.linear_model import LinearRegression\n",
        "reg = LinearRegression()\n",
        "reg.fit(X_train, y_train)\n",
        "y_pred = reg.predict(X_test)\n",
        "train_score = reg.score(X_train, y_train)\n",
        "test_score = reg.score(X_test, y_test)\n",
        "print('Training score: {:.3f}'.format(train_score))\n",
        "print('Testing score: {:.3f}'.format(test_score))\n"
      ]
    },
    {
      "cell_type": "code",
      "execution_count": null,
      "id": "c76a35d9",
      "metadata": {
        "id": "c76a35d9",
        "outputId": "6326a3b1-42fa-43fc-8d7a-e8fb6a326c11"
      },
      "outputs": [
        {
          "data": {
            "text/html": [
              "<div>\n",
              "<style scoped>\n",
              "    .dataframe tbody tr th:only-of-type {\n",
              "        vertical-align: middle;\n",
              "    }\n",
              "\n",
              "    .dataframe tbody tr th {\n",
              "        vertical-align: top;\n",
              "    }\n",
              "\n",
              "    .dataframe thead th {\n",
              "        text-align: right;\n",
              "    }\n",
              "</style>\n",
              "<table border=\"1\" class=\"dataframe\">\n",
              "  <thead>\n",
              "    <tr style=\"text-align: right;\">\n",
              "      <th></th>\n",
              "      <th>Features</th>\n",
              "      <th>Linear_Model_Weight</th>\n",
              "      <th>Ridge_Weight</th>\n",
              "      <th>Lasso_weight</th>\n",
              "    </tr>\n",
              "  </thead>\n",
              "  <tbody>\n",
              "    <tr>\n",
              "      <th>0</th>\n",
              "      <td>RH_2</td>\n",
              "      <td>-0.456698</td>\n",
              "      <td>-0.401134</td>\n",
              "      <td>-0.000000</td>\n",
              "    </tr>\n",
              "    <tr>\n",
              "      <th>1</th>\n",
              "      <td>T_out</td>\n",
              "      <td>-0.321860</td>\n",
              "      <td>-0.250765</td>\n",
              "      <td>0.000000</td>\n",
              "    </tr>\n",
              "    <tr>\n",
              "      <th>2</th>\n",
              "      <td>T2</td>\n",
              "      <td>-0.236178</td>\n",
              "      <td>-0.193880</td>\n",
              "      <td>0.000000</td>\n",
              "    </tr>\n",
              "    <tr>\n",
              "      <th>3</th>\n",
              "      <td>T9</td>\n",
              "      <td>-0.189941</td>\n",
              "      <td>-0.188584</td>\n",
              "      <td>-0.000000</td>\n",
              "    </tr>\n",
              "    <tr>\n",
              "      <th>4</th>\n",
              "      <td>RH_8</td>\n",
              "      <td>-0.157595</td>\n",
              "      <td>-0.156596</td>\n",
              "      <td>-0.000110</td>\n",
              "    </tr>\n",
              "    <tr>\n",
              "      <th>5</th>\n",
              "      <td>RH_out</td>\n",
              "      <td>-0.077671</td>\n",
              "      <td>-0.050541</td>\n",
              "      <td>-0.049557</td>\n",
              "    </tr>\n",
              "    <tr>\n",
              "      <th>6</th>\n",
              "      <td>RH_7</td>\n",
              "      <td>-0.044614</td>\n",
              "      <td>-0.046291</td>\n",
              "      <td>-0.000000</td>\n",
              "    </tr>\n",
              "    <tr>\n",
              "      <th>7</th>\n",
              "      <td>RH_9</td>\n",
              "      <td>-0.039800</td>\n",
              "      <td>-0.041701</td>\n",
              "      <td>-0.000000</td>\n",
              "    </tr>\n",
              "    <tr>\n",
              "      <th>8</th>\n",
              "      <td>T5</td>\n",
              "      <td>-0.015657</td>\n",
              "      <td>-0.020727</td>\n",
              "      <td>-0.000000</td>\n",
              "    </tr>\n",
              "    <tr>\n",
              "      <th>9</th>\n",
              "      <td>T1</td>\n",
              "      <td>-0.003281</td>\n",
              "      <td>-0.021549</td>\n",
              "      <td>0.000000</td>\n",
              "    </tr>\n",
              "    <tr>\n",
              "      <th>10</th>\n",
              "      <td>rv1</td>\n",
              "      <td>0.000770</td>\n",
              "      <td>0.000743</td>\n",
              "      <td>-0.000000</td>\n",
              "    </tr>\n",
              "    <tr>\n",
              "      <th>11</th>\n",
              "      <td>rv2</td>\n",
              "      <td>0.000770</td>\n",
              "      <td>0.000743</td>\n",
              "      <td>-0.000000</td>\n",
              "    </tr>\n",
              "    <tr>\n",
              "      <th>12</th>\n",
              "      <td>Press_mm_hg</td>\n",
              "      <td>0.006839</td>\n",
              "      <td>0.006516</td>\n",
              "      <td>-0.000000</td>\n",
              "    </tr>\n",
              "    <tr>\n",
              "      <th>13</th>\n",
              "      <td>T7</td>\n",
              "      <td>0.010319</td>\n",
              "      <td>0.010021</td>\n",
              "      <td>-0.000000</td>\n",
              "    </tr>\n",
              "    <tr>\n",
              "      <th>14</th>\n",
              "      <td>Visibility</td>\n",
              "      <td>0.012307</td>\n",
              "      <td>0.012032</td>\n",
              "      <td>0.000000</td>\n",
              "    </tr>\n",
              "    <tr>\n",
              "      <th>15</th>\n",
              "      <td>RH_5</td>\n",
              "      <td>0.016006</td>\n",
              "      <td>0.016176</td>\n",
              "      <td>0.000000</td>\n",
              "    </tr>\n",
              "    <tr>\n",
              "      <th>16</th>\n",
              "      <td>RH_4</td>\n",
              "      <td>0.026386</td>\n",
              "      <td>0.024168</td>\n",
              "      <td>0.000000</td>\n",
              "    </tr>\n",
              "    <tr>\n",
              "      <th>17</th>\n",
              "      <td>T4</td>\n",
              "      <td>0.028981</td>\n",
              "      <td>0.027006</td>\n",
              "      <td>-0.000000</td>\n",
              "    </tr>\n",
              "    <tr>\n",
              "      <th>18</th>\n",
              "      <td>Windspeed</td>\n",
              "      <td>0.029183</td>\n",
              "      <td>0.030463</td>\n",
              "      <td>0.002912</td>\n",
              "    </tr>\n",
              "    <tr>\n",
              "      <th>19</th>\n",
              "      <td>RH_6</td>\n",
              "      <td>0.038049</td>\n",
              "      <td>0.035023</td>\n",
              "      <td>-0.000000</td>\n",
              "    </tr>\n",
              "    <tr>\n",
              "      <th>20</th>\n",
              "      <td>RH_3</td>\n",
              "      <td>0.096048</td>\n",
              "      <td>0.094976</td>\n",
              "      <td>0.000000</td>\n",
              "    </tr>\n",
              "    <tr>\n",
              "      <th>21</th>\n",
              "      <td>T8</td>\n",
              "      <td>0.101995</td>\n",
              "      <td>0.100754</td>\n",
              "      <td>0.000000</td>\n",
              "    </tr>\n",
              "    <tr>\n",
              "      <th>22</th>\n",
              "      <td>Tdewpoint</td>\n",
              "      <td>0.117758</td>\n",
              "      <td>0.076668</td>\n",
              "      <td>0.000000</td>\n",
              "    </tr>\n",
              "    <tr>\n",
              "      <th>23</th>\n",
              "      <td>T6</td>\n",
              "      <td>0.236425</td>\n",
              "      <td>0.213316</td>\n",
              "      <td>0.000000</td>\n",
              "    </tr>\n",
              "    <tr>\n",
              "      <th>24</th>\n",
              "      <td>T3</td>\n",
              "      <td>0.290627</td>\n",
              "      <td>0.287408</td>\n",
              "      <td>0.000000</td>\n",
              "    </tr>\n",
              "    <tr>\n",
              "      <th>25</th>\n",
              "      <td>RH_1</td>\n",
              "      <td>0.553547</td>\n",
              "      <td>0.511932</td>\n",
              "      <td>0.017880</td>\n",
              "    </tr>\n",
              "  </tbody>\n",
              "</table>\n",
              "</div>"
            ],
            "text/plain": [
              "       Features  Linear_Model_Weight  Ridge_Weight  Lasso_weight\n",
              "0          RH_2            -0.456698     -0.401134     -0.000000\n",
              "1         T_out            -0.321860     -0.250765      0.000000\n",
              "2            T2            -0.236178     -0.193880      0.000000\n",
              "3            T9            -0.189941     -0.188584     -0.000000\n",
              "4          RH_8            -0.157595     -0.156596     -0.000110\n",
              "5        RH_out            -0.077671     -0.050541     -0.049557\n",
              "6          RH_7            -0.044614     -0.046291     -0.000000\n",
              "7          RH_9            -0.039800     -0.041701     -0.000000\n",
              "8            T5            -0.015657     -0.020727     -0.000000\n",
              "9            T1            -0.003281     -0.021549      0.000000\n",
              "10          rv1             0.000770      0.000743     -0.000000\n",
              "11          rv2             0.000770      0.000743     -0.000000\n",
              "12  Press_mm_hg             0.006839      0.006516     -0.000000\n",
              "13           T7             0.010319      0.010021     -0.000000\n",
              "14   Visibility             0.012307      0.012032      0.000000\n",
              "15         RH_5             0.016006      0.016176      0.000000\n",
              "16         RH_4             0.026386      0.024168      0.000000\n",
              "17           T4             0.028981      0.027006     -0.000000\n",
              "18    Windspeed             0.029183      0.030463      0.002912\n",
              "19         RH_6             0.038049      0.035023     -0.000000\n",
              "20         RH_3             0.096048      0.094976      0.000000\n",
              "21           T8             0.101995      0.100754      0.000000\n",
              "22    Tdewpoint             0.117758      0.076668      0.000000\n",
              "23           T6             0.236425      0.213316      0.000000\n",
              "24           T3             0.290627      0.287408      0.000000\n",
              "25         RH_1             0.553547      0.511932      0.017880"
            ]
          },
          "execution_count": 235,
          "metadata": {},
          "output_type": "execute_result"
        }
      ],
      "source": [
        "\n",
        "#comparing the effects of regularisation \n",
        "def get_weights_df(model, feat, col_name): \n",
        "    #this function returns the weight of every feature \n",
        "    weights = pd.Series(model.coef_, feat.columns).sort_values() \n",
        "    weights_df = pd.DataFrame(weights).reset_index()\n",
        "    weights_df.columns = ['Features', col_name] \n",
        "    weights_df[col_name].round(3) \n",
        "    return weights_df\n",
        "linear_model_weights = get_weights_df(linear_model, X_train, 'Linear_Model_Weight')\n",
        "ridge_weights_df = get_weights_df(ridge_reg, X_train, 'Ridge_Weight') \n",
        "lasso_weights_df = get_weights_df(lasso_reg, X_train, 'Lasso_weight')\n",
        "\n",
        "final_weights = pd.merge(linear_model_weights, ridge_weights_df, on='Features')\n",
        "final_weights = pd.merge(final_weights, lasso_weights_df, on='Features')\n",
        "final_weights"
      ]
    },
    {
      "cell_type": "code",
      "execution_count": null,
      "id": "4d605d78",
      "metadata": {
        "id": "4d605d78",
        "outputId": "07d3f8d0-2c6a-415e-fc10-e2c02cec16ca"
      },
      "outputs": [
        {
          "data": {
            "text/html": [
              "<div>\n",
              "<style scoped>\n",
              "    .dataframe tbody tr th:only-of-type {\n",
              "        vertical-align: middle;\n",
              "    }\n",
              "\n",
              "    .dataframe tbody tr th {\n",
              "        vertical-align: top;\n",
              "    }\n",
              "\n",
              "    .dataframe thead th {\n",
              "        text-align: right;\n",
              "    }\n",
              "</style>\n",
              "<table border=\"1\" class=\"dataframe\">\n",
              "  <thead>\n",
              "    <tr style=\"text-align: right;\">\n",
              "      <th></th>\n",
              "      <th>Features</th>\n",
              "      <th>Linear_Model_Weight</th>\n",
              "    </tr>\n",
              "  </thead>\n",
              "  <tbody>\n",
              "    <tr>\n",
              "      <th>0</th>\n",
              "      <td>RH_2</td>\n",
              "      <td>-0.456698</td>\n",
              "    </tr>\n",
              "    <tr>\n",
              "      <th>1</th>\n",
              "      <td>T_out</td>\n",
              "      <td>-0.321860</td>\n",
              "    </tr>\n",
              "    <tr>\n",
              "      <th>2</th>\n",
              "      <td>T2</td>\n",
              "      <td>-0.236178</td>\n",
              "    </tr>\n",
              "    <tr>\n",
              "      <th>3</th>\n",
              "      <td>T9</td>\n",
              "      <td>-0.189941</td>\n",
              "    </tr>\n",
              "    <tr>\n",
              "      <th>4</th>\n",
              "      <td>RH_8</td>\n",
              "      <td>-0.157595</td>\n",
              "    </tr>\n",
              "  </tbody>\n",
              "</table>\n",
              "</div>"
            ],
            "text/plain": [
              "  Features  Linear_Model_Weight\n",
              "0     RH_2            -0.456698\n",
              "1    T_out            -0.321860\n",
              "2       T2            -0.236178\n",
              "3       T9            -0.189941\n",
              "4     RH_8            -0.157595"
            ]
          },
          "execution_count": 229,
          "metadata": {},
          "output_type": "execute_result"
        }
      ],
      "source": [
        "WE = final_weights[['Features', 'Linear_Model_Weight']]\n",
        "WE.head()"
      ]
    },
    {
      "cell_type": "code",
      "execution_count": null,
      "id": "97599507",
      "metadata": {
        "id": "97599507",
        "outputId": "08900443-87ce-494a-cb1e-8ba622235630"
      },
      "outputs": [
        {
          "data": {
            "text/plain": [
              "(Features               Press_mm_hg\n",
              " Linear_Model_Weight      -0.456698\n",
              " dtype: object,\n",
              " Features                    rv2\n",
              " Linear_Model_Weight    0.553547\n",
              " dtype: object)"
            ]
          },
          "execution_count": 231,
          "metadata": {},
          "output_type": "execute_result"
        }
      ],
      "source": [
        "WE.min(), WE.max()"
      ]
    },
    {
      "cell_type": "code",
      "execution_count": null,
      "id": "6b8181a4",
      "metadata": {
        "id": "6b8181a4",
        "outputId": "15033cab-f19a-4dd5-f98a-aab340ea1ce5"
      },
      "outputs": [
        {
          "name": "stdout",
          "output_type": "stream",
          "text": [
            " the lowest and the highest weight is:(Features               Press_mm_hg\n",
            "Linear_Model_Weight      -0.456698\n",
            "dtype: object, Features                    rv2\n",
            "Linear_Model_Weight    0.553547\n",
            "dtype: object)\n"
          ]
        }
      ],
      "source": [
        "print(' the lowest and the highest weight is:{}'.format(A))"
      ]
    },
    {
      "cell_type": "code",
      "execution_count": null,
      "id": "7716927d",
      "metadata": {
        "id": "7716927d"
      },
      "outputs": [],
      "source": [
        "# so EH_2 and RH_1 are the lowest and the highest weifhts"
      ]
    },
    {
      "cell_type": "code",
      "execution_count": null,
      "id": "3af60539",
      "metadata": {
        "id": "3af60539",
        "outputId": "89b714c9-956c-49bc-e7dc-58aa61383e50"
      },
      "outputs": [
        {
          "data": {
            "text/plain": [
              "array([-0.00328105,  0.5535466 , -0.23617792, -0.45669795,  0.29062714,\n",
              "        0.09604827,  0.028981  ,  0.02638578, -0.01565684,  0.01600579,\n",
              "        0.23642491,  0.03804865,  0.01031878, -0.04461364,  0.10199505,\n",
              "       -0.15759548, -0.18994077, -0.03980032, -0.32185967,  0.00683933,\n",
              "       -0.07767065,  0.02918313,  0.01230661,  0.11775773,  0.0007701 ,\n",
              "        0.0007701 ])"
            ]
          },
          "execution_count": 133,
          "metadata": {},
          "output_type": "execute_result"
        }
      ],
      "source": [
        "\n",
        "from sklearn.linear_model import LinearRegression\n",
        "regr = LinearRegression()\n",
        "regr.fit(X_train, y_train)\n",
        "regr.coef_"
      ]
    },
    {
      "cell_type": "code",
      "execution_count": null,
      "id": "a0fbaef1",
      "metadata": {
        "id": "a0fbaef1",
        "outputId": "d38091d5-cca6-4fdc-8ed6-1c391efb7c6a"
      },
      "outputs": [
        {
          "data": {
            "text/plain": [
              "<AxesSubplot:title={'center':'Linear Coefficients'}>"
            ]
          },
          "execution_count": 144,
          "metadata": {},
          "output_type": "execute_result"
        },
        {
          "data": {
            "image/png": "[encoded data removed]",
            "text/plain": [
              "<Figure size 640x480 with 1 Axes>"
            ]
          },
          "metadata": {},
          "output_type": "display_data"
        }
      ],
      "source": [
        "# Regularization\n",
        "\n",
        "predictors = X_train.columns\n",
        "\n",
        "coef = pd.Series(regr.coef_,predictors).sort_values()\n",
        "\n",
        "coef.plot(kind='bar', title='Linear Coefficients', color = ['blue','red', 'green'])\n"
      ]
    },
    {
      "cell_type": "code",
      "execution_count": null,
      "id": "ff5a58ed",
      "metadata": {
        "id": "ff5a58ed"
      },
      "outputs": [],
      "source": [
        "# I must  bring out  the Rigde(L2) and Lasso(L!) Regression"
      ]
    },
    {
      "cell_type": "code",
      "execution_count": null,
      "id": "1d8ae8ec",
      "metadata": {
        "id": "1d8ae8ec",
        "outputId": "cf392e90-e933-4fc0-de1b-f07b05799b94"
      },
      "outputs": [
        {
          "data": {
            "text/plain": [
              "Ridge(alpha=0.5)"
            ]
          },
          "execution_count": 69,
          "metadata": {},
          "output_type": "execute_result"
        }
      ],
      "source": [
        "#Ridge Regression \n",
        "from sklearn.linear_model import Ridge \n",
        "ridge_reg = Ridge(alpha=0.5) \n",
        "ridge_reg.fit(X_train, y_train)"
      ]
    },
    {
      "cell_type": "code",
      "execution_count": null,
      "id": "102d7876",
      "metadata": {
        "id": "102d7876",
        "outputId": "7f9d84e8-f6ea-48e4-d3ed-9dfafe0fbba9"
      },
      "outputs": [
        {
          "data": {
            "text/plain": [
              "Lasso(alpha=0.001)"
            ]
          },
          "execution_count": 70,
          "metadata": {},
          "output_type": "execute_result"
        }
      ],
      "source": []
    },
    {
      "cell_type": "code",
      "execution_count": null,
      "id": "6979dcba",
      "metadata": {
        "id": "6979dcba",
        "outputId": "159663ed-29ca-4920-9c06-866c339a1e7d"
      },
      "outputs": [
        {
          "name": "stdout",
          "output_type": "stream",
          "text": [
            "Training score: 0.145\n",
            "Testing score: 0.149\n"
          ]
        }
      ],
      "source": [
        "# triaing and test score\n",
        "from sklearn.linear_model import LinearRegression\n",
        "reg = LinearRegression()\n",
        "reg.fit(X_train, y_train)\n",
        "y_pred = reg.predict(X_test)\n",
        "train_score = reg.score(X_train, y_train)\n",
        "test_score = reg.score(X_test, y_test)\n",
        "print('Training score: {:.3f}'.format(train_score))\n",
        "print('Testing score: {:.3f}'.format(test_score))\n"
      ]
    },
    {
      "cell_type": "code",
      "execution_count": null,
      "id": "9259be01",
      "metadata": {
        "id": "9259be01"
      },
      "outputs": [],
      "source": []
    },
    {
      "cell_type": "code",
      "execution_count": null,
      "id": "b5793567",
      "metadata": {
        "id": "b5793567"
      },
      "outputs": [],
      "source": [
        "# Questions 18\n",
        "@ "
      ]
    },
    {
      "cell_type": "code",
      "execution_count": null,
      "id": "e85624b8",
      "metadata": {
        "id": "e85624b8"
      },
      "outputs": [],
      "source": [
        "# i must bring in the Rigde(L2) and Lasso(L!) Regression"
      ]
    },
    {
      "cell_type": "code",
      "execution_count": null,
      "id": "c7a9bfae",
      "metadata": {
        "id": "c7a9bfae",
        "outputId": "ab3128f9-cded-4f06-b713-5c5c3c8924e9"
      },
      "outputs": [
        {
          "data": {
            "text/plain": [
              "Ridge(alpha=0.5)"
            ]
          },
          "execution_count": 119,
          "metadata": {},
          "output_type": "execute_result"
        }
      ],
      "source": [
        "#Ridge Regression \n",
        "from sklearn.linear_model import Ridge \n",
        "ridge_reg = Ridge(alpha=0.5) \n",
        "ridge_reg.fit(X_train, y_train)"
      ]
    },
    {
      "cell_type": "code",
      "execution_count": null,
      "id": "70457ad1",
      "metadata": {
        "id": "70457ad1",
        "outputId": "376d7396-3bdf-40a6-d2a8-7466629e4cef"
      },
      "outputs": [
        {
          "data": {
            "text/plain": [
              "Lasso(alpha=0.001)"
            ]
          },
          "execution_count": 120,
          "metadata": {},
          "output_type": "execute_result"
        }
      ],
      "source": [
        "# Feature Selection and Lasso Regression\n",
        "from sklearn.linear_model import Lasso \n",
        "lasso_reg = Lasso(alpha=0.001) \n",
        "lasso_reg.fit(X_train, y_train)"
      ]
    },
    {
      "cell_type": "code",
      "execution_count": null,
      "id": "7b153f37",
      "metadata": {
        "id": "7b153f37",
        "outputId": "6e9c6d1f-1e0d-4dde-d9cf-60e8551811b4"
      },
      "outputs": [
        {
          "name": "stdout",
          "output_type": "stream",
          "text": [
            "Training score of ridge regression model: 0.145\n",
            "Testing score of ridge regression model: 0.149\n"
          ]
        }
      ],
      "source": [
        "#Ridege Regress\n",
        "# performing ridge regression at alpha = 0.4\n",
        "\n",
        "from sklearn.linear_model import Ridge\n",
        "ridge = Ridge(alpha = 0.4)\n",
        "ridge.fit(X_train, y_train)\n",
        "\n",
        "# Obtain predictions\n",
        "ridge_pred = ridge.predict(X_test)\n",
        "train_score = ridge.score(X_train, y_train)\n",
        "test_score = ridge.score(X_test, y_test)\n",
        "print('Training score of ridge regression model: {:.3f}'.format(train_score))\n",
        "print('Testing score of ridge regression model: {:.3f}'.format(test_score))\n"
      ]
    },
    {
      "cell_type": "code",
      "execution_count": null,
      "id": "b28f476c",
      "metadata": {
        "id": "b28f476c",
        "outputId": "b5c035e6-091b-4356-9cb0-480212dcc238"
      },
      "outputs": [
        {
          "name": "stdout",
          "output_type": "stream",
          "text": [
            "Mean Absolute Error for Ridge model: 0.05\n"
          ]
        }
      ],
      "source": [
        "# Prediction with Ridge\n",
        "R = ridge.predict(X_test)\n",
        "# Mean Absolute Error with Ridge\n",
        "from sklearn.metrics import mean_absolute_error\n",
        "mae_R = mean_absolute_error(y_test, R)\n",
        "print('Mean Absolute Error for Ridge model: {}'.format(round(mae_R, 2)))\n"
      ]
    },
    {
      "cell_type": "code",
      "execution_count": null,
      "id": "62e26325",
      "metadata": {
        "id": "62e26325",
        "outputId": "6813649a-cfa8-43cb-8570-cbcf73314657"
      },
      "outputs": [
        {
          "name": "stdout",
          "output_type": "stream",
          "text": [
            "Residual sum of Squares for Ridge: 45.37\n"
          ]
        }
      ],
      "source": [
        "#Residual Sum of Squares (RSS) for Ridge\n",
        "rss_R = np.sum(np.square(y_test - R))\n",
        "print('Residual sum of Squares for Ridge: {}'.format(round(rss_R, 2)))"
      ]
    },
    {
      "cell_type": "code",
      "execution_count": null,
      "id": "cc2721f3",
      "metadata": {
        "id": "cc2721f3"
      },
      "outputs": [],
      "source": []
    },
    {
      "cell_type": "code",
      "execution_count": null,
      "id": "1de4a7f7",
      "metadata": {
        "id": "1de4a7f7"
      },
      "outputs": [],
      "source": []
    },
    {
      "cell_type": "code",
      "execution_count": null,
      "id": "42041697",
      "metadata": {
        "id": "42041697",
        "outputId": "047ff944-35af-4a6d-fac8-b5ed736f619d"
      },
      "outputs": [
        {
          "name": "stdout",
          "output_type": "stream",
          "text": [
            "Root Mean Squared Error for Ridge model: 0.088\n"
          ]
        }
      ],
      "source": [
        "# Root Mean Squared Error (RMSE) for Ridge\n",
        "from sklearn.metrics import mean_squared_error\n",
        "mse_R = mean_squared_error(y_test, R)\n",
        "rmse_R = np.sqrt(mse_R)\n",
        "print('Root Mean Squared Error for Ridge model: {}'.format(round(rmse_R, 3)))"
      ]
    },
    {
      "cell_type": "code",
      "execution_count": null,
      "id": "997d9e75",
      "metadata": {
        "id": "997d9e75"
      },
      "outputs": [],
      "source": [
        "# QUESTIONS 18\n",
        "# THE ANSWER is  NO there is no difference  as the answers are below  as R and Q\n"
      ]
    },
    {
      "cell_type": "code",
      "execution_count": null,
      "id": "bff3d8f5",
      "metadata": {
        "id": "bff3d8f5",
        "outputId": "d88fe5b3-de99-4adf-d84b-54a699bee828"
      },
      "outputs": [
        {
          "data": {
            "text/plain": [
              "'Root Mean Squared Error for Ridge model: 0.088'"
            ]
          },
          "execution_count": 253,
          "metadata": {},
          "output_type": "execute_result"
        }
      ],
      "source": [
        "R =('Root Mean Squared Error for Ridge model: {}'.format(round(rmse_R, 3)))\n",
        "R"
      ]
    },
    {
      "cell_type": "code",
      "source": [],
      "metadata": {
        "id": "VU9qlIo24OJ6"
      },
      "id": "VU9qlIo24OJ6",
      "execution_count": null,
      "outputs": []
    },
    {
      "cell_type": "code",
      "execution_count": null,
      "id": "d2c73a6c",
      "metadata": {
        "id": "d2c73a6c",
        "outputId": "1e42e3c6-df23-4e39-b54b-afdf4b67e664"
      },
      "outputs": [
        {
          "data": {
            "text/plain": [
              "'Root Mean Squared Error: 0.088'"
            ]
          },
          "execution_count": 254,
          "metadata": {},
          "output_type": "execute_result"
        }
      ],
      "source": [
        " Q = ('Root Mean Squared Error: {}'.format(round(rmse, 3)))\n",
        " Q"
      ]
    },
    {
      "cell_type": "code",
      "execution_count": null,
      "id": "fcc2a638",
      "metadata": {
        "id": "fcc2a638",
        "outputId": "aa77ce6d-d7c0-49bb-a745-338dceedc8c8"
      },
      "outputs": [
        {
          "name": "stdout",
          "output_type": "stream",
          "text": [
            "R-Squared for Ridge model: 0.15\n"
          ]
        }
      ],
      "source": [
        "# R_Squared (coefficient of determination)\n",
        "from sklearn.metrics import r2_score\n",
        "r_squared_R = r2_score(y_test, R)\n",
        "print('R-Squared for Ridge model: {}'.format(round(r_squared_R, 2)))"
      ]
    },
    {
      "cell_type": "code",
      "execution_count": null,
      "id": "a5938b9f",
      "metadata": {
        "id": "a5938b9f"
      },
      "outputs": [],
      "source": [
        "#Lasso Regression(L1) "
      ]
    },
    {
      "cell_type": "code",
      "execution_count": null,
      "id": "067d5711",
      "metadata": {
        "id": "067d5711",
        "outputId": "26ef0e0e-cd44-4668-a809-b1b5a8f528ad"
      },
      "outputs": [
        {
          "data": {
            "text/plain": [
              "array([ 0.        ,  0.01787993,  0.        , -0.        ,  0.        ,\n",
              "        0.        , -0.        ,  0.        , -0.        ,  0.        ,\n",
              "        0.        , -0.        , -0.        , -0.        ,  0.        ,\n",
              "       -0.00011004, -0.        , -0.        ,  0.        , -0.        ,\n",
              "       -0.04955749,  0.00291176,  0.        ,  0.        , -0.        ,\n",
              "       -0.        ])"
            ]
          },
          "execution_count": 127,
          "metadata": {},
          "output_type": "execute_result"
        }
      ],
      "source": [
        "# Lasso model at alpha = 0.001\n",
        "\n",
        "from sklearn.linear_model import Lasso\n",
        "lasso_reg = Lasso(alpha = 0.001)\n",
        "lasso_reg.fit(X_train, y_train)\n",
        "lasso_reg_pred = lasso_reg.predict(X_test)\n",
        "lasso_reg.coef_\n"
      ]
    },
    {
      "cell_type": "code",
      "execution_count": null,
      "id": "e3a9dec9",
      "metadata": {
        "id": "e3a9dec9"
      },
      "outputs": [],
      "source": [
        "# QUESTIONS 19"
      ]
    },
    {
      "cell_type": "code",
      "execution_count": null,
      "id": "76150d43",
      "metadata": {
        "id": "76150d43",
        "outputId": "6faf3390-ad76-4110-870d-7b69bc438660"
      },
      "outputs": [
        {
          "name": "stdout",
          "output_type": "stream",
          "text": [
            "Training score of Lasso regression model: 0.025\n",
            "Testing score of Lasso regression model: 0.027\n",
            "Number of features for training: 4.000\n"
          ]
        }
      ],
      "source": [
        "# do the traine and test score to get the number of features of training\n",
        "train_score = lasso_reg.score(X_train, y_train)\n",
        "test_score = lasso_reg.score(X_test, y_test)\n",
        "\n",
        "print('Training score of Lasso regression model: {:.3f}'.format(train_score))\n",
        "print('Testing score of Lasso regression model: {:.3f}'.format(test_score))\n",
        "print('Number of features for training: {:.3f}'.format(np.sum(lasso_reg.coef_ != 0)))\n"
      ]
    },
    {
      "cell_type": "code",
      "execution_count": null,
      "id": "8773c3e5",
      "metadata": {
        "id": "8773c3e5",
        "outputId": "1cf99efe-5984-4c27-a3fe-e11f7e140c27"
      },
      "outputs": [
        {
          "name": "stdout",
          "output_type": "stream",
          "text": [
            "Number of features for training: 4.000\n"
          ]
        }
      ],
      "source": [
        "# THE Number of features for training:\n",
        "print('Number of features for training: {:.3f}'.format(np.sum(lasso_reg.coef_ != 0)))\n"
      ]
    },
    {
      "cell_type": "code",
      "execution_count": null,
      "id": "163c6ebc",
      "metadata": {
        "id": "163c6ebc",
        "outputId": "2b9e13f6-80a8-48d7-eb26-2a36c7c8273d"
      },
      "outputs": [
        {
          "name": "stdout",
          "output_type": "stream",
          "text": [
            "Mean Absolute Error for Lasso model: 0.06\n"
          ]
        }
      ],
      "source": [
        "# get the MAE\n",
        "#prediction with Lasso\n",
        "L = lasso_reg.predict(X_test)\n",
        "# Mean Absolute Error with Lasso\n",
        "from sklearn.metrics import mean_absolute_error\n",
        "mae_L = mean_absolute_error(y_test, L)\n",
        "print('Mean Absolute Error for Lasso model: {}'.format(round(mae_L, 2)))\n"
      ]
    },
    {
      "cell_type": "code",
      "execution_count": null,
      "id": "bec09c2b",
      "metadata": {
        "id": "bec09c2b",
        "outputId": "397245e7-fd0b-4b5b-919c-70a0015f652a"
      },
      "outputs": [
        {
          "name": "stdout",
          "output_type": "stream",
          "text": [
            "Residual Sum of Squares for Lasso: 51.85\n"
          ]
        }
      ],
      "source": [
        "# Residual Sum of Squares (RSS) for Lasso\n",
        "rss_L = np.sum(np.square(y_test - L))\n",
        "print('Residual Sum of Squares for Lasso: {}'.format(round(rss_L, 2)))\n"
      ]
    },
    {
      "cell_type": "code",
      "execution_count": null,
      "id": "30b39021",
      "metadata": {
        "id": "30b39021"
      },
      "outputs": [],
      "source": [
        "# QUESTIONS 20"
      ]
    },
    {
      "cell_type": "code",
      "execution_count": null,
      "id": "92c4b8b1",
      "metadata": {
        "id": "92c4b8b1",
        "outputId": "73bbfaf6-8b41-4b49-9694-4e7cf106e226"
      },
      "outputs": [
        {
          "name": "stdout",
          "output_type": "stream",
          "text": [
            "Root Mean Squared Error for Lasso model: 0.094\n"
          ]
        }
      ],
      "source": [
        "# Root Mean Squared Error (RMSE) for Lasso model\n",
        "from sklearn.metrics import mean_squared_error\n",
        "mse_L = mean_squared_error(y_test, L)\n",
        "rmse_L = np.sqrt(mse_L)\n",
        "print('Root Mean Squared Error for Lasso model: {}'.format(round(rmse_L, 3)))"
      ]
    },
    {
      "cell_type": "code",
      "execution_count": null,
      "id": "1a5eda30",
      "metadata": {
        "id": "1a5eda30"
      },
      "outputs": [],
      "source": []
    }
  ],
  "metadata": {
    "kernelspec": {
      "display_name": "Python 3 (ipykernel)",
      "language": "python",
      "name": "python3"
    },
    "language_info": {
      "codemirror_mode": {
        "name": "ipython",
        "version": 3
      },
      "file_extension": ".py",
      "mimetype": "text/x-python",
      "name": "python",
      "nbconvert_exporter": "python",
      "pygments_lexer": "ipython3",
      "version": "3.9.13"
    },
    "colab": {
      "provenance": [],
      "include_colab_link": true
    }
  },
  "nbformat": 4,
  "nbformat_minor": 5
}