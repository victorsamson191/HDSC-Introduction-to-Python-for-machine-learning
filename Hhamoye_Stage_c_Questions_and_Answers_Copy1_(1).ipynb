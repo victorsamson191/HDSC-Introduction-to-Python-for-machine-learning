{
  "cells": [
    {
      "cell_type": "markdown",
      "metadata": {
        "id": "view-in-github",
        "colab_type": "text"
      },
      "source": [
        "<a href=\"https://colab.research.google.com/github/victorsamson191/HDSC-Introduction-to-Python-for-machine-learning/blob/master/Hhamoye_Stage_c_Questions_and_Answers_Copy1_(1).ipynb\" target=\"_parent\"><img src=\"https://colab.research.google.com/assets/colab-badge.svg\" alt=\"Open In Colab\"/></a>"
      ]
    },
    {
      "cell_type": "code",
      "execution_count": null,
      "id": "eb1cf6dd",
      "metadata": {
        "id": "eb1cf6dd"
      },
      "outputs": [],
      "source": [
        "# first I make sure that I uploaded the data and store it then I uploaded as u_df and the data description was as follows"
      ]
    },
    {
      "cell_type": "code",
      "execution_count": null,
      "id": "f9aedd45",
      "metadata": {
        "id": "f9aedd45"
      },
      "outputs": [],
      "source": [
        "#Dataset Description\n",
        "#Predictive features:\n",
        "\n",
        "#'tau1' to 'tau4': the reaction time of each network participant, a real value within the range 0.5 to 10 ('tau1' corresponds to the supplier node, 'tau2' to 'tau4' to the consumer nodes);\n",
        "#'p1' to 'p4': nominal power produced (positive) or consumed (negative) by each network participant, a real value within the range -2.0 to -0.5 for consumers ('p2' to 'p4'). As the total power consumed equals the total power generated, p1 (supplier node) = - (p2 + p3 + p4);\n",
        "#'g1' to 'g4': price elasticity coefficient for each network participant, a real value within the range 0.05 to 1.00 ('g1' corresponds to the supplier node, 'g2' to 'g4' to the consumer nodes; 'g' stands for 'gamma');\n",
        "\n",
        "#Dependent variables:\n",
        "#'stab': the maximum real part of the characteristic differential equation root (if positive, the system is linearly unstable; if negative, linearly stable);\n",
        "#'stabf': a categorical (binary) label ('stable' or 'unstable')"
      ]
    },
    {
      "cell_type": "code",
      "execution_count": null,
      "id": "60a1e87d",
      "metadata": {
        "id": "60a1e87d"
      },
      "outputs": [],
      "source": [
        "#importing libraries\n",
        "import pandas as pd\n",
        "import numpy as np\n",
        "import matplotlib.pyplot as plt\n",
        "%matplotlib inline\n"
      ]
    },
    {
      "cell_type": "code",
      "execution_count": null,
      "id": "0c7841a2",
      "metadata": {
        "id": "0c7841a2",
        "outputId": "f31c1f85-b16e-44dc-82e9-a9dd2a03aed2"
      },
      "outputs": [
        {
          "name": "stdout",
          "output_type": "stream",
          "text": [
            "Requirement already satisfied: xgboost in c:\\users\\hp\\onedrive\\new folder\\new folder\\lib\\site-packages (1.7.6)\n",
            "Requirement already satisfied: numpy in c:\\users\\hp\\onedrive\\new folder\\new folder\\lib\\site-packages (from xgboost) (1.21.5)\n",
            "Requirement already satisfied: scipy in c:\\users\\hp\\onedrive\\new folder\\new folder\\lib\\site-packages (from xgboost) (1.9.1)\n",
            "Note: you may need to restart the kernel to use updated packages.\n"
          ]
        }
      ],
      "source": [
        "pip install xgboost"
      ]
    },
    {
      "cell_type": "code",
      "execution_count": null,
      "id": "99f7f08e",
      "metadata": {
        "id": "99f7f08e",
        "outputId": "a304de8c-1b2a-485a-bfcc-a0f61ee9b458"
      },
      "outputs": [
        {
          "data": {
            "text/html": [
              "<div>\n",
              "<style scoped>\n",
              "    .dataframe tbody tr th:only-of-type {\n",
              "        vertical-align: middle;\n",
              "    }\n",
              "\n",
              "    .dataframe tbody tr th {\n",
              "        vertical-align: top;\n",
              "    }\n",
              "\n",
              "    .dataframe thead th {\n",
              "        text-align: right;\n",
              "    }\n",
              "</style>\n",
              "<table border=\"1\" class=\"dataframe\">\n",
              "  <thead>\n",
              "    <tr style=\"text-align: right;\">\n",
              "      <th></th>\n",
              "      <th>tau1</th>\n",
              "      <th>tau2</th>\n",
              "      <th>tau3</th>\n",
              "      <th>tau4</th>\n",
              "      <th>p1</th>\n",
              "      <th>p2</th>\n",
              "      <th>p3</th>\n",
              "      <th>p4</th>\n",
              "      <th>g1</th>\n",
              "      <th>g2</th>\n",
              "      <th>g3</th>\n",
              "      <th>g4</th>\n",
              "      <th>stab</th>\n",
              "      <th>stabf</th>\n",
              "    </tr>\n",
              "  </thead>\n",
              "  <tbody>\n",
              "    <tr>\n",
              "      <th>0</th>\n",
              "      <td>2.959060</td>\n",
              "      <td>3.079885</td>\n",
              "      <td>8.381025</td>\n",
              "      <td>9.780754</td>\n",
              "      <td>3.763085</td>\n",
              "      <td>-0.782604</td>\n",
              "      <td>-1.257395</td>\n",
              "      <td>-1.723086</td>\n",
              "      <td>0.650456</td>\n",
              "      <td>0.859578</td>\n",
              "      <td>0.887445</td>\n",
              "      <td>0.958034</td>\n",
              "      <td>0.055347</td>\n",
              "      <td>unstable</td>\n",
              "    </tr>\n",
              "    <tr>\n",
              "      <th>1</th>\n",
              "      <td>9.304097</td>\n",
              "      <td>4.902524</td>\n",
              "      <td>3.047541</td>\n",
              "      <td>1.369357</td>\n",
              "      <td>5.067812</td>\n",
              "      <td>-1.940058</td>\n",
              "      <td>-1.872742</td>\n",
              "      <td>-1.255012</td>\n",
              "      <td>0.413441</td>\n",
              "      <td>0.862414</td>\n",
              "      <td>0.562139</td>\n",
              "      <td>0.781760</td>\n",
              "      <td>-0.005957</td>\n",
              "      <td>stable</td>\n",
              "    </tr>\n",
              "    <tr>\n",
              "      <th>2</th>\n",
              "      <td>8.971707</td>\n",
              "      <td>8.848428</td>\n",
              "      <td>3.046479</td>\n",
              "      <td>1.214518</td>\n",
              "      <td>3.405158</td>\n",
              "      <td>-1.207456</td>\n",
              "      <td>-1.277210</td>\n",
              "      <td>-0.920492</td>\n",
              "      <td>0.163041</td>\n",
              "      <td>0.766689</td>\n",
              "      <td>0.839444</td>\n",
              "      <td>0.109853</td>\n",
              "      <td>0.003471</td>\n",
              "      <td>unstable</td>\n",
              "    </tr>\n",
              "    <tr>\n",
              "      <th>3</th>\n",
              "      <td>0.716415</td>\n",
              "      <td>7.669600</td>\n",
              "      <td>4.486641</td>\n",
              "      <td>2.340563</td>\n",
              "      <td>3.963791</td>\n",
              "      <td>-1.027473</td>\n",
              "      <td>-1.938944</td>\n",
              "      <td>-0.997374</td>\n",
              "      <td>0.446209</td>\n",
              "      <td>0.976744</td>\n",
              "      <td>0.929381</td>\n",
              "      <td>0.362718</td>\n",
              "      <td>0.028871</td>\n",
              "      <td>unstable</td>\n",
              "    </tr>\n",
              "    <tr>\n",
              "      <th>4</th>\n",
              "      <td>3.134112</td>\n",
              "      <td>7.608772</td>\n",
              "      <td>4.943759</td>\n",
              "      <td>9.857573</td>\n",
              "      <td>3.525811</td>\n",
              "      <td>-1.125531</td>\n",
              "      <td>-1.845975</td>\n",
              "      <td>-0.554305</td>\n",
              "      <td>0.797110</td>\n",
              "      <td>0.455450</td>\n",
              "      <td>0.656947</td>\n",
              "      <td>0.820923</td>\n",
              "      <td>0.049860</td>\n",
              "      <td>unstable</td>\n",
              "    </tr>\n",
              "    <tr>\n",
              "      <th>...</th>\n",
              "      <td>...</td>\n",
              "      <td>...</td>\n",
              "      <td>...</td>\n",
              "      <td>...</td>\n",
              "      <td>...</td>\n",
              "      <td>...</td>\n",
              "      <td>...</td>\n",
              "      <td>...</td>\n",
              "      <td>...</td>\n",
              "      <td>...</td>\n",
              "      <td>...</td>\n",
              "      <td>...</td>\n",
              "      <td>...</td>\n",
              "      <td>...</td>\n",
              "    </tr>\n",
              "    <tr>\n",
              "      <th>9995</th>\n",
              "      <td>2.930406</td>\n",
              "      <td>9.487627</td>\n",
              "      <td>2.376523</td>\n",
              "      <td>6.187797</td>\n",
              "      <td>3.343416</td>\n",
              "      <td>-0.658054</td>\n",
              "      <td>-1.449106</td>\n",
              "      <td>-1.236256</td>\n",
              "      <td>0.601709</td>\n",
              "      <td>0.779642</td>\n",
              "      <td>0.813512</td>\n",
              "      <td>0.608385</td>\n",
              "      <td>0.023892</td>\n",
              "      <td>unstable</td>\n",
              "    </tr>\n",
              "    <tr>\n",
              "      <th>9996</th>\n",
              "      <td>3.392299</td>\n",
              "      <td>1.274827</td>\n",
              "      <td>2.954947</td>\n",
              "      <td>6.894759</td>\n",
              "      <td>4.349512</td>\n",
              "      <td>-1.663661</td>\n",
              "      <td>-0.952437</td>\n",
              "      <td>-1.733414</td>\n",
              "      <td>0.502079</td>\n",
              "      <td>0.567242</td>\n",
              "      <td>0.285880</td>\n",
              "      <td>0.366120</td>\n",
              "      <td>-0.025803</td>\n",
              "      <td>stable</td>\n",
              "    </tr>\n",
              "    <tr>\n",
              "      <th>9997</th>\n",
              "      <td>2.364034</td>\n",
              "      <td>2.842030</td>\n",
              "      <td>8.776391</td>\n",
              "      <td>1.008906</td>\n",
              "      <td>4.299976</td>\n",
              "      <td>-1.380719</td>\n",
              "      <td>-0.943884</td>\n",
              "      <td>-1.975373</td>\n",
              "      <td>0.487838</td>\n",
              "      <td>0.986505</td>\n",
              "      <td>0.149286</td>\n",
              "      <td>0.145984</td>\n",
              "      <td>-0.031810</td>\n",
              "      <td>stable</td>\n",
              "    </tr>\n",
              "    <tr>\n",
              "      <th>9998</th>\n",
              "      <td>9.631511</td>\n",
              "      <td>3.994398</td>\n",
              "      <td>2.757071</td>\n",
              "      <td>7.821347</td>\n",
              "      <td>2.514755</td>\n",
              "      <td>-0.966330</td>\n",
              "      <td>-0.649915</td>\n",
              "      <td>-0.898510</td>\n",
              "      <td>0.365246</td>\n",
              "      <td>0.587558</td>\n",
              "      <td>0.889118</td>\n",
              "      <td>0.818391</td>\n",
              "      <td>0.037789</td>\n",
              "      <td>unstable</td>\n",
              "    </tr>\n",
              "    <tr>\n",
              "      <th>9999</th>\n",
              "      <td>6.530527</td>\n",
              "      <td>6.781790</td>\n",
              "      <td>4.349695</td>\n",
              "      <td>8.673138</td>\n",
              "      <td>3.492807</td>\n",
              "      <td>-1.390285</td>\n",
              "      <td>-1.532193</td>\n",
              "      <td>-0.570329</td>\n",
              "      <td>0.073056</td>\n",
              "      <td>0.505441</td>\n",
              "      <td>0.378761</td>\n",
              "      <td>0.942631</td>\n",
              "      <td>0.045263</td>\n",
              "      <td>unstable</td>\n",
              "    </tr>\n",
              "  </tbody>\n",
              "</table>\n",
              "<p>10000 rows × 14 columns</p>\n",
              "</div>"
            ],
            "text/plain": [
              "          tau1      tau2      tau3      tau4        p1        p2        p3  \\\n",
              "0     2.959060  3.079885  8.381025  9.780754  3.763085 -0.782604 -1.257395   \n",
              "1     9.304097  4.902524  3.047541  1.369357  5.067812 -1.940058 -1.872742   \n",
              "2     8.971707  8.848428  3.046479  1.214518  3.405158 -1.207456 -1.277210   \n",
              "3     0.716415  7.669600  4.486641  2.340563  3.963791 -1.027473 -1.938944   \n",
              "4     3.134112  7.608772  4.943759  9.857573  3.525811 -1.125531 -1.845975   \n",
              "...        ...       ...       ...       ...       ...       ...       ...   \n",
              "9995  2.930406  9.487627  2.376523  6.187797  3.343416 -0.658054 -1.449106   \n",
              "9996  3.392299  1.274827  2.954947  6.894759  4.349512 -1.663661 -0.952437   \n",
              "9997  2.364034  2.842030  8.776391  1.008906  4.299976 -1.380719 -0.943884   \n",
              "9998  9.631511  3.994398  2.757071  7.821347  2.514755 -0.966330 -0.649915   \n",
              "9999  6.530527  6.781790  4.349695  8.673138  3.492807 -1.390285 -1.532193   \n",
              "\n",
              "            p4        g1        g2        g3        g4      stab     stabf  \n",
              "0    -1.723086  0.650456  0.859578  0.887445  0.958034  0.055347  unstable  \n",
              "1    -1.255012  0.413441  0.862414  0.562139  0.781760 -0.005957    stable  \n",
              "2    -0.920492  0.163041  0.766689  0.839444  0.109853  0.003471  unstable  \n",
              "3    -0.997374  0.446209  0.976744  0.929381  0.362718  0.028871  unstable  \n",
              "4    -0.554305  0.797110  0.455450  0.656947  0.820923  0.049860  unstable  \n",
              "...        ...       ...       ...       ...       ...       ...       ...  \n",
              "9995 -1.236256  0.601709  0.779642  0.813512  0.608385  0.023892  unstable  \n",
              "9996 -1.733414  0.502079  0.567242  0.285880  0.366120 -0.025803    stable  \n",
              "9997 -1.975373  0.487838  0.986505  0.149286  0.145984 -0.031810    stable  \n",
              "9998 -0.898510  0.365246  0.587558  0.889118  0.818391  0.037789  unstable  \n",
              "9999 -0.570329  0.073056  0.505441  0.378761  0.942631  0.045263  unstable  \n",
              "\n",
              "[10000 rows x 14 columns]"
            ]
          },
          "execution_count": 102,
          "metadata": {},
          "output_type": "execute_result"
        }
      ],
      "source": [
        "import pandas as pd\n",
        "u_df = pd.read_csv('Data_for_UCI_named.csv')\n",
        "u_df"
      ]
    },
    {
      "cell_type": "code",
      "execution_count": null,
      "id": "2723eebc",
      "metadata": {
        "id": "2723eebc",
        "outputId": "4082d33f-76c3-4a31-f811-1da7bf64c444"
      },
      "outputs": [
        {
          "data": {
            "text/html": [
              "<div>\n",
              "<style scoped>\n",
              "    .dataframe tbody tr th:only-of-type {\n",
              "        vertical-align: middle;\n",
              "    }\n",
              "\n",
              "    .dataframe tbody tr th {\n",
              "        vertical-align: top;\n",
              "    }\n",
              "\n",
              "    .dataframe thead th {\n",
              "        text-align: right;\n",
              "    }\n",
              "</style>\n",
              "<table border=\"1\" class=\"dataframe\">\n",
              "  <thead>\n",
              "    <tr style=\"text-align: right;\">\n",
              "      <th></th>\n",
              "      <th>tau1</th>\n",
              "      <th>tau2</th>\n",
              "      <th>tau3</th>\n",
              "      <th>tau4</th>\n",
              "      <th>p1</th>\n",
              "      <th>p2</th>\n",
              "      <th>p3</th>\n",
              "      <th>p4</th>\n",
              "      <th>g1</th>\n",
              "      <th>g2</th>\n",
              "      <th>g3</th>\n",
              "      <th>g4</th>\n",
              "      <th>stab</th>\n",
              "      <th>stabf</th>\n",
              "    </tr>\n",
              "  </thead>\n",
              "  <tbody>\n",
              "    <tr>\n",
              "      <th>0</th>\n",
              "      <td>2.959060</td>\n",
              "      <td>3.079885</td>\n",
              "      <td>8.381025</td>\n",
              "      <td>9.780754</td>\n",
              "      <td>3.763085</td>\n",
              "      <td>-0.782604</td>\n",
              "      <td>-1.257395</td>\n",
              "      <td>-1.723086</td>\n",
              "      <td>0.650456</td>\n",
              "      <td>0.859578</td>\n",
              "      <td>0.887445</td>\n",
              "      <td>0.958034</td>\n",
              "      <td>0.055347</td>\n",
              "      <td>unstable</td>\n",
              "    </tr>\n",
              "    <tr>\n",
              "      <th>1</th>\n",
              "      <td>9.304097</td>\n",
              "      <td>4.902524</td>\n",
              "      <td>3.047541</td>\n",
              "      <td>1.369357</td>\n",
              "      <td>5.067812</td>\n",
              "      <td>-1.940058</td>\n",
              "      <td>-1.872742</td>\n",
              "      <td>-1.255012</td>\n",
              "      <td>0.413441</td>\n",
              "      <td>0.862414</td>\n",
              "      <td>0.562139</td>\n",
              "      <td>0.781760</td>\n",
              "      <td>-0.005957</td>\n",
              "      <td>stable</td>\n",
              "    </tr>\n",
              "    <tr>\n",
              "      <th>2</th>\n",
              "      <td>8.971707</td>\n",
              "      <td>8.848428</td>\n",
              "      <td>3.046479</td>\n",
              "      <td>1.214518</td>\n",
              "      <td>3.405158</td>\n",
              "      <td>-1.207456</td>\n",
              "      <td>-1.277210</td>\n",
              "      <td>-0.920492</td>\n",
              "      <td>0.163041</td>\n",
              "      <td>0.766689</td>\n",
              "      <td>0.839444</td>\n",
              "      <td>0.109853</td>\n",
              "      <td>0.003471</td>\n",
              "      <td>unstable</td>\n",
              "    </tr>\n",
              "    <tr>\n",
              "      <th>3</th>\n",
              "      <td>0.716415</td>\n",
              "      <td>7.669600</td>\n",
              "      <td>4.486641</td>\n",
              "      <td>2.340563</td>\n",
              "      <td>3.963791</td>\n",
              "      <td>-1.027473</td>\n",
              "      <td>-1.938944</td>\n",
              "      <td>-0.997374</td>\n",
              "      <td>0.446209</td>\n",
              "      <td>0.976744</td>\n",
              "      <td>0.929381</td>\n",
              "      <td>0.362718</td>\n",
              "      <td>0.028871</td>\n",
              "      <td>unstable</td>\n",
              "    </tr>\n",
              "    <tr>\n",
              "      <th>4</th>\n",
              "      <td>3.134112</td>\n",
              "      <td>7.608772</td>\n",
              "      <td>4.943759</td>\n",
              "      <td>9.857573</td>\n",
              "      <td>3.525811</td>\n",
              "      <td>-1.125531</td>\n",
              "      <td>-1.845975</td>\n",
              "      <td>-0.554305</td>\n",
              "      <td>0.797110</td>\n",
              "      <td>0.455450</td>\n",
              "      <td>0.656947</td>\n",
              "      <td>0.820923</td>\n",
              "      <td>0.049860</td>\n",
              "      <td>unstable</td>\n",
              "    </tr>\n",
              "    <tr>\n",
              "      <th>...</th>\n",
              "      <td>...</td>\n",
              "      <td>...</td>\n",
              "      <td>...</td>\n",
              "      <td>...</td>\n",
              "      <td>...</td>\n",
              "      <td>...</td>\n",
              "      <td>...</td>\n",
              "      <td>...</td>\n",
              "      <td>...</td>\n",
              "      <td>...</td>\n",
              "      <td>...</td>\n",
              "      <td>...</td>\n",
              "      <td>...</td>\n",
              "      <td>...</td>\n",
              "    </tr>\n",
              "    <tr>\n",
              "      <th>9995</th>\n",
              "      <td>2.930406</td>\n",
              "      <td>9.487627</td>\n",
              "      <td>2.376523</td>\n",
              "      <td>6.187797</td>\n",
              "      <td>3.343416</td>\n",
              "      <td>-0.658054</td>\n",
              "      <td>-1.449106</td>\n",
              "      <td>-1.236256</td>\n",
              "      <td>0.601709</td>\n",
              "      <td>0.779642</td>\n",
              "      <td>0.813512</td>\n",
              "      <td>0.608385</td>\n",
              "      <td>0.023892</td>\n",
              "      <td>unstable</td>\n",
              "    </tr>\n",
              "    <tr>\n",
              "      <th>9996</th>\n",
              "      <td>3.392299</td>\n",
              "      <td>1.274827</td>\n",
              "      <td>2.954947</td>\n",
              "      <td>6.894759</td>\n",
              "      <td>4.349512</td>\n",
              "      <td>-1.663661</td>\n",
              "      <td>-0.952437</td>\n",
              "      <td>-1.733414</td>\n",
              "      <td>0.502079</td>\n",
              "      <td>0.567242</td>\n",
              "      <td>0.285880</td>\n",
              "      <td>0.366120</td>\n",
              "      <td>-0.025803</td>\n",
              "      <td>stable</td>\n",
              "    </tr>\n",
              "    <tr>\n",
              "      <th>9997</th>\n",
              "      <td>2.364034</td>\n",
              "      <td>2.842030</td>\n",
              "      <td>8.776391</td>\n",
              "      <td>1.008906</td>\n",
              "      <td>4.299976</td>\n",
              "      <td>-1.380719</td>\n",
              "      <td>-0.943884</td>\n",
              "      <td>-1.975373</td>\n",
              "      <td>0.487838</td>\n",
              "      <td>0.986505</td>\n",
              "      <td>0.149286</td>\n",
              "      <td>0.145984</td>\n",
              "      <td>-0.031810</td>\n",
              "      <td>stable</td>\n",
              "    </tr>\n",
              "    <tr>\n",
              "      <th>9998</th>\n",
              "      <td>9.631511</td>\n",
              "      <td>3.994398</td>\n",
              "      <td>2.757071</td>\n",
              "      <td>7.821347</td>\n",
              "      <td>2.514755</td>\n",
              "      <td>-0.966330</td>\n",
              "      <td>-0.649915</td>\n",
              "      <td>-0.898510</td>\n",
              "      <td>0.365246</td>\n",
              "      <td>0.587558</td>\n",
              "      <td>0.889118</td>\n",
              "      <td>0.818391</td>\n",
              "      <td>0.037789</td>\n",
              "      <td>unstable</td>\n",
              "    </tr>\n",
              "    <tr>\n",
              "      <th>9999</th>\n",
              "      <td>6.530527</td>\n",
              "      <td>6.781790</td>\n",
              "      <td>4.349695</td>\n",
              "      <td>8.673138</td>\n",
              "      <td>3.492807</td>\n",
              "      <td>-1.390285</td>\n",
              "      <td>-1.532193</td>\n",
              "      <td>-0.570329</td>\n",
              "      <td>0.073056</td>\n",
              "      <td>0.505441</td>\n",
              "      <td>0.378761</td>\n",
              "      <td>0.942631</td>\n",
              "      <td>0.045263</td>\n",
              "      <td>unstable</td>\n",
              "    </tr>\n",
              "  </tbody>\n",
              "</table>\n",
              "<p>10000 rows × 14 columns</p>\n",
              "</div>"
            ],
            "text/plain": [
              "          tau1      tau2      tau3      tau4        p1        p2        p3  \\\n",
              "0     2.959060  3.079885  8.381025  9.780754  3.763085 -0.782604 -1.257395   \n",
              "1     9.304097  4.902524  3.047541  1.369357  5.067812 -1.940058 -1.872742   \n",
              "2     8.971707  8.848428  3.046479  1.214518  3.405158 -1.207456 -1.277210   \n",
              "3     0.716415  7.669600  4.486641  2.340563  3.963791 -1.027473 -1.938944   \n",
              "4     3.134112  7.608772  4.943759  9.857573  3.525811 -1.125531 -1.845975   \n",
              "...        ...       ...       ...       ...       ...       ...       ...   \n",
              "9995  2.930406  9.487627  2.376523  6.187797  3.343416 -0.658054 -1.449106   \n",
              "9996  3.392299  1.274827  2.954947  6.894759  4.349512 -1.663661 -0.952437   \n",
              "9997  2.364034  2.842030  8.776391  1.008906  4.299976 -1.380719 -0.943884   \n",
              "9998  9.631511  3.994398  2.757071  7.821347  2.514755 -0.966330 -0.649915   \n",
              "9999  6.530527  6.781790  4.349695  8.673138  3.492807 -1.390285 -1.532193   \n",
              "\n",
              "            p4        g1        g2        g3        g4      stab     stabf  \n",
              "0    -1.723086  0.650456  0.859578  0.887445  0.958034  0.055347  unstable  \n",
              "1    -1.255012  0.413441  0.862414  0.562139  0.781760 -0.005957    stable  \n",
              "2    -0.920492  0.163041  0.766689  0.839444  0.109853  0.003471  unstable  \n",
              "3    -0.997374  0.446209  0.976744  0.929381  0.362718  0.028871  unstable  \n",
              "4    -0.554305  0.797110  0.455450  0.656947  0.820923  0.049860  unstable  \n",
              "...        ...       ...       ...       ...       ...       ...       ...  \n",
              "9995 -1.236256  0.601709  0.779642  0.813512  0.608385  0.023892  unstable  \n",
              "9996 -1.733414  0.502079  0.567242  0.285880  0.366120 -0.025803    stable  \n",
              "9997 -1.975373  0.487838  0.986505  0.149286  0.145984 -0.031810    stable  \n",
              "9998 -0.898510  0.365246  0.587558  0.889118  0.818391  0.037789  unstable  \n",
              "9999 -0.570329  0.073056  0.505441  0.378761  0.942631  0.045263  unstable  \n",
              "\n",
              "[10000 rows x 14 columns]"
            ]
          },
          "execution_count": 103,
          "metadata": {},
          "output_type": "execute_result"
        }
      ],
      "source": [
        "#quick description of the\n",
        "u_df"
      ]
    },
    {
      "cell_type": "code",
      "execution_count": null,
      "id": "8fff4ca9",
      "metadata": {
        "id": "8fff4ca9",
        "outputId": "4981d8d1-fe1b-4ed6-fa03-c5f51125a22b"
      },
      "outputs": [
        {
          "name": "stdout",
          "output_type": "stream",
          "text": [
            "<class 'pandas.core.frame.DataFrame'>\n",
            "RangeIndex: 10000 entries, 0 to 9999\n",
            "Data columns (total 14 columns):\n",
            " #   Column  Non-Null Count  Dtype  \n",
            "---  ------  --------------  -----  \n",
            " 0   tau1    10000 non-null  float64\n",
            " 1   tau2    10000 non-null  float64\n",
            " 2   tau3    10000 non-null  float64\n",
            " 3   tau4    10000 non-null  float64\n",
            " 4   p1      10000 non-null  float64\n",
            " 5   p2      10000 non-null  float64\n",
            " 6   p3      10000 non-null  float64\n",
            " 7   p4      10000 non-null  float64\n",
            " 8   g1      10000 non-null  float64\n",
            " 9   g2      10000 non-null  float64\n",
            " 10  g3      10000 non-null  float64\n",
            " 11  g4      10000 non-null  float64\n",
            " 12  stab    10000 non-null  float64\n",
            " 13  stabf   10000 non-null  object \n",
            "dtypes: float64(13), object(1)\n",
            "memory usage: 1.1+ MB\n"
          ]
        }
      ],
      "source": [
        "u_df .info()"
      ]
    },
    {
      "cell_type": "code",
      "execution_count": null,
      "id": "f7c98e48",
      "metadata": {
        "id": "f7c98e48",
        "outputId": "10fd55c7-c7ed-48c1-b752-761c56afc815"
      },
      "outputs": [
        {
          "data": {
            "text/html": [
              "<div>\n",
              "<style scoped>\n",
              "    .dataframe tbody tr th:only-of-type {\n",
              "        vertical-align: middle;\n",
              "    }\n",
              "\n",
              "    .dataframe tbody tr th {\n",
              "        vertical-align: top;\n",
              "    }\n",
              "\n",
              "    .dataframe thead th {\n",
              "        text-align: right;\n",
              "    }\n",
              "</style>\n",
              "<table border=\"1\" class=\"dataframe\">\n",
              "  <thead>\n",
              "    <tr style=\"text-align: right;\">\n",
              "      <th></th>\n",
              "      <th>tau1</th>\n",
              "      <th>tau2</th>\n",
              "      <th>tau3</th>\n",
              "      <th>tau4</th>\n",
              "      <th>p1</th>\n",
              "      <th>p2</th>\n",
              "      <th>p3</th>\n",
              "      <th>p4</th>\n",
              "      <th>g1</th>\n",
              "      <th>g2</th>\n",
              "      <th>g3</th>\n",
              "      <th>g4</th>\n",
              "    </tr>\n",
              "  </thead>\n",
              "  <tbody>\n",
              "    <tr>\n",
              "      <th>count</th>\n",
              "      <td>10000.000000</td>\n",
              "      <td>10000.000000</td>\n",
              "      <td>10000.000000</td>\n",
              "      <td>10000.000000</td>\n",
              "      <td>10000.000000</td>\n",
              "      <td>10000.000000</td>\n",
              "      <td>10000.000000</td>\n",
              "      <td>10000.000000</td>\n",
              "      <td>10000.000000</td>\n",
              "      <td>10000.000000</td>\n",
              "      <td>10000.000000</td>\n",
              "      <td>10000.000000</td>\n",
              "    </tr>\n",
              "    <tr>\n",
              "      <th>mean</th>\n",
              "      <td>5.250000</td>\n",
              "      <td>5.250001</td>\n",
              "      <td>5.250004</td>\n",
              "      <td>5.249997</td>\n",
              "      <td>3.750000</td>\n",
              "      <td>-1.250000</td>\n",
              "      <td>-1.250000</td>\n",
              "      <td>-1.250000</td>\n",
              "      <td>0.525000</td>\n",
              "      <td>0.525000</td>\n",
              "      <td>0.525000</td>\n",
              "      <td>0.525000</td>\n",
              "    </tr>\n",
              "    <tr>\n",
              "      <th>std</th>\n",
              "      <td>2.742548</td>\n",
              "      <td>2.742549</td>\n",
              "      <td>2.742549</td>\n",
              "      <td>2.742556</td>\n",
              "      <td>0.752160</td>\n",
              "      <td>0.433035</td>\n",
              "      <td>0.433035</td>\n",
              "      <td>0.433035</td>\n",
              "      <td>0.274256</td>\n",
              "      <td>0.274255</td>\n",
              "      <td>0.274255</td>\n",
              "      <td>0.274255</td>\n",
              "    </tr>\n",
              "    <tr>\n",
              "      <th>min</th>\n",
              "      <td>0.500793</td>\n",
              "      <td>0.500141</td>\n",
              "      <td>0.500788</td>\n",
              "      <td>0.500473</td>\n",
              "      <td>1.582590</td>\n",
              "      <td>-1.999891</td>\n",
              "      <td>-1.999945</td>\n",
              "      <td>-1.999926</td>\n",
              "      <td>0.050009</td>\n",
              "      <td>0.050053</td>\n",
              "      <td>0.050054</td>\n",
              "      <td>0.050028</td>\n",
              "    </tr>\n",
              "    <tr>\n",
              "      <th>25%</th>\n",
              "      <td>2.874892</td>\n",
              "      <td>2.875140</td>\n",
              "      <td>2.875522</td>\n",
              "      <td>2.874950</td>\n",
              "      <td>3.218300</td>\n",
              "      <td>-1.624901</td>\n",
              "      <td>-1.625025</td>\n",
              "      <td>-1.624960</td>\n",
              "      <td>0.287521</td>\n",
              "      <td>0.287552</td>\n",
              "      <td>0.287514</td>\n",
              "      <td>0.287494</td>\n",
              "    </tr>\n",
              "    <tr>\n",
              "      <th>50%</th>\n",
              "      <td>5.250004</td>\n",
              "      <td>5.249981</td>\n",
              "      <td>5.249979</td>\n",
              "      <td>5.249734</td>\n",
              "      <td>3.751025</td>\n",
              "      <td>-1.249966</td>\n",
              "      <td>-1.249974</td>\n",
              "      <td>-1.250007</td>\n",
              "      <td>0.525009</td>\n",
              "      <td>0.525003</td>\n",
              "      <td>0.525015</td>\n",
              "      <td>0.525002</td>\n",
              "    </tr>\n",
              "    <tr>\n",
              "      <th>75%</th>\n",
              "      <td>7.624690</td>\n",
              "      <td>7.624893</td>\n",
              "      <td>7.624948</td>\n",
              "      <td>7.624838</td>\n",
              "      <td>4.282420</td>\n",
              "      <td>-0.874977</td>\n",
              "      <td>-0.875043</td>\n",
              "      <td>-0.875065</td>\n",
              "      <td>0.762435</td>\n",
              "      <td>0.762490</td>\n",
              "      <td>0.762440</td>\n",
              "      <td>0.762433</td>\n",
              "    </tr>\n",
              "    <tr>\n",
              "      <th>max</th>\n",
              "      <td>9.999469</td>\n",
              "      <td>9.999837</td>\n",
              "      <td>9.999450</td>\n",
              "      <td>9.999443</td>\n",
              "      <td>5.864418</td>\n",
              "      <td>-0.500108</td>\n",
              "      <td>-0.500072</td>\n",
              "      <td>-0.500025</td>\n",
              "      <td>0.999937</td>\n",
              "      <td>0.999944</td>\n",
              "      <td>0.999982</td>\n",
              "      <td>0.999930</td>\n",
              "    </tr>\n",
              "  </tbody>\n",
              "</table>\n",
              "</div>"
            ],
            "text/plain": [
              "               tau1          tau2          tau3          tau4            p1  \\\n",
              "count  10000.000000  10000.000000  10000.000000  10000.000000  10000.000000   \n",
              "mean       5.250000      5.250001      5.250004      5.249997      3.750000   \n",
              "std        2.742548      2.742549      2.742549      2.742556      0.752160   \n",
              "min        0.500793      0.500141      0.500788      0.500473      1.582590   \n",
              "25%        2.874892      2.875140      2.875522      2.874950      3.218300   \n",
              "50%        5.250004      5.249981      5.249979      5.249734      3.751025   \n",
              "75%        7.624690      7.624893      7.624948      7.624838      4.282420   \n",
              "max        9.999469      9.999837      9.999450      9.999443      5.864418   \n",
              "\n",
              "                 p2            p3            p4            g1            g2  \\\n",
              "count  10000.000000  10000.000000  10000.000000  10000.000000  10000.000000   \n",
              "mean      -1.250000     -1.250000     -1.250000      0.525000      0.525000   \n",
              "std        0.433035      0.433035      0.433035      0.274256      0.274255   \n",
              "min       -1.999891     -1.999945     -1.999926      0.050009      0.050053   \n",
              "25%       -1.624901     -1.625025     -1.624960      0.287521      0.287552   \n",
              "50%       -1.249966     -1.249974     -1.250007      0.525009      0.525003   \n",
              "75%       -0.874977     -0.875043     -0.875065      0.762435      0.762490   \n",
              "max       -0.500108     -0.500072     -0.500025      0.999937      0.999944   \n",
              "\n",
              "                 g3            g4  \n",
              "count  10000.000000  10000.000000  \n",
              "mean       0.525000      0.525000  \n",
              "std        0.274255      0.274255  \n",
              "min        0.050054      0.050028  \n",
              "25%        0.287514      0.287494  \n",
              "50%        0.525015      0.525002  \n",
              "75%        0.762440      0.762433  \n",
              "max        0.999982      0.999930  "
            ]
          },
          "execution_count": 125,
          "metadata": {},
          "output_type": "execute_result"
        }
      ],
      "source": [
        "u_df.describe()"
      ]
    },
    {
      "cell_type": "code",
      "execution_count": null,
      "id": "64d7fe2c",
      "metadata": {
        "id": "64d7fe2c",
        "outputId": "dbc4d460-13cc-4841-b3a2-ae0388e567ab"
      },
      "outputs": [
        {
          "data": {
            "text/html": [
              "<div>\n",
              "<style scoped>\n",
              "    .dataframe tbody tr th:only-of-type {\n",
              "        vertical-align: middle;\n",
              "    }\n",
              "\n",
              "    .dataframe tbody tr th {\n",
              "        vertical-align: top;\n",
              "    }\n",
              "\n",
              "    .dataframe thead th {\n",
              "        text-align: right;\n",
              "    }\n",
              "</style>\n",
              "<table border=\"1\" class=\"dataframe\">\n",
              "  <thead>\n",
              "    <tr style=\"text-align: right;\">\n",
              "      <th></th>\n",
              "      <th>tau1</th>\n",
              "      <th>tau2</th>\n",
              "      <th>tau3</th>\n",
              "      <th>tau4</th>\n",
              "      <th>p1</th>\n",
              "      <th>p2</th>\n",
              "      <th>p3</th>\n",
              "      <th>p4</th>\n",
              "      <th>g1</th>\n",
              "      <th>g2</th>\n",
              "      <th>g3</th>\n",
              "      <th>g4</th>\n",
              "      <th>stabf</th>\n",
              "    </tr>\n",
              "  </thead>\n",
              "  <tbody>\n",
              "    <tr>\n",
              "      <th>0</th>\n",
              "      <td>2.959060</td>\n",
              "      <td>3.079885</td>\n",
              "      <td>8.381025</td>\n",
              "      <td>9.780754</td>\n",
              "      <td>3.763085</td>\n",
              "      <td>-0.782604</td>\n",
              "      <td>-1.257395</td>\n",
              "      <td>-1.723086</td>\n",
              "      <td>0.650456</td>\n",
              "      <td>0.859578</td>\n",
              "      <td>0.887445</td>\n",
              "      <td>0.958034</td>\n",
              "      <td>unstable</td>\n",
              "    </tr>\n",
              "    <tr>\n",
              "      <th>1</th>\n",
              "      <td>9.304097</td>\n",
              "      <td>4.902524</td>\n",
              "      <td>3.047541</td>\n",
              "      <td>1.369357</td>\n",
              "      <td>5.067812</td>\n",
              "      <td>-1.940058</td>\n",
              "      <td>-1.872742</td>\n",
              "      <td>-1.255012</td>\n",
              "      <td>0.413441</td>\n",
              "      <td>0.862414</td>\n",
              "      <td>0.562139</td>\n",
              "      <td>0.781760</td>\n",
              "      <td>stable</td>\n",
              "    </tr>\n",
              "    <tr>\n",
              "      <th>2</th>\n",
              "      <td>8.971707</td>\n",
              "      <td>8.848428</td>\n",
              "      <td>3.046479</td>\n",
              "      <td>1.214518</td>\n",
              "      <td>3.405158</td>\n",
              "      <td>-1.207456</td>\n",
              "      <td>-1.277210</td>\n",
              "      <td>-0.920492</td>\n",
              "      <td>0.163041</td>\n",
              "      <td>0.766689</td>\n",
              "      <td>0.839444</td>\n",
              "      <td>0.109853</td>\n",
              "      <td>unstable</td>\n",
              "    </tr>\n",
              "    <tr>\n",
              "      <th>3</th>\n",
              "      <td>0.716415</td>\n",
              "      <td>7.669600</td>\n",
              "      <td>4.486641</td>\n",
              "      <td>2.340563</td>\n",
              "      <td>3.963791</td>\n",
              "      <td>-1.027473</td>\n",
              "      <td>-1.938944</td>\n",
              "      <td>-0.997374</td>\n",
              "      <td>0.446209</td>\n",
              "      <td>0.976744</td>\n",
              "      <td>0.929381</td>\n",
              "      <td>0.362718</td>\n",
              "      <td>unstable</td>\n",
              "    </tr>\n",
              "    <tr>\n",
              "      <th>4</th>\n",
              "      <td>3.134112</td>\n",
              "      <td>7.608772</td>\n",
              "      <td>4.943759</td>\n",
              "      <td>9.857573</td>\n",
              "      <td>3.525811</td>\n",
              "      <td>-1.125531</td>\n",
              "      <td>-1.845975</td>\n",
              "      <td>-0.554305</td>\n",
              "      <td>0.797110</td>\n",
              "      <td>0.455450</td>\n",
              "      <td>0.656947</td>\n",
              "      <td>0.820923</td>\n",
              "      <td>unstable</td>\n",
              "    </tr>\n",
              "    <tr>\n",
              "      <th>...</th>\n",
              "      <td>...</td>\n",
              "      <td>...</td>\n",
              "      <td>...</td>\n",
              "      <td>...</td>\n",
              "      <td>...</td>\n",
              "      <td>...</td>\n",
              "      <td>...</td>\n",
              "      <td>...</td>\n",
              "      <td>...</td>\n",
              "      <td>...</td>\n",
              "      <td>...</td>\n",
              "      <td>...</td>\n",
              "      <td>...</td>\n",
              "    </tr>\n",
              "    <tr>\n",
              "      <th>9995</th>\n",
              "      <td>2.930406</td>\n",
              "      <td>9.487627</td>\n",
              "      <td>2.376523</td>\n",
              "      <td>6.187797</td>\n",
              "      <td>3.343416</td>\n",
              "      <td>-0.658054</td>\n",
              "      <td>-1.449106</td>\n",
              "      <td>-1.236256</td>\n",
              "      <td>0.601709</td>\n",
              "      <td>0.779642</td>\n",
              "      <td>0.813512</td>\n",
              "      <td>0.608385</td>\n",
              "      <td>unstable</td>\n",
              "    </tr>\n",
              "    <tr>\n",
              "      <th>9996</th>\n",
              "      <td>3.392299</td>\n",
              "      <td>1.274827</td>\n",
              "      <td>2.954947</td>\n",
              "      <td>6.894759</td>\n",
              "      <td>4.349512</td>\n",
              "      <td>-1.663661</td>\n",
              "      <td>-0.952437</td>\n",
              "      <td>-1.733414</td>\n",
              "      <td>0.502079</td>\n",
              "      <td>0.567242</td>\n",
              "      <td>0.285880</td>\n",
              "      <td>0.366120</td>\n",
              "      <td>stable</td>\n",
              "    </tr>\n",
              "    <tr>\n",
              "      <th>9997</th>\n",
              "      <td>2.364034</td>\n",
              "      <td>2.842030</td>\n",
              "      <td>8.776391</td>\n",
              "      <td>1.008906</td>\n",
              "      <td>4.299976</td>\n",
              "      <td>-1.380719</td>\n",
              "      <td>-0.943884</td>\n",
              "      <td>-1.975373</td>\n",
              "      <td>0.487838</td>\n",
              "      <td>0.986505</td>\n",
              "      <td>0.149286</td>\n",
              "      <td>0.145984</td>\n",
              "      <td>stable</td>\n",
              "    </tr>\n",
              "    <tr>\n",
              "      <th>9998</th>\n",
              "      <td>9.631511</td>\n",
              "      <td>3.994398</td>\n",
              "      <td>2.757071</td>\n",
              "      <td>7.821347</td>\n",
              "      <td>2.514755</td>\n",
              "      <td>-0.966330</td>\n",
              "      <td>-0.649915</td>\n",
              "      <td>-0.898510</td>\n",
              "      <td>0.365246</td>\n",
              "      <td>0.587558</td>\n",
              "      <td>0.889118</td>\n",
              "      <td>0.818391</td>\n",
              "      <td>unstable</td>\n",
              "    </tr>\n",
              "    <tr>\n",
              "      <th>9999</th>\n",
              "      <td>6.530527</td>\n",
              "      <td>6.781790</td>\n",
              "      <td>4.349695</td>\n",
              "      <td>8.673138</td>\n",
              "      <td>3.492807</td>\n",
              "      <td>-1.390285</td>\n",
              "      <td>-1.532193</td>\n",
              "      <td>-0.570329</td>\n",
              "      <td>0.073056</td>\n",
              "      <td>0.505441</td>\n",
              "      <td>0.378761</td>\n",
              "      <td>0.942631</td>\n",
              "      <td>unstable</td>\n",
              "    </tr>\n",
              "  </tbody>\n",
              "</table>\n",
              "<p>10000 rows × 13 columns</p>\n",
              "</div>"
            ],
            "text/plain": [
              "          tau1      tau2      tau3      tau4        p1        p2        p3  \\\n",
              "0     2.959060  3.079885  8.381025  9.780754  3.763085 -0.782604 -1.257395   \n",
              "1     9.304097  4.902524  3.047541  1.369357  5.067812 -1.940058 -1.872742   \n",
              "2     8.971707  8.848428  3.046479  1.214518  3.405158 -1.207456 -1.277210   \n",
              "3     0.716415  7.669600  4.486641  2.340563  3.963791 -1.027473 -1.938944   \n",
              "4     3.134112  7.608772  4.943759  9.857573  3.525811 -1.125531 -1.845975   \n",
              "...        ...       ...       ...       ...       ...       ...       ...   \n",
              "9995  2.930406  9.487627  2.376523  6.187797  3.343416 -0.658054 -1.449106   \n",
              "9996  3.392299  1.274827  2.954947  6.894759  4.349512 -1.663661 -0.952437   \n",
              "9997  2.364034  2.842030  8.776391  1.008906  4.299976 -1.380719 -0.943884   \n",
              "9998  9.631511  3.994398  2.757071  7.821347  2.514755 -0.966330 -0.649915   \n",
              "9999  6.530527  6.781790  4.349695  8.673138  3.492807 -1.390285 -1.532193   \n",
              "\n",
              "            p4        g1        g2        g3        g4     stabf  \n",
              "0    -1.723086  0.650456  0.859578  0.887445  0.958034  unstable  \n",
              "1    -1.255012  0.413441  0.862414  0.562139  0.781760    stable  \n",
              "2    -0.920492  0.163041  0.766689  0.839444  0.109853  unstable  \n",
              "3    -0.997374  0.446209  0.976744  0.929381  0.362718  unstable  \n",
              "4    -0.554305  0.797110  0.455450  0.656947  0.820923  unstable  \n",
              "...        ...       ...       ...       ...       ...       ...  \n",
              "9995 -1.236256  0.601709  0.779642  0.813512  0.608385  unstable  \n",
              "9996 -1.733414  0.502079  0.567242  0.285880  0.366120    stable  \n",
              "9997 -1.975373  0.487838  0.986505  0.149286  0.145984    stable  \n",
              "9998 -0.898510  0.365246  0.587558  0.889118  0.818391  unstable  \n",
              "9999 -0.570329  0.073056  0.505441  0.378761  0.942631  unstable  \n",
              "\n",
              "[10000 rows x 13 columns]"
            ]
          },
          "execution_count": 108,
          "metadata": {},
          "output_type": "execute_result"
        }
      ],
      "source": [
        "#drop 'stab' ecause of the direct relationship with 'stabf'\n",
        "u_df = u_df .drop('stab', axis =1)\n",
        "u_df"
      ]
    },
    {
      "cell_type": "code",
      "execution_count": null,
      "id": "f9f411a6",
      "metadata": {
        "id": "f9f411a6",
        "outputId": "d6f0d603-088f-47f5-dba4-0f3059fae23c"
      },
      "outputs": [
        {
          "data": {
            "text/plain": [
              "unstable    6380\n",
              "stable      3620\n",
              "Name: stabf, dtype: int64"
            ]
          },
          "execution_count": 109,
          "metadata": {},
          "output_type": "execute_result"
        }
      ],
      "source": [
        "#check distribution of target vari\n",
        "u_df ['stabf'].value_counts()\n",
        ""
      ]
    },
    {
      "cell_type": "code",
      "execution_count": null,
      "id": "ea101e3a",
      "metadata": {
        "id": "ea101e3a",
        "outputId": "a54a1368-35b7-4963-be9e-8dc6724f530f"
      },
      "outputs": [
        {
          "data": {
            "text/html": [
              "<div>\n",
              "<style scoped>\n",
              "    .dataframe tbody tr th:only-of-type {\n",
              "        vertical-align: middle;\n",
              "    }\n",
              "\n",
              "    .dataframe tbody tr th {\n",
              "        vertical-align: top;\n",
              "    }\n",
              "\n",
              "    .dataframe thead th {\n",
              "        text-align: right;\n",
              "    }\n",
              "</style>\n",
              "<table border=\"1\" class=\"dataframe\">\n",
              "  <thead>\n",
              "    <tr style=\"text-align: right;\">\n",
              "      <th></th>\n",
              "      <th>tau1</th>\n",
              "      <th>tau2</th>\n",
              "      <th>tau3</th>\n",
              "      <th>tau4</th>\n",
              "      <th>p1</th>\n",
              "      <th>p2</th>\n",
              "      <th>p3</th>\n",
              "      <th>p4</th>\n",
              "      <th>g1</th>\n",
              "      <th>g2</th>\n",
              "      <th>g3</th>\n",
              "      <th>g4</th>\n",
              "      <th>stabf</th>\n",
              "    </tr>\n",
              "  </thead>\n",
              "  <tbody>\n",
              "    <tr>\n",
              "      <th>0</th>\n",
              "      <td>2.959060</td>\n",
              "      <td>3.079885</td>\n",
              "      <td>8.381025</td>\n",
              "      <td>9.780754</td>\n",
              "      <td>3.763085</td>\n",
              "      <td>-0.782604</td>\n",
              "      <td>-1.257395</td>\n",
              "      <td>-1.723086</td>\n",
              "      <td>0.650456</td>\n",
              "      <td>0.859578</td>\n",
              "      <td>0.887445</td>\n",
              "      <td>0.958034</td>\n",
              "      <td>unstable</td>\n",
              "    </tr>\n",
              "    <tr>\n",
              "      <th>1</th>\n",
              "      <td>9.304097</td>\n",
              "      <td>4.902524</td>\n",
              "      <td>3.047541</td>\n",
              "      <td>1.369357</td>\n",
              "      <td>5.067812</td>\n",
              "      <td>-1.940058</td>\n",
              "      <td>-1.872742</td>\n",
              "      <td>-1.255012</td>\n",
              "      <td>0.413441</td>\n",
              "      <td>0.862414</td>\n",
              "      <td>0.562139</td>\n",
              "      <td>0.781760</td>\n",
              "      <td>stable</td>\n",
              "    </tr>\n",
              "    <tr>\n",
              "      <th>2</th>\n",
              "      <td>8.971707</td>\n",
              "      <td>8.848428</td>\n",
              "      <td>3.046479</td>\n",
              "      <td>1.214518</td>\n",
              "      <td>3.405158</td>\n",
              "      <td>-1.207456</td>\n",
              "      <td>-1.277210</td>\n",
              "      <td>-0.920492</td>\n",
              "      <td>0.163041</td>\n",
              "      <td>0.766689</td>\n",
              "      <td>0.839444</td>\n",
              "      <td>0.109853</td>\n",
              "      <td>unstable</td>\n",
              "    </tr>\n",
              "    <tr>\n",
              "      <th>3</th>\n",
              "      <td>0.716415</td>\n",
              "      <td>7.669600</td>\n",
              "      <td>4.486641</td>\n",
              "      <td>2.340563</td>\n",
              "      <td>3.963791</td>\n",
              "      <td>-1.027473</td>\n",
              "      <td>-1.938944</td>\n",
              "      <td>-0.997374</td>\n",
              "      <td>0.446209</td>\n",
              "      <td>0.976744</td>\n",
              "      <td>0.929381</td>\n",
              "      <td>0.362718</td>\n",
              "      <td>unstable</td>\n",
              "    </tr>\n",
              "    <tr>\n",
              "      <th>4</th>\n",
              "      <td>3.134112</td>\n",
              "      <td>7.608772</td>\n",
              "      <td>4.943759</td>\n",
              "      <td>9.857573</td>\n",
              "      <td>3.525811</td>\n",
              "      <td>-1.125531</td>\n",
              "      <td>-1.845975</td>\n",
              "      <td>-0.554305</td>\n",
              "      <td>0.797110</td>\n",
              "      <td>0.455450</td>\n",
              "      <td>0.656947</td>\n",
              "      <td>0.820923</td>\n",
              "      <td>unstable</td>\n",
              "    </tr>\n",
              "  </tbody>\n",
              "</table>\n",
              "</div>"
            ],
            "text/plain": [
              "       tau1      tau2      tau3      tau4        p1        p2        p3  \\\n",
              "0  2.959060  3.079885  8.381025  9.780754  3.763085 -0.782604 -1.257395   \n",
              "1  9.304097  4.902524  3.047541  1.369357  5.067812 -1.940058 -1.872742   \n",
              "2  8.971707  8.848428  3.046479  1.214518  3.405158 -1.207456 -1.277210   \n",
              "3  0.716415  7.669600  4.486641  2.340563  3.963791 -1.027473 -1.938944   \n",
              "4  3.134112  7.608772  4.943759  9.857573  3.525811 -1.125531 -1.845975   \n",
              "\n",
              "         p4        g1        g2        g3        g4     stabf  \n",
              "0 -1.723086  0.650456  0.859578  0.887445  0.958034  unstable  \n",
              "1 -1.255012  0.413441  0.862414  0.562139  0.781760    stable  \n",
              "2 -0.920492  0.163041  0.766689  0.839444  0.109853  unstable  \n",
              "3 -0.997374  0.446209  0.976744  0.929381  0.362718  unstable  \n",
              "4 -0.554305  0.797110  0.455450  0.656947  0.820923  unstable  "
            ]
          },
          "execution_count": 110,
          "metadata": {},
          "output_type": "execute_result"
        }
      ],
      "source": [
        "u_df .head()"
      ]
    },
    {
      "cell_type": "code",
      "execution_count": null,
      "id": "c848f23f",
      "metadata": {
        "id": "c848f23f"
      },
      "outputs": [],
      "source": [
        "#get features and labels\n",
        "x = u_df .drop(columns=['stabf'])\n",
        "\n",
        "y = u_df ['stabf']\n",
        ""
      ]
    },
    {
      "cell_type": "code",
      "execution_count": null,
      "id": "cc2c89f8",
      "metadata": {
        "id": "cc2c89f8",
        "outputId": "bbac488f-3d7d-49c9-e5e7-d7248a7af356"
      },
      "outputs": [
        {
          "data": {
            "text/plain": [
              "(          tau1      tau2      tau3      tau4        p1        p2        p3  \\\n",
              " 0     2.959060  3.079885  8.381025  9.780754  3.763085 -0.782604 -1.257395   \n",
              " 1     9.304097  4.902524  3.047541  1.369357  5.067812 -1.940058 -1.872742   \n",
              " 2     8.971707  8.848428  3.046479  1.214518  3.405158 -1.207456 -1.277210   \n",
              " 3     0.716415  7.669600  4.486641  2.340563  3.963791 -1.027473 -1.938944   \n",
              " 4     3.134112  7.608772  4.943759  9.857573  3.525811 -1.125531 -1.845975   \n",
              " ...        ...       ...       ...       ...       ...       ...       ...   \n",
              " 9995  2.930406  9.487627  2.376523  6.187797  3.343416 -0.658054 -1.449106   \n",
              " 9996  3.392299  1.274827  2.954947  6.894759  4.349512 -1.663661 -0.952437   \n",
              " 9997  2.364034  2.842030  8.776391  1.008906  4.299976 -1.380719 -0.943884   \n",
              " 9998  9.631511  3.994398  2.757071  7.821347  2.514755 -0.966330 -0.649915   \n",
              " 9999  6.530527  6.781790  4.349695  8.673138  3.492807 -1.390285 -1.532193   \n",
              " \n",
              "             p4        g1        g2        g3        g4  \n",
              " 0    -1.723086  0.650456  0.859578  0.887445  0.958034  \n",
              " 1    -1.255012  0.413441  0.862414  0.562139  0.781760  \n",
              " 2    -0.920492  0.163041  0.766689  0.839444  0.109853  \n",
              " 3    -0.997374  0.446209  0.976744  0.929381  0.362718  \n",
              " 4    -0.554305  0.797110  0.455450  0.656947  0.820923  \n",
              " ...        ...       ...       ...       ...       ...  \n",
              " 9995 -1.236256  0.601709  0.779642  0.813512  0.608385  \n",
              " 9996 -1.733414  0.502079  0.567242  0.285880  0.366120  \n",
              " 9997 -1.975373  0.487838  0.986505  0.149286  0.145984  \n",
              " 9998 -0.898510  0.365246  0.587558  0.889118  0.818391  \n",
              " 9999 -0.570329  0.073056  0.505441  0.378761  0.942631  \n",
              " \n",
              " [10000 rows x 12 columns],\n",
              " 0       unstable\n",
              " 1         stable\n",
              " 2       unstable\n",
              " 3       unstable\n",
              " 4       unstable\n",
              "           ...   \n",
              " 9995    unstable\n",
              " 9996      stable\n",
              " 9997      stable\n",
              " 9998    unstable\n",
              " 9999    unstable\n",
              " Name: stabf, Length: 10000, dtype: object)"
            ]
          },
          "execution_count": 112,
          "metadata": {},
          "output_type": "execute_result"
        }
      ],
      "source": [
        "x, y"
      ]
    },
    {
      "cell_type": "code",
      "execution_count": null,
      "id": "1f385096",
      "metadata": {
        "id": "1f385096",
        "outputId": "db32787f-7fed-4c0e-d1de-b20698830690"
      },
      "outputs": [
        {
          "name": "stdout",
          "output_type": "stream",
          "text": [
            "X_train shape: (8000, 12)\n",
            "y_train shape: (8000,)\n",
            "X_test shape: (2000, 12)\n",
            "y_test shape: (2000,)\n"
          ]
        }
      ],
      "source": [
        "#Split the dataset\n",
        "from sklearn.model_selection import train_test_split\n",
        "\n",
        "x_train, x_test, y_train, y_test = train_test_split(x, y, test_size = 0.2, random_state=1)\n",
        "\n",
        "print('X_train shape: {}'.format(x_train.shape))\n",
        "print('y_train shape: {}'.format(y_train.shape))\n",
        "print('X_test shape: {}'.format(x_test.shape))\n",
        "print('y_test shape: {}'.format(y_test.shape))\n",
        ""
      ]
    },
    {
      "cell_type": "code",
      "execution_count": null,
      "id": "da402d6f",
      "metadata": {
        "id": "da402d6f"
      },
      "outputs": [],
      "source": [
        "import imblearn\n",
        "from imblearn.over_sampling import SMOTE\n",
        "smote = SMOTE(random_state=1)\n",
        "x_train_balanced, y_balanced = smote.fit_resample(x_train, y_train)"
      ]
    },
    {
      "cell_type": "code",
      "execution_count": null,
      "id": "78044dcc",
      "metadata": {
        "id": "78044dcc",
        "outputId": "58ee216a-4531-4a16-b2c8-7cd83503627f"
      },
      "outputs": [
        {
          "data": {
            "text/plain": [
              "['__abstractmethods__',\n",
              " '__annotations__',\n",
              " '__class__',\n",
              " '__delattr__',\n",
              " '__dict__',\n",
              " '__dir__',\n",
              " '__doc__',\n",
              " '__eq__',\n",
              " '__format__',\n",
              " '__ge__',\n",
              " '__getattribute__',\n",
              " '__getstate__',\n",
              " '__gt__',\n",
              " '__hash__',\n",
              " '__init__',\n",
              " '__init_subclass__',\n",
              " '__le__',\n",
              " '__lt__',\n",
              " '__module__',\n",
              " '__ne__',\n",
              " '__new__',\n",
              " '__reduce__',\n",
              " '__reduce_ex__',\n",
              " '__repr__',\n",
              " '__setattr__',\n",
              " '__setstate__',\n",
              " '__sizeof__',\n",
              " '__str__',\n",
              " '__subclasshook__',\n",
              " '__weakref__',\n",
              " '_abc_impl',\n",
              " '_check_X_y',\n",
              " '_check_feature_names',\n",
              " '_check_n_features',\n",
              " '_estimator_type',\n",
              " '_fit_resample',\n",
              " '_generate_samples',\n",
              " '_get_param_names',\n",
              " '_get_tags',\n",
              " '_in_danger_noise',\n",
              " '_make_samples',\n",
              " '_more_tags',\n",
              " '_parameter_constraints',\n",
              " '_repr_html_',\n",
              " '_repr_html_inner',\n",
              " '_repr_mimebundle_',\n",
              " '_sampling_strategy_docstring',\n",
              " '_sampling_type',\n",
              " '_validate_data',\n",
              " '_validate_estimator',\n",
              " '_validate_params',\n",
              " 'feature_names_in_',\n",
              " 'fit',\n",
              " 'fit_resample',\n",
              " 'get_feature_names_out',\n",
              " 'get_params',\n",
              " 'k_neighbors',\n",
              " 'n_features_in_',\n",
              " 'n_jobs',\n",
              " 'nn_k_',\n",
              " 'random_state',\n",
              " 'sampling_strategy',\n",
              " 'sampling_strategy_',\n",
              " 'set_params']"
            ]
          },
          "execution_count": 115,
          "metadata": {},
          "output_type": "execute_result"
        }
      ],
      "source": [
        "dir(smote)"
      ]
    },
    {
      "cell_type": "code",
      "execution_count": null,
      "id": "e6402e85",
      "metadata": {
        "id": "e6402e85"
      },
      "outputs": [],
      "source": [
        "#transform train and test set using standard scaler\n",
        "#ignore scaling for y since sklarn preprocessing ignores the y variable and it is also an object type.\n",
        "\n",
        "from sklearn.preprocessing import StandardScaler\n",
        "\n",
        "scaler = StandardScaler()\n",
        "scaler.fit(x_train)\n",
        "\n",
        "x_train_scaled = scaler.transform(x_train)\n",
        "x_test_scaled = scaler.transform(x_test)\n",
        ""
      ]
    },
    {
      "cell_type": "code",
      "execution_count": null,
      "id": "043aacc5",
      "metadata": {
        "id": "043aacc5",
        "outputId": "3cdec0b3-4ab2-4062-e8ed-bd4f7f37a112"
      },
      "outputs": [
        {
          "data": {
            "text/plain": [
              "array([[ 0.36732671, -0.98604156,  0.65044706, ...,  0.33985949,\n",
              "         0.58556788,  0.49223946],\n",
              "       [-0.06465869,  0.08943734,  1.03507899, ..., -1.55848751,\n",
              "         1.42964862, -1.44352101],\n",
              "       [-1.46785   ,  1.29841758, -0.50253617, ...,  1.45153361,\n",
              "        -1.04574277,  0.49248925],\n",
              "       ...,\n",
              "       [ 0.65760851, -0.72275632, -1.4058879 , ...,  0.29310048,\n",
              "        -1.55058661,  0.81034412],\n",
              "       [-0.05931596, -1.26053241, -1.01047147, ..., -0.38825455,\n",
              "        -0.7267806 ,  1.66791568],\n",
              "       [-1.47321368,  0.63843757,  0.25012249, ..., -1.17410957,\n",
              "         1.179282  ,  0.78362657]])"
            ]
          },
          "execution_count": 117,
          "metadata": {},
          "output_type": "execute_result"
        }
      ],
      "source": [
        "x_train_scaled"
      ]
    },
    {
      "cell_type": "code",
      "execution_count": null,
      "id": "1c43dae8",
      "metadata": {
        "id": "1c43dae8"
      },
      "outputs": [],
      "source": []
    },
    {
      "cell_type": "code",
      "execution_count": null,
      "id": "7bb35162",
      "metadata": {
        "id": "7bb35162"
      },
      "outputs": [],
      "source": [
        "#put the scaled sets into a daataframe\n",
        "\n",
        "x_train_scaled = pd.DataFrame(x_train_scaled, columns = x_train.columns)\n",
        "x_test_scaled = pd.DataFrame(x_test_scaled, columns = x_test.columns)\n",
        ""
      ]
    },
    {
      "cell_type": "code",
      "execution_count": null,
      "id": "493f51d7",
      "metadata": {
        "id": "493f51d7",
        "outputId": "0ed90d60-cb23-4195-e4ea-c1aea050ac24"
      },
      "outputs": [
        {
          "data": {
            "text/html": [
              "<div>\n",
              "<style scoped>\n",
              "    .dataframe tbody tr th:only-of-type {\n",
              "        vertical-align: middle;\n",
              "    }\n",
              "\n",
              "    .dataframe tbody tr th {\n",
              "        vertical-align: top;\n",
              "    }\n",
              "\n",
              "    .dataframe thead th {\n",
              "        text-align: right;\n",
              "    }\n",
              "</style>\n",
              "<table border=\"1\" class=\"dataframe\">\n",
              "  <thead>\n",
              "    <tr style=\"text-align: right;\">\n",
              "      <th></th>\n",
              "      <th>tau1</th>\n",
              "      <th>tau2</th>\n",
              "      <th>tau3</th>\n",
              "      <th>tau4</th>\n",
              "      <th>p1</th>\n",
              "      <th>p2</th>\n",
              "      <th>p3</th>\n",
              "      <th>p4</th>\n",
              "      <th>g1</th>\n",
              "      <th>g2</th>\n",
              "      <th>g3</th>\n",
              "      <th>g4</th>\n",
              "    </tr>\n",
              "  </thead>\n",
              "  <tbody>\n",
              "    <tr>\n",
              "      <th>0</th>\n",
              "      <td>0.367327</td>\n",
              "      <td>-0.986042</td>\n",
              "      <td>0.650447</td>\n",
              "      <td>1.547527</td>\n",
              "      <td>-0.291490</td>\n",
              "      <td>0.061535</td>\n",
              "      <td>1.293862</td>\n",
              "      <td>-0.845074</td>\n",
              "      <td>0.160918</td>\n",
              "      <td>0.339859</td>\n",
              "      <td>0.585568</td>\n",
              "      <td>0.492239</td>\n",
              "    </tr>\n",
              "    <tr>\n",
              "      <th>1</th>\n",
              "      <td>-0.064659</td>\n",
              "      <td>0.089437</td>\n",
              "      <td>1.035079</td>\n",
              "      <td>-1.641494</td>\n",
              "      <td>0.619865</td>\n",
              "      <td>-0.067235</td>\n",
              "      <td>-1.502925</td>\n",
              "      <td>0.486613</td>\n",
              "      <td>-0.293143</td>\n",
              "      <td>-1.558488</td>\n",
              "      <td>1.429649</td>\n",
              "      <td>-1.443521</td>\n",
              "    </tr>\n",
              "    <tr>\n",
              "      <th>2</th>\n",
              "      <td>-1.467850</td>\n",
              "      <td>1.298418</td>\n",
              "      <td>-0.502536</td>\n",
              "      <td>1.166046</td>\n",
              "      <td>-0.180521</td>\n",
              "      <td>0.490603</td>\n",
              "      <td>0.682560</td>\n",
              "      <td>-0.855302</td>\n",
              "      <td>1.399350</td>\n",
              "      <td>1.451534</td>\n",
              "      <td>-1.045743</td>\n",
              "      <td>0.492489</td>\n",
              "    </tr>\n",
              "    <tr>\n",
              "      <th>3</th>\n",
              "      <td>0.820081</td>\n",
              "      <td>0.529920</td>\n",
              "      <td>1.299657</td>\n",
              "      <td>-1.141975</td>\n",
              "      <td>-0.812854</td>\n",
              "      <td>-0.763632</td>\n",
              "      <td>1.521579</td>\n",
              "      <td>0.658780</td>\n",
              "      <td>-0.958319</td>\n",
              "      <td>1.361958</td>\n",
              "      <td>1.604140</td>\n",
              "      <td>0.275303</td>\n",
              "    </tr>\n",
              "    <tr>\n",
              "      <th>4</th>\n",
              "      <td>0.665424</td>\n",
              "      <td>-1.425627</td>\n",
              "      <td>0.312300</td>\n",
              "      <td>0.919137</td>\n",
              "      <td>-1.614296</td>\n",
              "      <td>0.760315</td>\n",
              "      <td>1.422019</td>\n",
              "      <td>0.639243</td>\n",
              "      <td>1.676895</td>\n",
              "      <td>0.695660</td>\n",
              "      <td>1.137504</td>\n",
              "      <td>-1.312575</td>\n",
              "    </tr>\n",
              "    <tr>\n",
              "      <th>...</th>\n",
              "      <td>...</td>\n",
              "      <td>...</td>\n",
              "      <td>...</td>\n",
              "      <td>...</td>\n",
              "      <td>...</td>\n",
              "      <td>...</td>\n",
              "      <td>...</td>\n",
              "      <td>...</td>\n",
              "      <td>...</td>\n",
              "      <td>...</td>\n",
              "      <td>...</td>\n",
              "      <td>...</td>\n",
              "    </tr>\n",
              "    <tr>\n",
              "      <th>7995</th>\n",
              "      <td>1.551314</td>\n",
              "      <td>0.007408</td>\n",
              "      <td>-1.177640</td>\n",
              "      <td>1.016898</td>\n",
              "      <td>-0.397177</td>\n",
              "      <td>0.759820</td>\n",
              "      <td>-0.636951</td>\n",
              "      <td>0.572703</td>\n",
              "      <td>-1.209413</td>\n",
              "      <td>0.313976</td>\n",
              "      <td>-1.625728</td>\n",
              "      <td>-0.637401</td>\n",
              "    </tr>\n",
              "    <tr>\n",
              "      <th>7996</th>\n",
              "      <td>1.015925</td>\n",
              "      <td>-0.223483</td>\n",
              "      <td>-1.489381</td>\n",
              "      <td>-1.479078</td>\n",
              "      <td>0.451468</td>\n",
              "      <td>-0.731994</td>\n",
              "      <td>0.990355</td>\n",
              "      <td>-1.048148</td>\n",
              "      <td>-1.094647</td>\n",
              "      <td>-0.755209</td>\n",
              "      <td>0.734821</td>\n",
              "      <td>-0.304433</td>\n",
              "    </tr>\n",
              "    <tr>\n",
              "      <th>7997</th>\n",
              "      <td>0.657609</td>\n",
              "      <td>-0.722756</td>\n",
              "      <td>-1.405888</td>\n",
              "      <td>-0.274301</td>\n",
              "      <td>-0.012584</td>\n",
              "      <td>1.438694</td>\n",
              "      <td>-0.364266</td>\n",
              "      <td>-1.046683</td>\n",
              "      <td>1.253539</td>\n",
              "      <td>0.293100</td>\n",
              "      <td>-1.550587</td>\n",
              "      <td>0.810344</td>\n",
              "    </tr>\n",
              "    <tr>\n",
              "      <th>7998</th>\n",
              "      <td>-0.059316</td>\n",
              "      <td>-1.260532</td>\n",
              "      <td>-1.010471</td>\n",
              "      <td>-0.877808</td>\n",
              "      <td>-0.779769</td>\n",
              "      <td>0.828824</td>\n",
              "      <td>0.516923</td>\n",
              "      <td>0.018984</td>\n",
              "      <td>-0.182448</td>\n",
              "      <td>-0.388255</td>\n",
              "      <td>-0.726781</td>\n",
              "      <td>1.667916</td>\n",
              "    </tr>\n",
              "    <tr>\n",
              "      <th>7999</th>\n",
              "      <td>-1.473214</td>\n",
              "      <td>0.638438</td>\n",
              "      <td>0.250122</td>\n",
              "      <td>-0.996484</td>\n",
              "      <td>1.950944</td>\n",
              "      <td>-1.163800</td>\n",
              "      <td>-0.732842</td>\n",
              "      <td>-1.513302</td>\n",
              "      <td>1.230437</td>\n",
              "      <td>-1.174110</td>\n",
              "      <td>1.179282</td>\n",
              "      <td>0.783627</td>\n",
              "    </tr>\n",
              "  </tbody>\n",
              "</table>\n",
              "<p>8000 rows × 12 columns</p>\n",
              "</div>"
            ],
            "text/plain": [
              "          tau1      tau2      tau3      tau4        p1        p2        p3  \\\n",
              "0     0.367327 -0.986042  0.650447  1.547527 -0.291490  0.061535  1.293862   \n",
              "1    -0.064659  0.089437  1.035079 -1.641494  0.619865 -0.067235 -1.502925   \n",
              "2    -1.467850  1.298418 -0.502536  1.166046 -0.180521  0.490603  0.682560   \n",
              "3     0.820081  0.529920  1.299657 -1.141975 -0.812854 -0.763632  1.521579   \n",
              "4     0.665424 -1.425627  0.312300  0.919137 -1.614296  0.760315  1.422019   \n",
              "...        ...       ...       ...       ...       ...       ...       ...   \n",
              "7995  1.551314  0.007408 -1.177640  1.016898 -0.397177  0.759820 -0.636951   \n",
              "7996  1.015925 -0.223483 -1.489381 -1.479078  0.451468 -0.731994  0.990355   \n",
              "7997  0.657609 -0.722756 -1.405888 -0.274301 -0.012584  1.438694 -0.364266   \n",
              "7998 -0.059316 -1.260532 -1.010471 -0.877808 -0.779769  0.828824  0.516923   \n",
              "7999 -1.473214  0.638438  0.250122 -0.996484  1.950944 -1.163800 -0.732842   \n",
              "\n",
              "            p4        g1        g2        g3        g4  \n",
              "0    -0.845074  0.160918  0.339859  0.585568  0.492239  \n",
              "1     0.486613 -0.293143 -1.558488  1.429649 -1.443521  \n",
              "2    -0.855302  1.399350  1.451534 -1.045743  0.492489  \n",
              "3     0.658780 -0.958319  1.361958  1.604140  0.275303  \n",
              "4     0.639243  1.676895  0.695660  1.137504 -1.312575  \n",
              "...        ...       ...       ...       ...       ...  \n",
              "7995  0.572703 -1.209413  0.313976 -1.625728 -0.637401  \n",
              "7996 -1.048148 -1.094647 -0.755209  0.734821 -0.304433  \n",
              "7997 -1.046683  1.253539  0.293100 -1.550587  0.810344  \n",
              "7998  0.018984 -0.182448 -0.388255 -0.726781  1.667916  \n",
              "7999 -1.513302  1.230437 -1.174110  1.179282  0.783627  \n",
              "\n",
              "[8000 rows x 12 columns]"
            ]
          },
          "execution_count": 119,
          "metadata": {},
          "output_type": "execute_result"
        }
      ],
      "source": [
        "\n",
        "x_train_scaled"
      ]
    },
    {
      "cell_type": "code",
      "execution_count": null,
      "id": "cf90daf4",
      "metadata": {
        "id": "cf90daf4"
      },
      "outputs": [],
      "source": [
        "# Building a Model"
      ]
    },
    {
      "cell_type": "code",
      "execution_count": null,
      "id": "ac26acd0",
      "metadata": {
        "id": "ac26acd0"
      },
      "outputs": [],
      "source": [
        "# Questions 14"
      ]
    },
    {
      "cell_type": "code",
      "execution_count": null,
      "id": "a669360a",
      "metadata": {
        "id": "a669360a",
        "outputId": "6abb8edd-b41c-4c60-f19b-204933ce5c3d"
      },
      "outputs": [
        {
          "data": {
            "text/plain": [
              "RandomForestClassifier(random_state=1)"
            ]
          },
          "execution_count": 121,
          "metadata": {},
          "output_type": "execute_result"
        }
      ],
      "source": [
        "#train a RandomForestClassifier\n",
        "from sklearn.ensemble import RandomForestClassifier\n",
        "\n",
        "rf = RandomForestClassifier(random_state = 1)\n",
        "\n",
        "#fit on train set\n",
        "rf.fit(x_train_scaled, y_train)\n",
        ""
      ]
    },
    {
      "cell_type": "code",
      "execution_count": null,
      "id": "fe312d52",
      "metadata": {
        "id": "fe312d52"
      },
      "outputs": [],
      "source": [
        "#make predictions on test set\n",
        "rf_pred = rf.predict(x_test_scaled)\n",
        ""
      ]
    },
    {
      "cell_type": "code",
      "execution_count": null,
      "id": "48cbdc89",
      "metadata": {
        "id": "48cbdc89",
        "outputId": "47a20ef8-8411-4cb0-9f6e-1984282c93a9"
      },
      "outputs": [
        {
          "data": {
            "text/plain": [
              "array(['unstable', 'unstable', 'stable', ..., 'stable', 'stable',\n",
              "       'unstable'], dtype=object)"
            ]
          },
          "execution_count": 123,
          "metadata": {},
          "output_type": "execute_result"
        }
      ],
      "source": [
        "rf_pred"
      ]
    },
    {
      "cell_type": "code",
      "execution_count": null,
      "id": "5266cd4f",
      "metadata": {
        "id": "5266cd4f"
      },
      "outputs": [],
      "source": [
        "y_train1 = rf.predict(x_test_scaled)"
      ]
    },
    {
      "cell_type": "code",
      "execution_count": null,
      "id": "7b53c5a4",
      "metadata": {
        "id": "7b53c5a4",
        "outputId": "a48323f1-4d58-4563-9e33-1e7d2cd7080e"
      },
      "outputs": [
        {
          "data": {
            "text/plain": [
              "array(['unstable', 'unstable', 'stable', ..., 'stable', 'stable',\n",
              "       'unstable'], dtype=object)"
            ]
          },
          "execution_count": 59,
          "metadata": {},
          "output_type": "execute_result"
        }
      ],
      "source": [
        "y_train1"
      ]
    },
    {
      "cell_type": "code",
      "execution_count": null,
      "id": "e3000682",
      "metadata": {
        "id": "e3000682"
      },
      "outputs": [],
      "source": []
    },
    {
      "cell_type": "code",
      "execution_count": null,
      "id": "53094258",
      "metadata": {
        "id": "53094258",
        "outputId": "f6fd17a6-acfc-4083-ea76-86cf9402cc46"
      },
      "outputs": [
        {
          "data": {
            "text/plain": [
              "2694    unstable\n",
              "5140    unstable\n",
              "2568    unstable\n",
              "3671    unstable\n",
              "7427    unstable\n",
              "          ...   \n",
              "2895      stable\n",
              "7813      stable\n",
              "905     unstable\n",
              "5192    unstable\n",
              "235       stable\n",
              "Name: stabf, Length: 8000, dtype: object"
            ]
          },
          "execution_count": 60,
          "metadata": {},
          "output_type": "execute_result"
        }
      ],
      "source": [
        "y_train"
      ]
    },
    {
      "cell_type": "code",
      "execution_count": null,
      "id": "35d93ed2",
      "metadata": {
        "id": "35d93ed2"
      },
      "outputs": [],
      "source": []
    },
    {
      "cell_type": "code",
      "execution_count": null,
      "id": "953f5934",
      "metadata": {
        "id": "953f5934",
        "outputId": "1ae94a94-0d1c-4d1c-b516-94e1c3f1247d"
      },
      "outputs": [
        {
          "name": "stdout",
          "output_type": "stream",
          "text": [
            "Accuracy: 93\n",
            "Precision: 92\n",
            "Recall: 88\n",
            "F1: 90\n",
            "Classification Report:\n",
            "               precision    recall  f1-score   support\n",
            "\n",
            "      stable     0.9191    0.8778    0.8980       712\n",
            "    unstable     0.9341    0.9573    0.9456      1288\n",
            "\n",
            "    accuracy                         0.9290      2000\n",
            "   macro avg     0.9266    0.9176    0.9218      2000\n",
            "weighted avg     0.9288    0.9290    0.9286      2000\n",
            "\n",
            "Confusion Matrix:\n",
            " [[1233   55]\n",
            " [  87  625]]\n"
          ]
        }
      ],
      "source": [
        "#model accuracy\n",
        "from sklearn.metrics import accuracy_score\n",
        "\n",
        "accuracy = accuracy_score(y_test, rf_pred)\n",
        "print('Accuracy: {}'.format(round(accuracy*100), 4))\n",
        "\n",
        "from sklearn.metrics import recall_score, precision_score, f1_score, confusion_matrix, classification_report\n",
        "\n",
        "#precision\n",
        "precision = precision_score(y_test, rf_pred, pos_label='stable')\n",
        "print('Precision: {}'.format(round(precision*100), 2))\n",
        "\n",
        "#recall\n",
        "recall = recall_score(y_test, rf_pred, pos_label='stable')\n",
        "print('Recall: {}'.format(round(recall*100), 2))\n",
        "\n",
        "#F1 score\n",
        "f1 = f1_score(y_test, rf_pred, pos_label='stable')\n",
        "print('F1: {}'.format(round(f1*100), 2))\n",
        "\n",
        "#classification report\n",
        "print('Classification Report:\\n', classification_report(y_test,rf_pred, digits =4))\n",
        "\n",
        "#confusion matrix\n",
        "rf_cnf_mat = confusion_matrix(y_test, rf_pred, labels=['unstable', 'stable'])\n",
        "print('Confusion Matrix:\\n', rf_cnf_mat)\n",
        ""
      ]
    },
    {
      "cell_type": "code",
      "execution_count": null,
      "id": "dc26a469",
      "metadata": {
        "id": "dc26a469",
        "outputId": "27aaa151-2c11-4391-a568-ae85ab6614b5"
      },
      "outputs": [
        {
          "name": "stdout",
          "output_type": "stream",
          "text": [
            "Training set score: 1.000\n",
            "Test set score: 0.929\n"
          ]
        }
      ],
      "source": [
        "print(\"Training set score: {:.3f}\".format(rf.score(x_train_scaled, y_train)))\n",
        "print(\"Test set score: {:.3f}\".format(rf.score(x_test_scaled, y_test).round(6)))\n"
      ]
    },
    {
      "cell_type": "code",
      "execution_count": null,
      "id": "bba183c5",
      "metadata": {
        "id": "bba183c5"
      },
      "outputs": [],
      "source": [
        "# ExtraTreeClassifier"
      ]
    },
    {
      "cell_type": "code",
      "execution_count": null,
      "id": "9a6db6d3",
      "metadata": {
        "id": "9a6db6d3",
        "outputId": "493351f7-51af-4361-ac14-eec7d942e6c8"
      },
      "outputs": [
        {
          "data": {
            "text/plain": [
              "ExtraTreesClassifier(random_state=1)"
            ]
          },
          "execution_count": 64,
          "metadata": {},
          "output_type": "execute_result"
        }
      ],
      "source": [
        "from sklearn.ensemble import ExtraTreesClassifier\n",
        "\n",
        "etc = ExtraTreesClassifier(random_state = 1)\n",
        "\n",
        "#fit on the train set\n",
        "etc.fit(x_train_scaled, y_train)\n",
        ""
      ]
    },
    {
      "cell_type": "code",
      "execution_count": null,
      "id": "a54dd7bb",
      "metadata": {
        "id": "a54dd7bb",
        "outputId": "3cfbbad2-af67-4177-c7ef-7669001fb474"
      },
      "outputs": [
        {
          "data": {
            "text/plain": [
              "array(['unstable', 'unstable', 'stable', ..., 'stable', 'unstable',\n",
              "       'unstable'], dtype=object)"
            ]
          },
          "execution_count": 65,
          "metadata": {},
          "output_type": "execute_result"
        }
      ],
      "source": [
        "#predict on test set\n",
        "etc_pred = etc.predict(x_test_scaled)\n",
        "etc_pred"
      ]
    },
    {
      "cell_type": "code",
      "execution_count": null,
      "id": "d3dc3614",
      "metadata": {
        "id": "d3dc3614"
      },
      "outputs": [],
      "source": [
        "# AUESTIONS ONE USING THE"
      ]
    },
    {
      "cell_type": "code",
      "execution_count": null,
      "id": "975f71b3",
      "metadata": {
        "id": "975f71b3"
      },
      "outputs": [],
      "source": [
        "\n",
        "# Measuring Model Performance for ExtraTreeClassifier"
      ]
    },
    {
      "cell_type": "code",
      "execution_count": null,
      "id": "9e04f304",
      "metadata": {
        "id": "9e04f304",
        "outputId": "aded0568-0cf5-46f8-88b8-572e3a2bee2a"
      },
      "outputs": [
        {
          "name": "stdout",
          "output_type": "stream",
          "text": [
            "Accuracy: 93\n",
            "Precision: 94\n",
            "Recall: 85\n",
            "F1: 89\n",
            "Classification Report:\n",
            "               precision    recall  f1-score   support\n",
            "\n",
            "      stable     0.9410    0.8511    0.8938       712\n",
            "    unstable     0.9218    0.9705    0.9455      1288\n",
            "\n",
            "    accuracy                         0.9280      2000\n",
            "   macro avg     0.9314    0.9108    0.9197      2000\n",
            "weighted avg     0.9287    0.9280    0.9271      2000\n",
            "\n",
            "Confusion Matrix:\n",
            " [[ 606  106]\n",
            " [  38 1250]]\n"
          ]
        }
      ],
      "source": [
        "#model accuracy\n",
        "etc_accuracy = accuracy_score(y_test, etc_pred)\n",
        "print('Accuracy: {}'.format(round(etc_accuracy*100), 2))\n",
        "\n",
        "#precision\n",
        "etc_precision = precision_score(y_test, etc_pred, pos_label='stable')\n",
        "print('Precision: {}'.format(round(etc_precision*100), 2))\n",
        "\n",
        "#recall\n",
        "etc_recall = recall_score(y_test, etc_pred, pos_label='stable')\n",
        "print('Recall: {}'.format(round(etc_recall*100), 2))\n",
        "\n",
        "#F1 score\n",
        "etc_f1 = f1_score(y_test, etc_pred, pos_label='stable')\n",
        "print('F1: {}'.format(round(etc_f1*100), 2))\n",
        "\n",
        "#classification report\n",
        "print('Classification Report:\\n', classification_report(y_test,etc_pred, digits =4))\n",
        "\n",
        "#confusion matrix\n",
        "etc_cnf_mat = confusion_matrix(y_test, etc_pred)\n",
        "print('Confusion Matrix:\\n', etc_cnf_mat)\n",
        "\n",
        "\n"
      ]
    },
    {
      "cell_type": "code",
      "execution_count": null,
      "id": "f489f2d7",
      "metadata": {
        "id": "f489f2d7",
        "outputId": "14a502c5-97f3-48fb-96e9-1e657f98069c"
      },
      "outputs": [
        {
          "name": "stdout",
          "output_type": "stream",
          "text": [
            "Training set score: 1.000\n",
            "Test set score: 0.928\n"
          ]
        }
      ],
      "source": [
        "print(\"Training set score: {:.3f}\".format(etc.score(x_train_scaled, y_train)))\n",
        "print(\"Test set score: {:.3f}\".format(etc.score(x_test_scaled, y_test)))\n"
      ]
    },
    {
      "cell_type": "code",
      "execution_count": null,
      "id": "a6d1cb2d",
      "metadata": {
        "id": "a6d1cb2d"
      },
      "outputs": [],
      "source": [
        "#XGBoost"
      ]
    },
    {
      "cell_type": "code",
      "execution_count": null,
      "id": "f679fad3",
      "metadata": {
        "id": "f679fad3",
        "outputId": "a478769b-3d89-4db2-d85f-52de2d0d2417"
      },
      "outputs": [
        {
          "name": "stdout",
          "output_type": "stream",
          "text": [
            "Requirement already satisfied: xgboost in c:\\users\\hp\\onedrive\\new folder\\new folder\\lib\\site-packages (1.7.6)\n",
            "Requirement already satisfied: scipy in c:\\users\\hp\\onedrive\\new folder\\new folder\\lib\\site-packages (from xgboost) (1.9.1)\n",
            "Requirement already satisfied: numpy in c:\\users\\hp\\onedrive\\new folder\\new folder\\lib\\site-packages (from xgboost) (1.21.5)\n",
            "Note: you may need to restart the kernel to use updated packages.\n"
          ]
        }
      ],
      "source": [
        "pip install xgboost"
      ]
    },
    {
      "cell_type": "code",
      "execution_count": null,
      "id": "c569a6b4",
      "metadata": {
        "id": "c569a6b4"
      },
      "outputs": [],
      "source": [
        "#Standard scaler\n",
        "#ignore the y variable since it is an object type.\n",
        "\n",
        "from sklearn.preprocessing import StandardScaler\n",
        "scaler = StandardScaler()\n",
        "\n",
        "normalised_train_df = scaler.fit_transform(x_train)\n",
        "normalised_train_df = pd.DataFrame(normalised_train_df, columns = x_train.columns)\n",
        "\n",
        "normalised_test_df = scaler.transform(x_test)\n",
        "normalised_test_df = pd.DataFrame(normalised_test_df, columns = x_test.columns)\n"
      ]
    },
    {
      "cell_type": "code",
      "execution_count": null,
      "id": "1c2c3f9e",
      "metadata": {
        "id": "1c2c3f9e",
        "outputId": "309182d3-4ffe-4013-a01f-223c62b26757"
      },
      "outputs": [
        {
          "data": {
            "text/plain": [
              "9953    unstable\n",
              "3850    unstable\n",
              "4962      stable\n",
              "3886      stable\n",
              "5437    unstable\n",
              "          ...   \n",
              "3919      stable\n",
              "162       stable\n",
              "7903      stable\n",
              "2242    unstable\n",
              "2745    unstable\n",
              "Name: stabf, Length: 2000, dtype: object"
            ]
          },
          "execution_count": 72,
          "metadata": {},
          "output_type": "execute_result"
        }
      ],
      "source": [
        "y_test"
      ]
    },
    {
      "cell_type": "code",
      "execution_count": null,
      "id": "1be55a16",
      "metadata": {
        "id": "1be55a16"
      },
      "outputs": [],
      "source": []
    },
    {
      "cell_type": "code",
      "execution_count": null,
      "id": "5f67c006",
      "metadata": {
        "id": "5f67c006",
        "outputId": "60b76bbe-f362-4aa8-b0d8-d8a6ffa25585"
      },
      "outputs": [
        {
          "data": {
            "text/plain": [
              "2694    unstable\n",
              "5140    unstable\n",
              "2568    unstable\n",
              "3671    unstable\n",
              "7427    unstable\n",
              "          ...   \n",
              "2895      stable\n",
              "7813      stable\n",
              "905     unstable\n",
              "5192    unstable\n",
              "235       stable\n",
              "Name: stabf, Length: 8000, dtype: object"
            ]
          },
          "execution_count": 73,
          "metadata": {},
          "output_type": "execute_result"
        }
      ],
      "source": [
        "y_train"
      ]
    },
    {
      "cell_type": "code",
      "execution_count": null,
      "id": "4b9dfab8",
      "metadata": {
        "id": "4b9dfab8",
        "outputId": "8dc56a40-1bde-4787-91ca-94ba6603aaca"
      },
      "outputs": [
        {
          "data": {
            "text/plain": [
              "2694    0\n",
              "5140    0\n",
              "2568    0\n",
              "3671    0\n",
              "7427    0\n",
              "       ..\n",
              "2895    1\n",
              "7813    1\n",
              "905     0\n",
              "5192    0\n",
              "235     1\n",
              "Name: stabf, Length: 8000, dtype: int64"
            ]
          },
          "execution_count": 74,
          "metadata": {},
          "output_type": "execute_result"
        }
      ],
      "source": [
        "y_train.replace({'stable': 1, 'unstable': 0})"
      ]
    },
    {
      "cell_type": "code",
      "execution_count": null,
      "id": "69e48a89",
      "metadata": {
        "id": "69e48a89"
      },
      "outputs": [],
      "source": [
        "y_train_pred = y_train.replace({'stable': 1, 'unstable': 0})"
      ]
    },
    {
      "cell_type": "code",
      "execution_count": null,
      "id": "a078eb08",
      "metadata": {
        "id": "a078eb08"
      },
      "outputs": [],
      "source": [
        "from xgboost import XGBClassifier\n",
        "xbg = XGBClassifier(random_state=1)\n",
        "\n",
        "#fit on train set\n",
        "xbg.fit(normalised_train_df, y_train_pred)\n",
        "\n",
        "#predict on test set\n",
        "xbg_pred = xbg.predict(normalised_test_df)"
      ]
    },
    {
      "cell_type": "code",
      "execution_count": null,
      "id": "d3759ec5",
      "metadata": {
        "id": "d3759ec5"
      },
      "outputs": [],
      "source": [
        "# QUESTIONS 15"
      ]
    },
    {
      "cell_type": "code",
      "execution_count": null,
      "id": "0b1623ef",
      "metadata": {
        "id": "0b1623ef",
        "outputId": "0b4b5030-5975-40ba-fdfa-d41a8743ba5c"
      },
      "outputs": [
        {
          "data": {
            "text/plain": [
              "XGBClassifier(base_score=None, booster=None, callbacks=None,\n",
              "              colsample_bylevel=None, colsample_bynode=None,\n",
              "              colsample_bytree=None, early_stopping_rounds=None,\n",
              "              enable_categorical=False, eval_metric=None, feature_types=None,\n",
              "              gamma=None, gpu_id=None, grow_policy=None, importance_type=None,\n",
              "              interaction_constraints=None, learning_rate=None, max_bin=None,\n",
              "              max_cat_threshold=None, max_cat_to_onehot=None,\n",
              "              max_delta_step=None, max_depth=None, max_leaves=None,\n",
              "              min_child_weight=None, missing=nan, monotone_constraints=None,\n",
              "              n_estimators=100, n_jobs=None, num_parallel_tree=None,\n",
              "              predictor=None, random_state=1, ...)"
            ]
          },
          "execution_count": 77,
          "metadata": {},
          "output_type": "execute_result"
        }
      ],
      "source": [
        "from xgboost import XGBClassifier\n",
        "\n",
        "xbc= XGBClassifier(random_state = 1)\n",
        "\n",
        "#fit on train set\n",
        "xbc.fit(x_train_scaled, y_train_pred)\n",
        ""
      ]
    },
    {
      "cell_type": "code",
      "execution_count": null,
      "id": "3a81ba62",
      "metadata": {
        "id": "3a81ba62"
      },
      "outputs": [],
      "source": [
        "#predict on test set\n",
        "xbc_pred = xbc.predict(x_test_scaled)\n",
        ""
      ]
    },
    {
      "cell_type": "code",
      "execution_count": null,
      "id": "40dcf9b2",
      "metadata": {
        "id": "40dcf9b2",
        "outputId": "8db76479-6dec-4e1e-d8b7-cda13e0a90cd"
      },
      "outputs": [
        {
          "data": {
            "text/plain": [
              "array([0, 0, 1, ..., 1, 0, 0])"
            ]
          },
          "execution_count": 79,
          "metadata": {},
          "output_type": "execute_result"
        }
      ],
      "source": [
        "xbc_pred"
      ]
    },
    {
      "cell_type": "code",
      "execution_count": null,
      "id": "69919150",
      "metadata": {
        "id": "69919150",
        "outputId": "28dca667-09dc-4038-a24f-5ea0528a7eac"
      },
      "outputs": [
        {
          "data": {
            "text/plain": [
              "2694    unstable\n",
              "5140    unstable\n",
              "2568    unstable\n",
              "3671    unstable\n",
              "7427    unstable\n",
              "          ...   \n",
              "2895      stable\n",
              "7813      stable\n",
              "905     unstable\n",
              "5192    unstable\n",
              "235       stable\n",
              "Name: stabf, Length: 8000, dtype: object"
            ]
          },
          "execution_count": 80,
          "metadata": {},
          "output_type": "execute_result"
        }
      ],
      "source": [
        "y_train"
      ]
    },
    {
      "cell_type": "code",
      "execution_count": null,
      "id": "3c374e3e",
      "metadata": {
        "id": "3c374e3e"
      },
      "outputs": [],
      "source": [
        "y_train_pred = y_train.replace({'stable': 1, 'unstable': 0})"
      ]
    },
    {
      "cell_type": "code",
      "execution_count": null,
      "id": "ec32aa4f",
      "metadata": {
        "id": "ec32aa4f"
      },
      "outputs": [],
      "source": [
        "# Measuring Model Performace for XGB Classifier"
      ]
    },
    {
      "cell_type": "code",
      "execution_count": null,
      "id": "c51df418",
      "metadata": {
        "id": "c51df418",
        "outputId": "2c797e0d-af54-4ecc-fd25-5baa6b1d200e"
      },
      "outputs": [
        {
          "name": "stdout",
          "output_type": "stream",
          "text": [
            "X_train shape: (5000, 12)\n",
            "y_train shape: (5000,)\n",
            "X_test shape: (5000, 12)\n",
            "y_test shape: (5000,)\n"
          ]
        }
      ],
      "source": [
        "# USING THE SPLIT OF TEST = 20 AND TRAIN - 80 WILL NOT WORK SO i SPLIT IT TO BE 50-50\n",
        "\n",
        "#Split the dataset\n",
        "from sklearn.model_selection import train_test_split\n",
        "\n",
        "x_train, x_test, y_train, y_test = train_test_split(x, y, test_size = 0.5, random_state=1)\n",
        "\n",
        "print('X_train shape: {}'.format(x_train.shape))\n",
        "print('y_train shape: {}'.format(y_train.shape))\n",
        "print('X_test shape: {}'.format(x_test.shape))\n",
        "print('y_test shape: {}'.format(y_test.shape))\n",
        ""
      ]
    },
    {
      "cell_type": "code",
      "execution_count": null,
      "id": "acfa2c6e",
      "metadata": {
        "id": "acfa2c6e",
        "outputId": "c88eb50d-4860-4a85-d74a-1c0a1f929119"
      },
      "outputs": [
        {
          "name": "stdout",
          "output_type": "stream",
          "text": [
            "Accuracy: 54\n",
            "Precision: 37\n",
            "Recall: 37\n",
            "F1: 37\n",
            "Classification Report:\n",
            "               precision    recall  f1-score   support\n",
            "\n",
            "      stable     0.3731    0.3694    0.3713      1819\n",
            "    unstable     0.6415    0.6451    0.6433      3181\n",
            "\n",
            "    accuracy                         0.5448      5000\n",
            "   macro avg     0.5073    0.5073    0.5073      5000\n",
            "weighted avg     0.5438    0.5448    0.5443      5000\n",
            "\n",
            "Confusion Matrix:\n",
            " [[ 672 1147]\n",
            " [1129 2052]]\n"
          ]
        }
      ],
      "source": [
        "\n",
        "#model accuracy\n",
        "xbc_accuracy = accuracy_score(y_test, y_train )\n",
        "print('Accuracy: {}'.format(round(xbc_accuracy*100), 2))\n",
        "\n",
        "#precision\n",
        "xbc_precision = precision_score(y_test, y_train, pos_label='stable')\n",
        "print('Precision: {}'.format(round(xbc_precision*100), 2))\n",
        "\n",
        "#recall\n",
        "xbc_recall = recall_score(y_test, y_train, pos_label='stable')\n",
        "print('Recall: {}'.format(round(xbc_recall*100), 2))\n",
        "\n",
        "#F1 score\n",
        "xbc_f1 = f1_score(y_test, y_train, pos_label='stable')\n",
        "print('F1: {}'.format(round(xbc_f1*100), 2))\n",
        "\n",
        "#classification report\n",
        "print('Classification Report:\\n', classification_report(y_test,y_train, digits =4))\n",
        "\n",
        "#confusion matrix\n",
        "xbc_cnf_mat = confusion_matrix(y_test, y_train)\n",
        "print('Confusion Matrix:\\n', xbc_cnf_mat)\n",
        "\n"
      ]
    },
    {
      "cell_type": "code",
      "execution_count": null,
      "id": "8fcf070e",
      "metadata": {
        "id": "8fcf070e",
        "outputId": "cd03063e-052f-4962-c6fd-a00875678d55"
      },
      "outputs": [
        {
          "name": "stdout",
          "output_type": "stream",
          "text": [
            "Accuracy: 54\n",
            "Classification Report:\n",
            "               precision    recall  f1-score   support\n",
            "\n",
            "      stable     0.3731    0.3694    0.3713      1819\n",
            "    unstable     0.6415    0.6451    0.6433      3181\n",
            "\n",
            "    accuracy                         0.5448      5000\n",
            "   macro avg     0.5073    0.5073    0.5073      5000\n",
            "weighted avg     0.5438    0.5448    0.5443      5000\n",
            "\n"
          ]
        }
      ],
      "source": [
        "#Accuracy\n",
        "xbg_accuracy = accuracy_score(y_test, y_train)\n",
        "print('Accuracy: {}'.format(round(xbg_accuracy*100), 2))\n",
        "\n",
        "#Classification report\n",
        "print('Classification Report:\\n', classification_report(y_test,y_train, digits =4))\n"
      ]
    },
    {
      "cell_type": "code",
      "execution_count": null,
      "id": "6cb5c444",
      "metadata": {
        "id": "6cb5c444",
        "outputId": "11220eef-f3ba-4d5d-b612-913b2ad69773"
      },
      "outputs": [
        {
          "data": {
            "text/plain": [
              "4925      stable\n",
              "3341    unstable\n",
              "2470      stable\n",
              "270     unstable\n",
              "8123      stable\n",
              "          ...   \n",
              "2895      stable\n",
              "7813      stable\n",
              "905     unstable\n",
              "5192    unstable\n",
              "235       stable\n",
              "Name: stabf, Length: 5000, dtype: object"
            ]
          },
          "execution_count": 135,
          "metadata": {},
          "output_type": "execute_result"
        }
      ],
      "source": [
        "y_train"
      ]
    },
    {
      "cell_type": "code",
      "execution_count": null,
      "id": "ba8d4952",
      "metadata": {
        "id": "ba8d4952",
        "outputId": "0eef089c-0a6f-4f68-cc6b-09f5c1b5451c"
      },
      "outputs": [
        {
          "data": {
            "text/plain": [
              "0"
            ]
          },
          "execution_count": 136,
          "metadata": {},
          "output_type": "execute_result"
        }
      ],
      "source": [
        "y_test.isna().sum()"
      ]
    },
    {
      "cell_type": "code",
      "execution_count": null,
      "id": "82609aeb",
      "metadata": {
        "id": "82609aeb",
        "outputId": "d9fc66fd-72de-462b-c113-63dca70d6485"
      },
      "outputs": [
        {
          "data": {
            "text/plain": [
              "0"
            ]
          },
          "execution_count": 137,
          "metadata": {},
          "output_type": "execute_result"
        }
      ],
      "source": [
        "y_train.isna().sum()"
      ]
    },
    {
      "cell_type": "code",
      "execution_count": null,
      "id": "f9fce94d",
      "metadata": {
        "id": "f9fce94d",
        "outputId": "463285c0-25ba-40fc-c5b5-509cdcc92788"
      },
      "outputs": [
        {
          "name": "stdout",
          "output_type": "stream",
          "text": [
            "X_train shape: (8000, 12)\n",
            "y_train shape: (8000,)\n",
            "X_test shape: (2000, 12)\n",
            "y_test shape: (2000,)\n"
          ]
        }
      ],
      "source": [
        "#Split the dataset\n",
        "from sklearn.model_selection import train_test_split\n",
        "\n",
        "x_train, x_test, y_train, y_test = train_test_split(x, y, test_size = 0.2, random_state=1)\n",
        "\n",
        "print('X_train shape: {}'.format(x_train.shape))\n",
        "print('y_train shape: {}'.format(y_train.shape))\n",
        "print('X_test shape: {}'.format(x_test.shape))\n",
        "print('y_test shape: {}'.format(y_test.shape))\n",
        ""
      ]
    },
    {
      "cell_type": "code",
      "execution_count": null,
      "id": "28590387",
      "metadata": {
        "id": "28590387",
        "outputId": "17178ca9-5dd8-4f00-d41a-cd8353fbecc5"
      },
      "outputs": [
        {
          "name": "stdout",
          "output_type": "stream",
          "text": [
            "Training set score: 1.000\n",
            "Test set score: 0.929\n"
          ]
        }
      ],
      "source": [
        "print(\"Training set score: {:.3f}\".format(rf.score(x_train_scaled, y_train)))\n",
        "print(\"Test set score: {:.3f}\".format(rf.score(x_test_scaled, y_test)))\n"
      ]
    },
    {
      "cell_type": "code",
      "execution_count": null,
      "id": "5ed5e8af",
      "metadata": {
        "id": "5ed5e8af"
      },
      "outputs": [],
      "source": [
        "# QUESTIONS 16"
      ]
    },
    {
      "cell_type": "code",
      "execution_count": null,
      "id": "20f736d3",
      "metadata": {
        "id": "20f736d3"
      },
      "outputs": [],
      "source": [
        "# LightGBM Classifier"
      ]
    },
    {
      "cell_type": "code",
      "execution_count": null,
      "id": "09e71bef",
      "metadata": {
        "id": "09e71bef",
        "outputId": "61866d2a-71cb-4daf-c59a-80e25958a78e"
      },
      "outputs": [
        {
          "data": {
            "text/plain": [
              "LGBMClassifier(random_state=1)"
            ]
          },
          "execution_count": 143,
          "metadata": {},
          "output_type": "execute_result"
        }
      ],
      "source": [
        "from lightgbm import LGBMClassifier\n",
        "\n",
        "lgbm= LGBMClassifier(random_state = 1)\n",
        "\n",
        "#fit on train set\n",
        "lgbm.fit(x_train_scaled, y_train)"
      ]
    },
    {
      "cell_type": "code",
      "execution_count": null,
      "id": "7e0c1b43",
      "metadata": {
        "id": "7e0c1b43",
        "outputId": "21f02d56-4891-4723-cf99-6e073d83c5ec"
      },
      "outputs": [
        {
          "name": "stdout",
          "output_type": "stream",
          "text": [
            "Requirement already satisfied: LightGBM in c:\\users\\hp\\onedrive\\new folder\\new folder\\lib\\site-packages (3.3.5)\n",
            "Requirement already satisfied: scipy in c:\\users\\hp\\onedrive\\new folder\\new folder\\lib\\site-packages (from LightGBM) (1.9.1)\n",
            "Requirement already satisfied: numpy in c:\\users\\hp\\onedrive\\new folder\\new folder\\lib\\site-packages (from LightGBM) (1.21.5)\n",
            "Requirement already satisfied: wheel in c:\\users\\hp\\onedrive\\new folder\\new folder\\lib\\site-packages (from LightGBM) (0.37.1)\n",
            "Requirement already satisfied: scikit-learn!=0.22.0 in c:\\users\\hp\\onedrive\\new folder\\new folder\\lib\\site-packages (from LightGBM) (1.0.2)\n",
            "Requirement already satisfied: joblib>=0.11 in c:\\users\\hp\\onedrive\\new folder\\new folder\\lib\\site-packages (from scikit-learn!=0.22.0->LightGBM) (1.2.0)\n",
            "Requirement already satisfied: threadpoolctl>=2.0.0 in c:\\users\\hp\\onedrive\\new folder\\new folder\\lib\\site-packages (from scikit-learn!=0.22.0->LightGBM) (2.2.0)\n",
            "Note: you may need to restart the kernel to use updated packages.\n"
          ]
        }
      ],
      "source": [
        "pip install LightGBM"
      ]
    },
    {
      "cell_type": "code",
      "execution_count": null,
      "id": "0f67a0e9",
      "metadata": {
        "id": "0f67a0e9",
        "outputId": "fc02814f-1c94-4933-8e24-cbb62be6d5fc"
      },
      "outputs": [
        {
          "data": {
            "text/plain": [
              "LGBMClassifier(random_state=1)"
            ]
          },
          "execution_count": 145,
          "metadata": {},
          "output_type": "execute_result"
        }
      ],
      "source": [
        "from lightgbm import LGBMClassifier\n",
        "\n",
        "lgbm= LGBMClassifier(random_state = 1)\n",
        "\n",
        "#fit on train set\n",
        "lgbm.fit(x_train_scaled, y_train)"
      ]
    },
    {
      "cell_type": "code",
      "execution_count": null,
      "id": "318a49c3",
      "metadata": {
        "id": "318a49c3",
        "outputId": "a3e8f697-726a-462a-aabc-8582fab93253"
      },
      "outputs": [
        {
          "data": {
            "text/plain": [
              "array(['unstable', 'unstable', 'stable', ..., 'stable', 'unstable',\n",
              "       'unstable'], dtype=object)"
            ]
          },
          "execution_count": 146,
          "metadata": {},
          "output_type": "execute_result"
        }
      ],
      "source": [
        "#predict on test set\n",
        "lgbm_pred = lgbm.predict(x_test_scaled)\n",
        "lgbm_pred"
      ]
    },
    {
      "cell_type": "code",
      "execution_count": null,
      "id": "4a90b919",
      "metadata": {
        "id": "4a90b919"
      },
      "outputs": [],
      "source": [
        "# Model Performance for LGBM Classifier"
      ]
    },
    {
      "cell_type": "code",
      "execution_count": null,
      "id": "54d482a5",
      "metadata": {
        "id": "54d482a5",
        "outputId": "220afeb9-ed39-42c0-9b1d-85b2405530e5"
      },
      "outputs": [
        {
          "name": "stdout",
          "output_type": "stream",
          "text": [
            "Accuracy: 94\n",
            "Precision: 93\n",
            "Recall: 90\n",
            "F1: 91\n",
            "Classification Report:\n",
            "               precision    recall  f1-score   support\n",
            "\n",
            "      stable     0.9276    0.9003    0.9138       712\n",
            "    unstable     0.9458    0.9612    0.9534      1288\n",
            "\n",
            "    accuracy                         0.9395      2000\n",
            "   macro avg     0.9367    0.9307    0.9336      2000\n",
            "weighted avg     0.9393    0.9395    0.9393      2000\n",
            "\n",
            "Confusion Matrix:\n",
            " [[ 641   71]\n",
            " [  50 1238]]\n"
          ]
        }
      ],
      "source": [
        "#model accuracy\n",
        "lgbm_accuracy = accuracy_score(y_test, lgbm_pred)\n",
        "print('Accuracy: {}'.format(round(lgbm_accuracy*100), 2))\n",
        "\n",
        "#precision\n",
        "lgbm_precision = precision_score(y_test, lgbm_pred, pos_label='stable')\n",
        "print('Precision: {}'.format(round(lgbm_precision*100), 2))\n",
        "\n",
        "#recall\n",
        "lgbm_recall = recall_score(y_test, lgbm_pred, pos_label='stable')\n",
        "print('Recall: {}'.format(round(lgbm_recall*100), 2))\n",
        "\n",
        "#F1 score\n",
        "lgbm_f1 = f1_score(y_test, lgbm_pred, pos_label='stable')\n",
        "print('F1: {}'.format(round(lgbm_f1*100), 2))\n",
        "\n",
        "#classification report\n",
        "print('Classification Report:\\n', classification_report(y_test,lgbm_pred, digits =4))\n",
        "\n",
        "#confusion matrix\n",
        "lgbm_cnf_mat = confusion_matrix(y_test, lgbm_pred)\n",
        "print('Confusion Matrix:\\n', lgbm_cnf_mat)\n",
        "\n",
        ""
      ]
    },
    {
      "cell_type": "code",
      "execution_count": null,
      "id": "60e0bc2b",
      "metadata": {
        "id": "60e0bc2b"
      },
      "outputs": [],
      "source": []
    },
    {
      "cell_type": "code",
      "execution_count": null,
      "id": "854e493a",
      "metadata": {
        "id": "854e493a"
      },
      "outputs": [],
      "source": [
        "# Improving ExtraTreesClassifier"
      ]
    },
    {
      "cell_type": "code",
      "execution_count": null,
      "id": "080a1d8f",
      "metadata": {
        "id": "080a1d8f",
        "outputId": "cffa8f9a-b256-4ffe-a0f1-59f60bbe6eb0"
      },
      "outputs": [
        {
          "data": {
            "text/plain": [
              "{'n_estimators': [50, 100, 300, 500, 1000],\n",
              " 'min_samples_leaf': [1, 2, 4, 6, 8],\n",
              " 'min_samples_split': [2, 3, 5, 7, 9],\n",
              " 'max_features': ['auto', 'sqrt', 'log2', None]}"
            ]
          },
          "execution_count": 150,
          "metadata": {},
          "output_type": "execute_result"
        }
      ],
      "source": [
        "#combination of hyperparameters\n",
        "n_estimators = [50, 100, 300, 500, 1000]\n",
        "\n",
        "min_samples_split = [2, 3, 5, 7, 9]\n",
        "\n",
        "min_samples_leaf = [1, 2, 4, 6, 8]\n",
        "\n",
        "max_features = ['auto', 'sqrt', 'log2', None]\n",
        "\n",
        "hyperparameter_grid = {'n_estimators': n_estimators,\n",
        "\n",
        "                       'min_samples_leaf': min_samples_leaf,\n",
        "\n",
        "                       'min_samples_split': min_samples_split,\n",
        "\n",
        "                       'max_features': max_features}\n",
        "\n",
        "hyperparameter_grid\n"
      ]
    },
    {
      "cell_type": "code",
      "execution_count": null,
      "id": "5fabd754",
      "metadata": {
        "id": "5fabd754",
        "outputId": "0ea22f48-5f46-45e3-e833-6ac6b1c8497b"
      },
      "outputs": [
        {
          "data": {
            "text/plain": [
              "RandomizedSearchCV(cv=5, estimator=ExtraTreesClassifier(random_state=1),\n",
              "                   n_jobs=-1,\n",
              "                   param_distributions={'max_features': ['auto', 'sqrt', 'log2',\n",
              "                                                         None],\n",
              "                                        'min_samples_leaf': [1, 2, 4, 6, 8],\n",
              "                                        'min_samples_split': [2, 3, 5, 7, 9],\n",
              "                                        'n_estimators': [50, 100, 300, 500,\n",
              "                                                         1000]},\n",
              "                   random_state=1, scoring='accuracy', verbose=1)"
            ]
          },
          "execution_count": 98,
          "metadata": {},
          "output_type": "execute_result"
        }
      ],
      "source": [
        "from sklearn.model_selection import RandomizedSearchCV\n",
        "\n",
        "#etc = ExtraTreesClassifier(random_state = 1)\n",
        "\n",
        "#set up randomsearch with 5folds\n",
        "randomcv = RandomizedSearchCV(estimator = etc,\n",
        "                              param_distributions = hyperparameter_grid, cv=5, n_iter=10, scoring = 'accuracy', n_jobs = -1, verbose = 1,\n",
        "                              random_state = 1)\n",
        "randomcv"
      ]
    },
    {
      "cell_type": "code",
      "execution_count": null,
      "id": "efe0a346",
      "metadata": {
        "id": "efe0a346",
        "outputId": "1956fcd9-46d7-4b52-fba5-121189b96c52"
      },
      "outputs": [
        {
          "name": "stdout",
          "output_type": "stream",
          "text": [
            "Fitting 5 folds for each of 10 candidates, totalling 50 fits\n"
          ]
        }
      ],
      "source": [
        "#fit on the training data\n",
        "search = randomcv.fit(x_train_scaled, y_train)\n",
        ""
      ]
    },
    {
      "cell_type": "code",
      "execution_count": null,
      "id": "70dd14f4",
      "metadata": {
        "id": "70dd14f4",
        "outputId": "cae992cc-e79e-4ab1-dad9-dcf383533729"
      },
      "outputs": [
        {
          "data": {
            "text/plain": [
              "{'n_estimators': 1000,\n",
              " 'min_samples_split': 2,\n",
              " 'min_samples_leaf': 8,\n",
              " 'max_features': None}"
            ]
          },
          "execution_count": 100,
          "metadata": {},
          "output_type": "execute_result"
        }
      ],
      "source": [
        "#get best parameters\n",
        "search.best_params_\n",
        ""
      ]
    },
    {
      "cell_type": "code",
      "execution_count": null,
      "id": "dec652ae",
      "metadata": {
        "id": "dec652ae",
        "outputId": "cd5b98c5-8685-4510-f96f-4017fe93db94"
      },
      "outputs": [
        {
          "data": {
            "text/plain": [
              "array([0.11739736, 0.11844468, 0.11316851, 0.11546569, 0.03950675,\n",
              "       0.04037132, 0.04070628, 0.04057864, 0.08978291, 0.09367636,\n",
              "       0.09688268, 0.09401882])"
            ]
          },
          "execution_count": 159,
          "metadata": {},
          "output_type": "execute_result"
        }
      ],
      "source": [
        "#check feature importances\n",
        "importance = etc.feature_importances_\n",
        "importance"
      ]
    },
    {
      "cell_type": "code",
      "execution_count": null,
      "id": "d6bb0313",
      "metadata": {
        "id": "d6bb0313",
        "outputId": "3eb11360-a731-4504-a869-a62caf1b069f"
      },
      "outputs": [
        {
          "name": "stdout",
          "output_type": "stream",
          "text": [
            "Feature: 0, Score: 0.11740\n",
            "Feature: 1, Score: 0.11844\n",
            "Feature: 2, Score: 0.11317\n",
            "Feature: 3, Score: 0.11547\n",
            "Feature: 4, Score: 0.03951\n",
            "Feature: 5, Score: 0.04037\n",
            "Feature: 6, Score: 0.04071\n",
            "Feature: 7, Score: 0.04058\n",
            "Feature: 8, Score: 0.08978\n",
            "Feature: 9, Score: 0.09368\n",
            "Feature: 10, Score: 0.09688\n",
            "Feature: 11, Score: 0.09402\n"
          ]
        }
      ],
      "source": [
        "#print feature importances\n",
        "for i,v in enumerate(importance):\n",
        "\tprint('Feature: %0d, Score: %.5f' % (i,v))\n",
        ""
      ]
    },
    {
      "cell_type": "code",
      "execution_count": null,
      "id": "7eeaf118",
      "metadata": {
        "id": "7eeaf118",
        "outputId": "752983f2-006c-4a4b-c8db-895dd7a7e9dd"
      },
      "outputs": [
        {
          "data": {
            "text/html": [
              "<div>\n",
              "<style scoped>\n",
              "    .dataframe tbody tr th:only-of-type {\n",
              "        vertical-align: middle;\n",
              "    }\n",
              "\n",
              "    .dataframe tbody tr th {\n",
              "        vertical-align: top;\n",
              "    }\n",
              "\n",
              "    .dataframe thead th {\n",
              "        text-align: right;\n",
              "    }\n",
              "</style>\n",
              "<table border=\"1\" class=\"dataframe\">\n",
              "  <thead>\n",
              "    <tr style=\"text-align: right;\">\n",
              "      <th></th>\n",
              "      <th>tau1</th>\n",
              "      <th>tau2</th>\n",
              "      <th>tau3</th>\n",
              "      <th>tau4</th>\n",
              "      <th>p1</th>\n",
              "      <th>p2</th>\n",
              "      <th>p3</th>\n",
              "      <th>p4</th>\n",
              "      <th>g1</th>\n",
              "      <th>g2</th>\n",
              "      <th>g3</th>\n",
              "      <th>g4</th>\n",
              "    </tr>\n",
              "  </thead>\n",
              "  <tbody>\n",
              "    <tr>\n",
              "      <th>0</th>\n",
              "      <td>0.367327</td>\n",
              "      <td>-0.986042</td>\n",
              "      <td>0.650447</td>\n",
              "      <td>1.547527</td>\n",
              "      <td>-0.291490</td>\n",
              "      <td>0.061535</td>\n",
              "      <td>1.293862</td>\n",
              "      <td>-0.845074</td>\n",
              "      <td>0.160918</td>\n",
              "      <td>0.339859</td>\n",
              "      <td>0.585568</td>\n",
              "      <td>0.492239</td>\n",
              "    </tr>\n",
              "    <tr>\n",
              "      <th>1</th>\n",
              "      <td>-0.064659</td>\n",
              "      <td>0.089437</td>\n",
              "      <td>1.035079</td>\n",
              "      <td>-1.641494</td>\n",
              "      <td>0.619865</td>\n",
              "      <td>-0.067235</td>\n",
              "      <td>-1.502925</td>\n",
              "      <td>0.486613</td>\n",
              "      <td>-0.293143</td>\n",
              "      <td>-1.558488</td>\n",
              "      <td>1.429649</td>\n",
              "      <td>-1.443521</td>\n",
              "    </tr>\n",
              "    <tr>\n",
              "      <th>2</th>\n",
              "      <td>-1.467850</td>\n",
              "      <td>1.298418</td>\n",
              "      <td>-0.502536</td>\n",
              "      <td>1.166046</td>\n",
              "      <td>-0.180521</td>\n",
              "      <td>0.490603</td>\n",
              "      <td>0.682560</td>\n",
              "      <td>-0.855302</td>\n",
              "      <td>1.399350</td>\n",
              "      <td>1.451534</td>\n",
              "      <td>-1.045743</td>\n",
              "      <td>0.492489</td>\n",
              "    </tr>\n",
              "    <tr>\n",
              "      <th>3</th>\n",
              "      <td>0.820081</td>\n",
              "      <td>0.529920</td>\n",
              "      <td>1.299657</td>\n",
              "      <td>-1.141975</td>\n",
              "      <td>-0.812854</td>\n",
              "      <td>-0.763632</td>\n",
              "      <td>1.521579</td>\n",
              "      <td>0.658780</td>\n",
              "      <td>-0.958319</td>\n",
              "      <td>1.361958</td>\n",
              "      <td>1.604140</td>\n",
              "      <td>0.275303</td>\n",
              "    </tr>\n",
              "    <tr>\n",
              "      <th>4</th>\n",
              "      <td>0.665424</td>\n",
              "      <td>-1.425627</td>\n",
              "      <td>0.312300</td>\n",
              "      <td>0.919137</td>\n",
              "      <td>-1.614296</td>\n",
              "      <td>0.760315</td>\n",
              "      <td>1.422019</td>\n",
              "      <td>0.639243</td>\n",
              "      <td>1.676895</td>\n",
              "      <td>0.695660</td>\n",
              "      <td>1.137504</td>\n",
              "      <td>-1.312575</td>\n",
              "    </tr>\n",
              "  </tbody>\n",
              "</table>\n",
              "</div>"
            ],
            "text/plain": [
              "       tau1      tau2      tau3      tau4        p1        p2        p3  \\\n",
              "0  0.367327 -0.986042  0.650447  1.547527 -0.291490  0.061535  1.293862   \n",
              "1 -0.064659  0.089437  1.035079 -1.641494  0.619865 -0.067235 -1.502925   \n",
              "2 -1.467850  1.298418 -0.502536  1.166046 -0.180521  0.490603  0.682560   \n",
              "3  0.820081  0.529920  1.299657 -1.141975 -0.812854 -0.763632  1.521579   \n",
              "4  0.665424 -1.425627  0.312300  0.919137 -1.614296  0.760315  1.422019   \n",
              "\n",
              "         p4        g1        g2        g3        g4  \n",
              "0 -0.845074  0.160918  0.339859  0.585568  0.492239  \n",
              "1  0.486613 -0.293143 -1.558488  1.429649 -1.443521  \n",
              "2 -0.855302  1.399350  1.451534 -1.045743  0.492489  \n",
              "3  0.658780 -0.958319  1.361958  1.604140  0.275303  \n",
              "4  0.639243  1.676895  0.695660  1.137504 -1.312575  "
            ]
          },
          "execution_count": 161,
          "metadata": {},
          "output_type": "execute_result"
        }
      ],
      "source": [
        "x_train_scaled.head()"
      ]
    },
    {
      "cell_type": "code",
      "execution_count": null,
      "id": "91e9822b",
      "metadata": {
        "id": "91e9822b",
        "outputId": "18f14fd4-7d88-433b-bd63-c8b220201b7b"
      },
      "outputs": [
        {
          "data": {
            "text/plain": [
              "0.9241249999999999"
            ]
          },
          "execution_count": 162,
          "metadata": {},
          "output_type": "execute_result"
        }
      ],
      "source": [
        "#get best score\n",
        "search.best_score_\n",
        ""
      ]
    },
    {
      "cell_type": "code",
      "execution_count": null,
      "id": "259fba9a",
      "metadata": {
        "id": "259fba9a",
        "outputId": "b31eb179-1ce8-428f-f949-1136d818d914"
      },
      "outputs": [
        {
          "data": {
            "text/plain": [
              "ExtraTreesClassifier(max_features=None, min_samples_leaf=8, n_estimators=1000,\n",
              "                     random_state=1)"
            ]
          },
          "execution_count": 163,
          "metadata": {},
          "output_type": "execute_result"
        }
      ],
      "source": [
        "#Evaluate ExtraTreesClassifier on test set using  best params\n",
        "etc2 = ExtraTreesClassifier(max_features = None,\n",
        "                            min_samples_leaf= 8,\n",
        "                            min_samples_split= 2,\n",
        "                            n_estimators= 1000,\n",
        "                            random_state = 1)\n",
        "\n",
        "#fit on train set\n",
        "etc2.fit(x_train_scaled, y_train)\n",
        ""
      ]
    },
    {
      "cell_type": "code",
      "execution_count": null,
      "id": "5f54b81c",
      "metadata": {
        "id": "5f54b81c"
      },
      "outputs": [],
      "source": [
        "\n",
        "\n",
        "\n",
        "\n",
        "#predict on test set\n",
        "etc2_pred = etc2.predict(x_test_scaled)\n",
        ""
      ]
    },
    {
      "cell_type": "code",
      "execution_count": null,
      "id": "96bd9f86",
      "metadata": {
        "id": "96bd9f86",
        "outputId": "1e302efe-1d5a-4ca1-cccf-14fd9f529242"
      },
      "outputs": [
        {
          "name": "stdout",
          "output_type": "stream",
          "text": [
            "Classification Report:\n",
            "               precision    recall  f1-score   support\n",
            "\n",
            "      stable     0.9211    0.8694    0.8945       712\n",
            "    unstable     0.9300    0.9589    0.9442      1288\n",
            "\n",
            "    accuracy                         0.9270      2000\n",
            "   macro avg     0.9256    0.9141    0.9193      2000\n",
            "weighted avg     0.9268    0.9270    0.9265      2000\n",
            "\n"
          ]
        }
      ],
      "source": [
        "#classification report\n",
        "print('Classification Report:\\n', classification_report(y_test,etc2_pred, digits =4))"
      ]
    },
    {
      "cell_type": "code",
      "execution_count": null,
      "id": "136f82f8",
      "metadata": {
        "id": "136f82f8",
        "outputId": "77e6b482-ce77-44ff-9d08-7ae700a6192b"
      },
      "outputs": [
        {
          "data": {
            "text/plain": [
              "<AxesSubplot:>"
            ]
          },
          "execution_count": 105,
          "metadata": {},
          "output_type": "execute_result"
        },
        {
          "data": {
            "image/png": "[encoded data removed]",
            "text/plain": [
              "<Figure size 640x480 with 1 Axes>"
            ]
          },
          "metadata": {},
          "output_type": "display_data"
        }
      ],
      "source": [
        "#plot graph of feature importance\n",
        "feat_importance = pd.Series(etc.feature_importances_, index = x.columns)\n",
        "feat_importance.nlargest(11).plot(kind='barh')\n"
      ]
    },
    {
      "cell_type": "code",
      "execution_count": null,
      "id": "6db78d1f",
      "metadata": {
        "id": "6db78d1f"
      },
      "outputs": [],
      "source": []
    },
    {
      "cell_type": "code",
      "execution_count": null,
      "id": "463bef8a",
      "metadata": {
        "id": "463bef8a"
      },
      "outputs": [],
      "source": []
    },
    {
      "cell_type": "code",
      "execution_count": null,
      "id": "6fb1c846",
      "metadata": {
        "id": "6fb1c846"
      },
      "outputs": [],
      "source": []
    },
    {
      "cell_type": "code",
      "execution_count": null,
      "id": "412e1de3",
      "metadata": {
        "id": "412e1de3"
      },
      "outputs": [],
      "source": []
    }
  ],
  "metadata": {
    "kernelspec": {
      "display_name": "Python 3 (ipykernel)",
      "language": "python",
      "name": "python3"
    },
    "language_info": {
      "codemirror_mode": {
        "name": "ipython",
        "version": 3
      },
      "file_extension": ".py",
      "mimetype": "text/x-python",
      "name": "python",
      "nbconvert_exporter": "python",
      "pygments_lexer": "ipython3",
      "version": "3.9.13"
    },
    "colab": {
      "provenance": [],
      "include_colab_link": true
    }
  },
  "nbformat": 4,
  "nbformat_minor": 5
}